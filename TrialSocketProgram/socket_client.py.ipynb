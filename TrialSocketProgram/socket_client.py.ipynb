{
 "cells": [
  {
   "cell_type": "code",
   "execution_count": null,
   "metadata": {},
   "outputs": [
    {
     "name": "stdout",
     "output_type": "stream",
     "text": [
      " -> hi\n"
     ]
    }
   ],
   "source": [
    "import socket\n",
    "\n",
    "\n",
    "def client_program():\n",
    "    host = socket.gethostname()  # as both code is running on same pc\n",
    "    port = 5000  # socket server port number\n",
    "\n",
    "    client_socket = socket.socket()  # instantiate\n",
    "    client_socket.connect((host, port))  # connect to the server\n",
    "\n",
    "    message = input(\" -> \")  # take input\n",
    "\n",
    "    while message.lower().strip() != 'bye':\n",
    "        client_socket.send(message.encode())  # send message\n",
    "        data = client_socket.recv(1024).decode()  # receive response\n",
    "        ack = client_socket.recv(1024).decode() \n",
    "        print('Received from server: ' + data)  # show in terminal\n",
    "        print('Received from server: ' + data)\n",
    "     #   ack=data+\" sent successfully\"\n",
    "      #  client_socket.send(ack.encode())   #  ack code\n",
    "        message = input(\" -> \")  # again take input\n",
    "        \n",
    "\n",
    "    client_socket.close()  # close the connection\n",
    "\n",
    "\n",
    "if __name__ == '__main__':\n",
    "    client_program()"
   ]
  },
  {
   "cell_type": "code",
   "execution_count": null,
   "metadata": {},
   "outputs": [],
   "source": []
  }
 ],
 "metadata": {
  "kernelspec": {
   "display_name": "Python 3",
   "language": "python",
   "name": "python3"
  },
  "language_info": {
   "codemirror_mode": {
    "name": "ipython",
    "version": 3
   },
   "file_extension": ".py",
   "mimetype": "text/x-python",
   "name": "python",
   "nbconvert_exporter": "python",
   "pygments_lexer": "ipython3",
   "version": "3.7.1"
  }
 },
 "nbformat": 4,
 "nbformat_minor": 2
}
