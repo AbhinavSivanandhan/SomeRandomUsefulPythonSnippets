{
 "cells": [
  {
   "cell_type": "code",
   "execution_count": 1,
   "metadata": {},
   "outputs": [],
   "source": [
    "import pandas as pd\n",
    "import matplotlib.pyplot as plt\n",
    "import numpy as np\n",
    "%matplotlib inline\n",
    "\n",
    "import matplotlib\n",
    "from sklearn import datasets\n",
    "from sklearn.cluster import KMeans\n",
    "import sklearn.metrics as sm\n",
    "import seaborn as sns\n",
    "from sklearn.preprocessing import LabelEncoder\n",
    "from sklearn.cluster import KMeans\n",
    "from sklearn.cluster import AgglomerativeClustering\n",
    "from sklearn.metrics import silhouette_score\n",
    "from sklearn.metrics import adjusted_rand_score"
   ]
  },
  {
   "cell_type": "code",
   "execution_count": 2,
   "metadata": {},
   "outputs": [],
   "source": [
    "Crime_Data = pd.read_csv('Crime_Data_from_2010_to_Present.csv',\n",
    "                        na_values = [None, 'NaN','Nothing'], header = 0) "
   ]
  },
  {
   "cell_type": "code",
   "execution_count": 3,
   "metadata": {},
   "outputs": [
    {
     "data": {
      "text/html": [
       "<div>\n",
       "<style scoped>\n",
       "    .dataframe tbody tr th:only-of-type {\n",
       "        vertical-align: middle;\n",
       "    }\n",
       "\n",
       "    .dataframe tbody tr th {\n",
       "        vertical-align: top;\n",
       "    }\n",
       "\n",
       "    .dataframe thead th {\n",
       "        text-align: right;\n",
       "    }\n",
       "</style>\n",
       "<table border=\"1\" class=\"dataframe\">\n",
       "  <thead>\n",
       "    <tr style=\"text-align: right;\">\n",
       "      <th></th>\n",
       "      <th>:@computed_region_2dna_qi2s</th>\n",
       "      <th>:@computed_region_k96s_3jcv</th>\n",
       "      <th>:@computed_region_kqwf_mjcx</th>\n",
       "      <th>:@computed_region_qz3q_ghft</th>\n",
       "      <th>:@computed_region_tatf_ua23</th>\n",
       "      <th>:@computed_region_ur2y_g4cx</th>\n",
       "      <th>area_id</th>\n",
       "      <th>area_name</th>\n",
       "      <th>crm_cd</th>\n",
       "      <th>crm_cd_1</th>\n",
       "      <th>...</th>\n",
       "      <th>premis_desc</th>\n",
       "      <th>rpt_dist_no</th>\n",
       "      <th>status</th>\n",
       "      <th>status_desc</th>\n",
       "      <th>time_occ</th>\n",
       "      <th>vict_age</th>\n",
       "      <th>vict_descent</th>\n",
       "      <th>vict_sex</th>\n",
       "      <th>weapon_desc</th>\n",
       "      <th>weapon_used_cd</th>\n",
       "    </tr>\n",
       "  </thead>\n",
       "  <tbody>\n",
       "    <tr>\n",
       "      <th>0</th>\n",
       "      <td>26.0</td>\n",
       "      <td>626.0</td>\n",
       "      <td>7.0</td>\n",
       "      <td>23667</td>\n",
       "      <td>1086.0</td>\n",
       "      <td>NaN</td>\n",
       "      <td>7</td>\n",
       "      <td>Wilshire</td>\n",
       "      <td>930</td>\n",
       "      <td>930</td>\n",
       "      <td>...</td>\n",
       "      <td>PARK/PLAYGROUND</td>\n",
       "      <td>724</td>\n",
       "      <td>AA</td>\n",
       "      <td>Adult Arrest</td>\n",
       "      <td>1050</td>\n",
       "      <td>41</td>\n",
       "      <td>B</td>\n",
       "      <td>M</td>\n",
       "      <td>VERBAL THREAT</td>\n",
       "      <td>511.0</td>\n",
       "    </tr>\n",
       "    <tr>\n",
       "      <th>1</th>\n",
       "      <td>26.0</td>\n",
       "      <td>635.0</td>\n",
       "      <td>7.0</td>\n",
       "      <td>23667</td>\n",
       "      <td>332.0</td>\n",
       "      <td>NaN</td>\n",
       "      <td>7</td>\n",
       "      <td>Wilshire</td>\n",
       "      <td>626</td>\n",
       "      <td>626</td>\n",
       "      <td>...</td>\n",
       "      <td>MULTI-UNIT DWELLING (APARTMENT, DUPLEX, ETC)</td>\n",
       "      <td>735</td>\n",
       "      <td>AA</td>\n",
       "      <td>Adult Arrest</td>\n",
       "      <td>600</td>\n",
       "      <td>27</td>\n",
       "      <td>O</td>\n",
       "      <td>F</td>\n",
       "      <td>STRONG-ARM (HANDS, FIST, FEET OR BODILY FORCE)</td>\n",
       "      <td>400.0</td>\n",
       "    </tr>\n",
       "    <tr>\n",
       "      <th>2</th>\n",
       "      <td>26.0</td>\n",
       "      <td>633.0</td>\n",
       "      <td>6.0</td>\n",
       "      <td>23679</td>\n",
       "      <td>809.0</td>\n",
       "      <td>NaN</td>\n",
       "      <td>7</td>\n",
       "      <td>Wilshire</td>\n",
       "      <td>930</td>\n",
       "      <td>930</td>\n",
       "      <td>...</td>\n",
       "      <td>PARKING LOT</td>\n",
       "      <td>721</td>\n",
       "      <td>AA</td>\n",
       "      <td>Adult Arrest</td>\n",
       "      <td>2350</td>\n",
       "      <td>20</td>\n",
       "      <td>H</td>\n",
       "      <td>F</td>\n",
       "      <td>VERBAL THREAT</td>\n",
       "      <td>511.0</td>\n",
       "    </tr>\n",
       "    <tr>\n",
       "      <th>3</th>\n",
       "      <td>52.0</td>\n",
       "      <td>612.0</td>\n",
       "      <td>12.0</td>\n",
       "      <td>23080</td>\n",
       "      <td>1229.0</td>\n",
       "      <td>NaN</td>\n",
       "      <td>7</td>\n",
       "      <td>Wilshire</td>\n",
       "      <td>626</td>\n",
       "      <td>626</td>\n",
       "      <td>...</td>\n",
       "      <td>MULTI-UNIT DWELLING (APARTMENT, DUPLEX, ETC)</td>\n",
       "      <td>759</td>\n",
       "      <td>AA</td>\n",
       "      <td>Adult Arrest</td>\n",
       "      <td>2330</td>\n",
       "      <td>35</td>\n",
       "      <td>O</td>\n",
       "      <td>M</td>\n",
       "      <td>UNKNOWN WEAPON/OTHER WEAPON</td>\n",
       "      <td>500.0</td>\n",
       "    </tr>\n",
       "    <tr>\n",
       "      <th>4</th>\n",
       "      <td>69.0</td>\n",
       "      <td>651.0</td>\n",
       "      <td>12.0</td>\n",
       "      <td>23080</td>\n",
       "      <td>1105.0</td>\n",
       "      <td>NaN</td>\n",
       "      <td>7</td>\n",
       "      <td>Wilshire</td>\n",
       "      <td>236</td>\n",
       "      <td>236</td>\n",
       "      <td>...</td>\n",
       "      <td>MULTI-UNIT DWELLING (APARTMENT, DUPLEX, ETC)</td>\n",
       "      <td>787</td>\n",
       "      <td>AO</td>\n",
       "      <td>Adult Other</td>\n",
       "      <td>2000</td>\n",
       "      <td>43</td>\n",
       "      <td>K</td>\n",
       "      <td>F</td>\n",
       "      <td>STRONG-ARM (HANDS, FIST, FEET OR BODILY FORCE)</td>\n",
       "      <td>400.0</td>\n",
       "    </tr>\n",
       "  </tbody>\n",
       "</table>\n",
       "<p>5 rows × 36 columns</p>\n",
       "</div>"
      ],
      "text/plain": [
       "   :@computed_region_2dna_qi2s  :@computed_region_k96s_3jcv  \\\n",
       "0                         26.0                        626.0   \n",
       "1                         26.0                        635.0   \n",
       "2                         26.0                        633.0   \n",
       "3                         52.0                        612.0   \n",
       "4                         69.0                        651.0   \n",
       "\n",
       "   :@computed_region_kqwf_mjcx  :@computed_region_qz3q_ghft  \\\n",
       "0                          7.0                        23667   \n",
       "1                          7.0                        23667   \n",
       "2                          6.0                        23679   \n",
       "3                         12.0                        23080   \n",
       "4                         12.0                        23080   \n",
       "\n",
       "   :@computed_region_tatf_ua23  :@computed_region_ur2y_g4cx  area_id  \\\n",
       "0                       1086.0                          NaN        7   \n",
       "1                        332.0                          NaN        7   \n",
       "2                        809.0                          NaN        7   \n",
       "3                       1229.0                          NaN        7   \n",
       "4                       1105.0                          NaN        7   \n",
       "\n",
       "  area_name  crm_cd  crm_cd_1  ...  \\\n",
       "0  Wilshire     930       930  ...   \n",
       "1  Wilshire     626       626  ...   \n",
       "2  Wilshire     930       930  ...   \n",
       "3  Wilshire     626       626  ...   \n",
       "4  Wilshire     236       236  ...   \n",
       "\n",
       "                                    premis_desc  rpt_dist_no  status  \\\n",
       "0                               PARK/PLAYGROUND          724      AA   \n",
       "1  MULTI-UNIT DWELLING (APARTMENT, DUPLEX, ETC)          735      AA   \n",
       "2                                   PARKING LOT          721      AA   \n",
       "3  MULTI-UNIT DWELLING (APARTMENT, DUPLEX, ETC)          759      AA   \n",
       "4  MULTI-UNIT DWELLING (APARTMENT, DUPLEX, ETC)          787      AO   \n",
       "\n",
       "    status_desc time_occ vict_age vict_descent  vict_sex  \\\n",
       "0  Adult Arrest     1050       41            B         M   \n",
       "1  Adult Arrest      600       27            O         F   \n",
       "2  Adult Arrest     2350       20            H         F   \n",
       "3  Adult Arrest     2330       35            O         M   \n",
       "4   Adult Other     2000       43            K         F   \n",
       "\n",
       "                                      weapon_desc weapon_used_cd  \n",
       "0                                   VERBAL THREAT          511.0  \n",
       "1  STRONG-ARM (HANDS, FIST, FEET OR BODILY FORCE)          400.0  \n",
       "2                                   VERBAL THREAT          511.0  \n",
       "3                     UNKNOWN WEAPON/OTHER WEAPON          500.0  \n",
       "4  STRONG-ARM (HANDS, FIST, FEET OR BODILY FORCE)          400.0  \n",
       "\n",
       "[5 rows x 36 columns]"
      ]
     },
     "execution_count": 3,
     "metadata": {},
     "output_type": "execute_result"
    }
   ],
   "source": [
    "Crime_Data.head()"
   ]
  },
  {
   "cell_type": "code",
   "execution_count": 4,
   "metadata": {},
   "outputs": [
    {
     "data": {
      "text/plain": [
       "Index([':@computed_region_2dna_qi2s', ':@computed_region_k96s_3jcv',\n",
       "       ':@computed_region_kqwf_mjcx', ':@computed_region_qz3q_ghft',\n",
       "       ':@computed_region_tatf_ua23', ':@computed_region_ur2y_g4cx', 'area_id',\n",
       "       'area_name', 'crm_cd', 'crm_cd_1', 'crm_cd_2', 'crm_cd_3', 'crm_cd_4',\n",
       "       'crm_cd_desc', 'cross_street', 'date_occ', 'date_rptd', 'dr_no',\n",
       "       'location', 'location_1', 'location_1_address', 'location_1_city',\n",
       "       'location_1_state', 'location_1_zip', 'mocodes', 'premis_cd',\n",
       "       'premis_desc', 'rpt_dist_no', 'status', 'status_desc', 'time_occ',\n",
       "       'vict_age', 'vict_descent', 'vict_sex', 'weapon_desc',\n",
       "       'weapon_used_cd'],\n",
       "      dtype='object')"
      ]
     },
     "execution_count": 4,
     "metadata": {},
     "output_type": "execute_result"
    }
   ],
   "source": [
    "Crime_Data.keys()"
   ]
  },
  {
   "cell_type": "code",
   "execution_count": 5,
   "metadata": {},
   "outputs": [],
   "source": [
    "df=Crime_Data\n",
    "df = df[pd.notnull(df['area_id'])]\n",
    "df = df[pd.notnull(df['vict_age'])]\n",
    "df = df[pd.notnull(df['vict_sex'])]#result, arrested or not\n",
    "#df = df[pd.notnull(df['area_id'])]\n",
    "df = df[pd.notnull(df['vict_descent'])]\n",
    "df = df[pd.notnull(df['status'])]"
   ]
  },
  {
   "cell_type": "code",
   "execution_count": 6,
   "metadata": {},
   "outputs": [
    {
     "name": "stdout",
     "output_type": "stream",
     "text": [
      "[1, 2, 3, 4, 5, 6, 7, 8, 9, 10, 11, 12, 13, 14, 15, 16, 17, 18, 19, 20, 21]\n",
      "['F', 'M']\n",
      "['A', 'B', 'C', 'H', 'K', 'O', 'W', 'X']\n",
      "['AA', 'AO', 'IC', 'JA', 'JO']\n"
     ]
    }
   ],
   "source": [
    "# Label encoding of species column numerically\n",
    "le = LabelEncoder()\n",
    "le.fit(df['area_id'])\n",
    "print(list(le.classes_))\n",
    "df['area_id_label'] = le.transform(df['area_id'])\n",
    "\n",
    "le = LabelEncoder()\n",
    "le.fit(df['vict_sex'])\n",
    "print(list(le.classes_))\n",
    "df['vict_sex_label'] = le.transform(df['vict_sex'])\n",
    "\n",
    "le = LabelEncoder()\n",
    "le.fit(df['vict_descent'])\n",
    "print(list(le.classes_))\n",
    "df['vict_descent_label'] = le.transform(df['vict_descent'])\n",
    "\n",
    "le = LabelEncoder()\n",
    "le.fit(df['status'])\n",
    "print(list(le.classes_))\n",
    "df['status_label'] = le.transform(df['status'])"
   ]
  },
  {
   "cell_type": "code",
   "execution_count": 7,
   "metadata": {},
   "outputs": [
    {
     "data": {
      "text/html": [
       "<div>\n",
       "<style scoped>\n",
       "    .dataframe tbody tr th:only-of-type {\n",
       "        vertical-align: middle;\n",
       "    }\n",
       "\n",
       "    .dataframe tbody tr th {\n",
       "        vertical-align: top;\n",
       "    }\n",
       "\n",
       "    .dataframe thead th {\n",
       "        text-align: right;\n",
       "    }\n",
       "</style>\n",
       "<table border=\"1\" class=\"dataframe\">\n",
       "  <thead>\n",
       "    <tr style=\"text-align: right;\">\n",
       "      <th></th>\n",
       "      <th>:@computed_region_2dna_qi2s</th>\n",
       "      <th>:@computed_region_k96s_3jcv</th>\n",
       "      <th>:@computed_region_kqwf_mjcx</th>\n",
       "      <th>:@computed_region_qz3q_ghft</th>\n",
       "      <th>:@computed_region_tatf_ua23</th>\n",
       "      <th>:@computed_region_ur2y_g4cx</th>\n",
       "      <th>area_id</th>\n",
       "      <th>area_name</th>\n",
       "      <th>crm_cd</th>\n",
       "      <th>crm_cd_1</th>\n",
       "      <th>...</th>\n",
       "      <th>time_occ</th>\n",
       "      <th>vict_age</th>\n",
       "      <th>vict_descent</th>\n",
       "      <th>vict_sex</th>\n",
       "      <th>weapon_desc</th>\n",
       "      <th>weapon_used_cd</th>\n",
       "      <th>area_id_label</th>\n",
       "      <th>vict_sex_label</th>\n",
       "      <th>vict_descent_label</th>\n",
       "      <th>status_label</th>\n",
       "    </tr>\n",
       "  </thead>\n",
       "  <tbody>\n",
       "    <tr>\n",
       "      <th>0</th>\n",
       "      <td>26.0</td>\n",
       "      <td>626.0</td>\n",
       "      <td>7.0</td>\n",
       "      <td>23667</td>\n",
       "      <td>1086.0</td>\n",
       "      <td>NaN</td>\n",
       "      <td>7</td>\n",
       "      <td>Wilshire</td>\n",
       "      <td>930</td>\n",
       "      <td>930</td>\n",
       "      <td>...</td>\n",
       "      <td>1050</td>\n",
       "      <td>41</td>\n",
       "      <td>B</td>\n",
       "      <td>M</td>\n",
       "      <td>VERBAL THREAT</td>\n",
       "      <td>511.0</td>\n",
       "      <td>6</td>\n",
       "      <td>1</td>\n",
       "      <td>1</td>\n",
       "      <td>0</td>\n",
       "    </tr>\n",
       "    <tr>\n",
       "      <th>1</th>\n",
       "      <td>26.0</td>\n",
       "      <td>635.0</td>\n",
       "      <td>7.0</td>\n",
       "      <td>23667</td>\n",
       "      <td>332.0</td>\n",
       "      <td>NaN</td>\n",
       "      <td>7</td>\n",
       "      <td>Wilshire</td>\n",
       "      <td>626</td>\n",
       "      <td>626</td>\n",
       "      <td>...</td>\n",
       "      <td>600</td>\n",
       "      <td>27</td>\n",
       "      <td>O</td>\n",
       "      <td>F</td>\n",
       "      <td>STRONG-ARM (HANDS, FIST, FEET OR BODILY FORCE)</td>\n",
       "      <td>400.0</td>\n",
       "      <td>6</td>\n",
       "      <td>0</td>\n",
       "      <td>5</td>\n",
       "      <td>0</td>\n",
       "    </tr>\n",
       "    <tr>\n",
       "      <th>2</th>\n",
       "      <td>26.0</td>\n",
       "      <td>633.0</td>\n",
       "      <td>6.0</td>\n",
       "      <td>23679</td>\n",
       "      <td>809.0</td>\n",
       "      <td>NaN</td>\n",
       "      <td>7</td>\n",
       "      <td>Wilshire</td>\n",
       "      <td>930</td>\n",
       "      <td>930</td>\n",
       "      <td>...</td>\n",
       "      <td>2350</td>\n",
       "      <td>20</td>\n",
       "      <td>H</td>\n",
       "      <td>F</td>\n",
       "      <td>VERBAL THREAT</td>\n",
       "      <td>511.0</td>\n",
       "      <td>6</td>\n",
       "      <td>0</td>\n",
       "      <td>3</td>\n",
       "      <td>0</td>\n",
       "    </tr>\n",
       "    <tr>\n",
       "      <th>3</th>\n",
       "      <td>52.0</td>\n",
       "      <td>612.0</td>\n",
       "      <td>12.0</td>\n",
       "      <td>23080</td>\n",
       "      <td>1229.0</td>\n",
       "      <td>NaN</td>\n",
       "      <td>7</td>\n",
       "      <td>Wilshire</td>\n",
       "      <td>626</td>\n",
       "      <td>626</td>\n",
       "      <td>...</td>\n",
       "      <td>2330</td>\n",
       "      <td>35</td>\n",
       "      <td>O</td>\n",
       "      <td>M</td>\n",
       "      <td>UNKNOWN WEAPON/OTHER WEAPON</td>\n",
       "      <td>500.0</td>\n",
       "      <td>6</td>\n",
       "      <td>1</td>\n",
       "      <td>5</td>\n",
       "      <td>0</td>\n",
       "    </tr>\n",
       "    <tr>\n",
       "      <th>4</th>\n",
       "      <td>69.0</td>\n",
       "      <td>651.0</td>\n",
       "      <td>12.0</td>\n",
       "      <td>23080</td>\n",
       "      <td>1105.0</td>\n",
       "      <td>NaN</td>\n",
       "      <td>7</td>\n",
       "      <td>Wilshire</td>\n",
       "      <td>236</td>\n",
       "      <td>236</td>\n",
       "      <td>...</td>\n",
       "      <td>2000</td>\n",
       "      <td>43</td>\n",
       "      <td>K</td>\n",
       "      <td>F</td>\n",
       "      <td>STRONG-ARM (HANDS, FIST, FEET OR BODILY FORCE)</td>\n",
       "      <td>400.0</td>\n",
       "      <td>6</td>\n",
       "      <td>0</td>\n",
       "      <td>4</td>\n",
       "      <td>1</td>\n",
       "    </tr>\n",
       "  </tbody>\n",
       "</table>\n",
       "<p>5 rows × 40 columns</p>\n",
       "</div>"
      ],
      "text/plain": [
       "   :@computed_region_2dna_qi2s  :@computed_region_k96s_3jcv  \\\n",
       "0                         26.0                        626.0   \n",
       "1                         26.0                        635.0   \n",
       "2                         26.0                        633.0   \n",
       "3                         52.0                        612.0   \n",
       "4                         69.0                        651.0   \n",
       "\n",
       "   :@computed_region_kqwf_mjcx  :@computed_region_qz3q_ghft  \\\n",
       "0                          7.0                        23667   \n",
       "1                          7.0                        23667   \n",
       "2                          6.0                        23679   \n",
       "3                         12.0                        23080   \n",
       "4                         12.0                        23080   \n",
       "\n",
       "   :@computed_region_tatf_ua23  :@computed_region_ur2y_g4cx  area_id  \\\n",
       "0                       1086.0                          NaN        7   \n",
       "1                        332.0                          NaN        7   \n",
       "2                        809.0                          NaN        7   \n",
       "3                       1229.0                          NaN        7   \n",
       "4                       1105.0                          NaN        7   \n",
       "\n",
       "  area_name  crm_cd  crm_cd_1  ...  time_occ  vict_age  vict_descent vict_sex  \\\n",
       "0  Wilshire     930       930  ...      1050        41             B        M   \n",
       "1  Wilshire     626       626  ...       600        27             O        F   \n",
       "2  Wilshire     930       930  ...      2350        20             H        F   \n",
       "3  Wilshire     626       626  ...      2330        35             O        M   \n",
       "4  Wilshire     236       236  ...      2000        43             K        F   \n",
       "\n",
       "                                      weapon_desc weapon_used_cd  \\\n",
       "0                                   VERBAL THREAT          511.0   \n",
       "1  STRONG-ARM (HANDS, FIST, FEET OR BODILY FORCE)          400.0   \n",
       "2                                   VERBAL THREAT          511.0   \n",
       "3                     UNKNOWN WEAPON/OTHER WEAPON          500.0   \n",
       "4  STRONG-ARM (HANDS, FIST, FEET OR BODILY FORCE)          400.0   \n",
       "\n",
       "  area_id_label  vict_sex_label vict_descent_label status_label  \n",
       "0             6               1                  1            0  \n",
       "1             6               0                  5            0  \n",
       "2             6               0                  3            0  \n",
       "3             6               1                  5            0  \n",
       "4             6               0                  4            1  \n",
       "\n",
       "[5 rows x 40 columns]"
      ]
     },
     "execution_count": 7,
     "metadata": {},
     "output_type": "execute_result"
    }
   ],
   "source": [
    "df.head()"
   ]
  },
  {
   "cell_type": "code",
   "execution_count": 12,
   "metadata": {},
   "outputs": [
    {
     "name": "stderr",
     "output_type": "stream",
     "text": [
      "E:\\Anaconda\\lib\\site-packages\\ipykernel_launcher.py:1: FutureWarning: Method .as_matrix will be removed in a future version. Use .values instead.\n",
      "  \"\"\"Entry point for launching an IPython kernel.\n"
     ]
    }
   ],
   "source": [
    "df_matrix = pd.DataFrame.as_matrix(df[['area_id_label','vict_sex_label','vict_descent_label','vict_age','status_label']])"
   ]
  },
  {
   "cell_type": "code",
   "execution_count": 13,
   "metadata": {},
   "outputs": [],
   "source": [
    "cluster_model = KMeans(n_clusters=2, random_state=10)"
   ]
  },
  {
   "cell_type": "code",
   "execution_count": 14,
   "metadata": {},
   "outputs": [
    {
     "name": "stdout",
     "output_type": "stream",
     "text": [
      "KMeans(algorithm='auto', copy_x=True, init='k-means++', max_iter=300,\n",
      "       n_clusters=2, n_init=10, n_jobs=None, precompute_distances='auto',\n",
      "       random_state=10, tol=0.0001, verbose=0)\n"
     ]
    }
   ],
   "source": [
    "print(cluster_model)"
   ]
  },
  {
   "cell_type": "code",
   "execution_count": 15,
   "metadata": {},
   "outputs": [
    {
     "data": {
      "text/plain": [
       "KMeans(algorithm='auto', copy_x=True, init='k-means++', max_iter=300,\n",
       "       n_clusters=2, n_init=10, n_jobs=None, precompute_distances='auto',\n",
       "       random_state=10, tol=0.0001, verbose=0)"
      ]
     },
     "execution_count": 15,
     "metadata": {},
     "output_type": "execute_result"
    }
   ],
   "source": [
    "cluster_model.fit(df_matrix)"
   ]
  },
  {
   "cell_type": "code",
   "execution_count": 16,
   "metadata": {},
   "outputs": [],
   "source": [
    "cluster_labels = cluster_model.fit_predict(df_matrix)"
   ]
  },
  {
   "cell_type": "code",
   "execution_count": 17,
   "metadata": {},
   "outputs": [
    {
     "data": {
      "text/html": [
       "<div>\n",
       "<style scoped>\n",
       "    .dataframe tbody tr th:only-of-type {\n",
       "        vertical-align: middle;\n",
       "    }\n",
       "\n",
       "    .dataframe tbody tr th {\n",
       "        vertical-align: top;\n",
       "    }\n",
       "\n",
       "    .dataframe thead th {\n",
       "        text-align: right;\n",
       "    }\n",
       "</style>\n",
       "<table border=\"1\" class=\"dataframe\">\n",
       "  <thead>\n",
       "    <tr style=\"text-align: right;\">\n",
       "      <th></th>\n",
       "      <th>:@computed_region_2dna_qi2s</th>\n",
       "      <th>:@computed_region_k96s_3jcv</th>\n",
       "      <th>:@computed_region_kqwf_mjcx</th>\n",
       "      <th>:@computed_region_qz3q_ghft</th>\n",
       "      <th>:@computed_region_tatf_ua23</th>\n",
       "      <th>:@computed_region_ur2y_g4cx</th>\n",
       "      <th>area_id</th>\n",
       "      <th>area_name</th>\n",
       "      <th>crm_cd</th>\n",
       "      <th>crm_cd_1</th>\n",
       "      <th>...</th>\n",
       "      <th>vict_age</th>\n",
       "      <th>vict_descent</th>\n",
       "      <th>vict_sex</th>\n",
       "      <th>weapon_desc</th>\n",
       "      <th>weapon_used_cd</th>\n",
       "      <th>area_id_label</th>\n",
       "      <th>vict_sex_label</th>\n",
       "      <th>vict_descent_label</th>\n",
       "      <th>status_label</th>\n",
       "      <th>predarr</th>\n",
       "    </tr>\n",
       "  </thead>\n",
       "  <tbody>\n",
       "    <tr>\n",
       "      <th>0</th>\n",
       "      <td>26.0</td>\n",
       "      <td>626.0</td>\n",
       "      <td>7.0</td>\n",
       "      <td>23667</td>\n",
       "      <td>1086.0</td>\n",
       "      <td>NaN</td>\n",
       "      <td>7</td>\n",
       "      <td>Wilshire</td>\n",
       "      <td>930</td>\n",
       "      <td>930</td>\n",
       "      <td>...</td>\n",
       "      <td>41</td>\n",
       "      <td>B</td>\n",
       "      <td>M</td>\n",
       "      <td>VERBAL THREAT</td>\n",
       "      <td>511.0</td>\n",
       "      <td>6</td>\n",
       "      <td>1</td>\n",
       "      <td>1</td>\n",
       "      <td>0</td>\n",
       "      <td>1</td>\n",
       "    </tr>\n",
       "    <tr>\n",
       "      <th>1</th>\n",
       "      <td>26.0</td>\n",
       "      <td>635.0</td>\n",
       "      <td>7.0</td>\n",
       "      <td>23667</td>\n",
       "      <td>332.0</td>\n",
       "      <td>NaN</td>\n",
       "      <td>7</td>\n",
       "      <td>Wilshire</td>\n",
       "      <td>626</td>\n",
       "      <td>626</td>\n",
       "      <td>...</td>\n",
       "      <td>27</td>\n",
       "      <td>O</td>\n",
       "      <td>F</td>\n",
       "      <td>STRONG-ARM (HANDS, FIST, FEET OR BODILY FORCE)</td>\n",
       "      <td>400.0</td>\n",
       "      <td>6</td>\n",
       "      <td>0</td>\n",
       "      <td>5</td>\n",
       "      <td>0</td>\n",
       "      <td>0</td>\n",
       "    </tr>\n",
       "    <tr>\n",
       "      <th>2</th>\n",
       "      <td>26.0</td>\n",
       "      <td>633.0</td>\n",
       "      <td>6.0</td>\n",
       "      <td>23679</td>\n",
       "      <td>809.0</td>\n",
       "      <td>NaN</td>\n",
       "      <td>7</td>\n",
       "      <td>Wilshire</td>\n",
       "      <td>930</td>\n",
       "      <td>930</td>\n",
       "      <td>...</td>\n",
       "      <td>20</td>\n",
       "      <td>H</td>\n",
       "      <td>F</td>\n",
       "      <td>VERBAL THREAT</td>\n",
       "      <td>511.0</td>\n",
       "      <td>6</td>\n",
       "      <td>0</td>\n",
       "      <td>3</td>\n",
       "      <td>0</td>\n",
       "      <td>0</td>\n",
       "    </tr>\n",
       "    <tr>\n",
       "      <th>3</th>\n",
       "      <td>52.0</td>\n",
       "      <td>612.0</td>\n",
       "      <td>12.0</td>\n",
       "      <td>23080</td>\n",
       "      <td>1229.0</td>\n",
       "      <td>NaN</td>\n",
       "      <td>7</td>\n",
       "      <td>Wilshire</td>\n",
       "      <td>626</td>\n",
       "      <td>626</td>\n",
       "      <td>...</td>\n",
       "      <td>35</td>\n",
       "      <td>O</td>\n",
       "      <td>M</td>\n",
       "      <td>UNKNOWN WEAPON/OTHER WEAPON</td>\n",
       "      <td>500.0</td>\n",
       "      <td>6</td>\n",
       "      <td>1</td>\n",
       "      <td>5</td>\n",
       "      <td>0</td>\n",
       "      <td>0</td>\n",
       "    </tr>\n",
       "    <tr>\n",
       "      <th>4</th>\n",
       "      <td>69.0</td>\n",
       "      <td>651.0</td>\n",
       "      <td>12.0</td>\n",
       "      <td>23080</td>\n",
       "      <td>1105.0</td>\n",
       "      <td>NaN</td>\n",
       "      <td>7</td>\n",
       "      <td>Wilshire</td>\n",
       "      <td>236</td>\n",
       "      <td>236</td>\n",
       "      <td>...</td>\n",
       "      <td>43</td>\n",
       "      <td>K</td>\n",
       "      <td>F</td>\n",
       "      <td>STRONG-ARM (HANDS, FIST, FEET OR BODILY FORCE)</td>\n",
       "      <td>400.0</td>\n",
       "      <td>6</td>\n",
       "      <td>0</td>\n",
       "      <td>4</td>\n",
       "      <td>1</td>\n",
       "      <td>1</td>\n",
       "    </tr>\n",
       "    <tr>\n",
       "      <th>5</th>\n",
       "      <td>69.0</td>\n",
       "      <td>651.0</td>\n",
       "      <td>12.0</td>\n",
       "      <td>23080</td>\n",
       "      <td>1105.0</td>\n",
       "      <td>NaN</td>\n",
       "      <td>7</td>\n",
       "      <td>Wilshire</td>\n",
       "      <td>236</td>\n",
       "      <td>236</td>\n",
       "      <td>...</td>\n",
       "      <td>44</td>\n",
       "      <td>H</td>\n",
       "      <td>M</td>\n",
       "      <td>STRONG-ARM (HANDS, FIST, FEET OR BODILY FORCE)</td>\n",
       "      <td>400.0</td>\n",
       "      <td>6</td>\n",
       "      <td>1</td>\n",
       "      <td>3</td>\n",
       "      <td>1</td>\n",
       "      <td>1</td>\n",
       "    </tr>\n",
       "  </tbody>\n",
       "</table>\n",
       "<p>6 rows × 41 columns</p>\n",
       "</div>"
      ],
      "text/plain": [
       "   :@computed_region_2dna_qi2s  :@computed_region_k96s_3jcv  \\\n",
       "0                         26.0                        626.0   \n",
       "1                         26.0                        635.0   \n",
       "2                         26.0                        633.0   \n",
       "3                         52.0                        612.0   \n",
       "4                         69.0                        651.0   \n",
       "5                         69.0                        651.0   \n",
       "\n",
       "   :@computed_region_kqwf_mjcx  :@computed_region_qz3q_ghft  \\\n",
       "0                          7.0                        23667   \n",
       "1                          7.0                        23667   \n",
       "2                          6.0                        23679   \n",
       "3                         12.0                        23080   \n",
       "4                         12.0                        23080   \n",
       "5                         12.0                        23080   \n",
       "\n",
       "   :@computed_region_tatf_ua23  :@computed_region_ur2y_g4cx  area_id  \\\n",
       "0                       1086.0                          NaN        7   \n",
       "1                        332.0                          NaN        7   \n",
       "2                        809.0                          NaN        7   \n",
       "3                       1229.0                          NaN        7   \n",
       "4                       1105.0                          NaN        7   \n",
       "5                       1105.0                          NaN        7   \n",
       "\n",
       "  area_name  crm_cd  crm_cd_1  ...  vict_age  vict_descent  vict_sex  \\\n",
       "0  Wilshire     930       930  ...        41             B         M   \n",
       "1  Wilshire     626       626  ...        27             O         F   \n",
       "2  Wilshire     930       930  ...        20             H         F   \n",
       "3  Wilshire     626       626  ...        35             O         M   \n",
       "4  Wilshire     236       236  ...        43             K         F   \n",
       "5  Wilshire     236       236  ...        44             H         M   \n",
       "\n",
       "                                      weapon_desc weapon_used_cd  \\\n",
       "0                                   VERBAL THREAT          511.0   \n",
       "1  STRONG-ARM (HANDS, FIST, FEET OR BODILY FORCE)          400.0   \n",
       "2                                   VERBAL THREAT          511.0   \n",
       "3                     UNKNOWN WEAPON/OTHER WEAPON          500.0   \n",
       "4  STRONG-ARM (HANDS, FIST, FEET OR BODILY FORCE)          400.0   \n",
       "5  STRONG-ARM (HANDS, FIST, FEET OR BODILY FORCE)          400.0   \n",
       "\n",
       "  area_id_label vict_sex_label  vict_descent_label status_label predarr  \n",
       "0             6              1                   1            0       1  \n",
       "1             6              0                   5            0       0  \n",
       "2             6              0                   3            0       0  \n",
       "3             6              1                   5            0       0  \n",
       "4             6              0                   4            1       1  \n",
       "5             6              1                   3            1       1  \n",
       "\n",
       "[6 rows x 41 columns]"
      ]
     },
     "execution_count": 17,
     "metadata": {},
     "output_type": "execute_result"
    }
   ],
   "source": [
    "i=df\n",
    "i['predarr'] = cluster_labels\n",
    "i.head(6)"
   ]
  },
  {
   "cell_type": "code",
   "execution_count": 18,
   "metadata": {},
   "outputs": [
    {
     "name": "stderr",
     "output_type": "stream",
     "text": [
      "E:\\Anaconda\\lib\\site-packages\\seaborn\\axisgrid.py:230: UserWarning: The `size` paramter has been renamed to `height`; please update your code.\n",
      "  warnings.warn(msg, UserWarning)\n"
     ]
    },
    {
     "data": {
      "text/plain": [
       "<seaborn.axisgrid.FacetGrid at 0x1f251647d68>"
      ]
     },
     "execution_count": 18,
     "metadata": {},
     "output_type": "execute_result"
    },
    {
     "data": {
      "image/png": "[encoded data removed]",
      "text/plain": [
       "<Figure size 410.625x360 with 1 Axes>"
      ]
     },
     "metadata": {
      "needs_background": "light"
     },
     "output_type": "display_data"
    }
   ],
   "source": [
    "sns.FacetGrid(i, hue=\"status\", size=5).map(plt.scatter, \"vict_age\", \n",
    "                                           \"vict_descent\").add_legend()"
   ]
  },
  {
   "cell_type": "code",
   "execution_count": 19,
   "metadata": {},
   "outputs": [
    {
     "data": {
      "text/plain": [
       "array(['AA', 'AO', 'IC', 'JA', 'JO'], dtype=object)"
      ]
     },
     "execution_count": 19,
     "metadata": {},
     "output_type": "execute_result"
    }
   ],
   "source": [
    "le.classes_"
   ]
  },
  {
   "cell_type": "code",
   "execution_count": 20,
   "metadata": {},
   "outputs": [
    {
     "name": "stdout",
     "output_type": "stream",
     "text": [
      "['A', 'B', 'C', 'H', 'K', 'O', 'W', 'X']\n"
     ]
    }
   ],
   "source": [
    "le.fit(df['vict_descent'])\n",
    "print(list(le.classes_))"
   ]
  },
  {
   "cell_type": "code",
   "execution_count": 21,
   "metadata": {},
   "outputs": [
    {
     "data": {
      "text/html": [
       "<div>\n",
       "<style scoped>\n",
       "    .dataframe tbody tr th:only-of-type {\n",
       "        vertical-align: middle;\n",
       "    }\n",
       "\n",
       "    .dataframe tbody tr th {\n",
       "        vertical-align: top;\n",
       "    }\n",
       "\n",
       "    .dataframe thead th {\n",
       "        text-align: right;\n",
       "    }\n",
       "</style>\n",
       "<table border=\"1\" class=\"dataframe\">\n",
       "  <thead>\n",
       "    <tr style=\"text-align: right;\">\n",
       "      <th></th>\n",
       "      <th>:@computed_region_2dna_qi2s</th>\n",
       "      <th>:@computed_region_k96s_3jcv</th>\n",
       "      <th>:@computed_region_kqwf_mjcx</th>\n",
       "      <th>:@computed_region_qz3q_ghft</th>\n",
       "      <th>:@computed_region_tatf_ua23</th>\n",
       "      <th>:@computed_region_ur2y_g4cx</th>\n",
       "      <th>area_id</th>\n",
       "      <th>area_name</th>\n",
       "      <th>crm_cd</th>\n",
       "      <th>crm_cd_1</th>\n",
       "      <th>...</th>\n",
       "      <th>vict_age</th>\n",
       "      <th>vict_descent</th>\n",
       "      <th>vict_sex</th>\n",
       "      <th>weapon_desc</th>\n",
       "      <th>weapon_used_cd</th>\n",
       "      <th>area_id_label</th>\n",
       "      <th>vict_sex_label</th>\n",
       "      <th>vict_descent_label</th>\n",
       "      <th>status_label</th>\n",
       "      <th>predarr</th>\n",
       "    </tr>\n",
       "  </thead>\n",
       "  <tbody>\n",
       "    <tr>\n",
       "      <th>995</th>\n",
       "      <td>6.0</td>\n",
       "      <td>705.0</td>\n",
       "      <td>13.0</td>\n",
       "      <td>22727</td>\n",
       "      <td>972.0</td>\n",
       "      <td>7.0</td>\n",
       "      <td>13</td>\n",
       "      <td>Newton</td>\n",
       "      <td>330</td>\n",
       "      <td>330</td>\n",
       "      <td>...</td>\n",
       "      <td>41</td>\n",
       "      <td>H</td>\n",
       "      <td>M</td>\n",
       "      <td>NaN</td>\n",
       "      <td>NaN</td>\n",
       "      <td>12</td>\n",
       "      <td>1</td>\n",
       "      <td>3</td>\n",
       "      <td>2</td>\n",
       "      <td>1</td>\n",
       "    </tr>\n",
       "    <tr>\n",
       "      <th>996</th>\n",
       "      <td>NaN</td>\n",
       "      <td>737.0</td>\n",
       "      <td>13.0</td>\n",
       "      <td>23668</td>\n",
       "      <td>988.0</td>\n",
       "      <td>7.0</td>\n",
       "      <td>13</td>\n",
       "      <td>Newton</td>\n",
       "      <td>440</td>\n",
       "      <td>440</td>\n",
       "      <td>...</td>\n",
       "      <td>14</td>\n",
       "      <td>B</td>\n",
       "      <td>M</td>\n",
       "      <td>NaN</td>\n",
       "      <td>NaN</td>\n",
       "      <td>12</td>\n",
       "      <td>1</td>\n",
       "      <td>1</td>\n",
       "      <td>2</td>\n",
       "      <td>0</td>\n",
       "    </tr>\n",
       "    <tr>\n",
       "      <th>997</th>\n",
       "      <td>46.0</td>\n",
       "      <td>787.0</td>\n",
       "      <td>13.0</td>\n",
       "      <td>22352</td>\n",
       "      <td>995.0</td>\n",
       "      <td>7.0</td>\n",
       "      <td>13</td>\n",
       "      <td>Newton</td>\n",
       "      <td>330</td>\n",
       "      <td>330</td>\n",
       "      <td>...</td>\n",
       "      <td>23</td>\n",
       "      <td>H</td>\n",
       "      <td>M</td>\n",
       "      <td>NaN</td>\n",
       "      <td>NaN</td>\n",
       "      <td>12</td>\n",
       "      <td>1</td>\n",
       "      <td>3</td>\n",
       "      <td>2</td>\n",
       "      <td>0</td>\n",
       "    </tr>\n",
       "    <tr>\n",
       "      <th>998</th>\n",
       "      <td>6.0</td>\n",
       "      <td>702.0</td>\n",
       "      <td>13.0</td>\n",
       "      <td>22727</td>\n",
       "      <td>969.0</td>\n",
       "      <td>7.0</td>\n",
       "      <td>13</td>\n",
       "      <td>Newton</td>\n",
       "      <td>330</td>\n",
       "      <td>330</td>\n",
       "      <td>...</td>\n",
       "      <td>32</td>\n",
       "      <td>H</td>\n",
       "      <td>F</td>\n",
       "      <td>NaN</td>\n",
       "      <td>NaN</td>\n",
       "      <td>12</td>\n",
       "      <td>0</td>\n",
       "      <td>3</td>\n",
       "      <td>2</td>\n",
       "      <td>0</td>\n",
       "    </tr>\n",
       "    <tr>\n",
       "      <th>999</th>\n",
       "      <td>76.0</td>\n",
       "      <td>703.0</td>\n",
       "      <td>9.0</td>\n",
       "      <td>23076</td>\n",
       "      <td>1018.0</td>\n",
       "      <td>NaN</td>\n",
       "      <td>13</td>\n",
       "      <td>Newton</td>\n",
       "      <td>330</td>\n",
       "      <td>330</td>\n",
       "      <td>...</td>\n",
       "      <td>37</td>\n",
       "      <td>O</td>\n",
       "      <td>M</td>\n",
       "      <td>NaN</td>\n",
       "      <td>NaN</td>\n",
       "      <td>12</td>\n",
       "      <td>1</td>\n",
       "      <td>5</td>\n",
       "      <td>2</td>\n",
       "      <td>0</td>\n",
       "    </tr>\n",
       "  </tbody>\n",
       "</table>\n",
       "<p>5 rows × 41 columns</p>\n",
       "</div>"
      ],
      "text/plain": [
       "     :@computed_region_2dna_qi2s  :@computed_region_k96s_3jcv  \\\n",
       "995                          6.0                        705.0   \n",
       "996                          NaN                        737.0   \n",
       "997                         46.0                        787.0   \n",
       "998                          6.0                        702.0   \n",
       "999                         76.0                        703.0   \n",
       "\n",
       "     :@computed_region_kqwf_mjcx  :@computed_region_qz3q_ghft  \\\n",
       "995                         13.0                        22727   \n",
       "996                         13.0                        23668   \n",
       "997                         13.0                        22352   \n",
       "998                         13.0                        22727   \n",
       "999                          9.0                        23076   \n",
       "\n",
       "     :@computed_region_tatf_ua23  :@computed_region_ur2y_g4cx  area_id  \\\n",
       "995                        972.0                          7.0       13   \n",
       "996                        988.0                          7.0       13   \n",
       "997                        995.0                          7.0       13   \n",
       "998                        969.0                          7.0       13   \n",
       "999                       1018.0                          NaN       13   \n",
       "\n",
       "    area_name  crm_cd  crm_cd_1  ...  vict_age  vict_descent  vict_sex  \\\n",
       "995    Newton     330       330  ...        41             H         M   \n",
       "996    Newton     440       440  ...        14             B         M   \n",
       "997    Newton     330       330  ...        23             H         M   \n",
       "998    Newton     330       330  ...        32             H         F   \n",
       "999    Newton     330       330  ...        37             O         M   \n",
       "\n",
       "    weapon_desc weapon_used_cd area_id_label vict_sex_label  \\\n",
       "995         NaN            NaN            12              1   \n",
       "996         NaN            NaN            12              1   \n",
       "997         NaN            NaN            12              1   \n",
       "998         NaN            NaN            12              0   \n",
       "999         NaN            NaN            12              1   \n",
       "\n",
       "     vict_descent_label status_label predarr  \n",
       "995                   3            2       1  \n",
       "996                   1            2       0  \n",
       "997                   3            2       0  \n",
       "998                   3            2       0  \n",
       "999                   5            2       0  \n",
       "\n",
       "[5 rows x 41 columns]"
      ]
     },
     "execution_count": 21,
     "metadata": {},
     "output_type": "execute_result"
    }
   ],
   "source": [
    "df.tail()"
   ]
  },
  {
   "cell_type": "code",
   "execution_count": 22,
   "metadata": {},
   "outputs": [
    {
     "data": {
      "text/plain": [
       "array(['B', 'O', 'H', 'K', 'W', 'A', 'X', 'C'], dtype=object)"
      ]
     },
     "execution_count": 22,
     "metadata": {},
     "output_type": "execute_result"
    }
   ],
   "source": [
    "df.vict_descent.unique()"
   ]
  },
  {
   "cell_type": "code",
   "execution_count": 23,
   "metadata": {},
   "outputs": [
    {
     "data": {
      "text/plain": [
       "array(['Adult Arrest', 'Adult Other', 'Invest Cont', 'Juv Arrest',\n",
       "       'Juv Other'], dtype=object)"
      ]
     },
     "execution_count": 23,
     "metadata": {},
     "output_type": "execute_result"
    }
   ],
   "source": [
    "df.status_desc.unique()"
   ]
  },
  {
   "cell_type": "code",
   "execution_count": 24,
   "metadata": {},
   "outputs": [],
   "source": [
    "#Adult Arrest, Adult not arrested, Invest Continuing, Juvenile Arrest,\n",
    "                                    # and Juvenile not arrested"
   ]
  },
  {
   "cell_type": "code",
   "execution_count": 29,
   "metadata": {},
   "outputs": [
    {
     "name": "stderr",
     "output_type": "stream",
     "text": [
      "E:\\Anaconda\\lib\\site-packages\\seaborn\\axisgrid.py:230: UserWarning: The `size` paramter has been renamed to `height`; please update your code.\n",
      "  warnings.warn(msg, UserWarning)\n"
     ]
    },
    {
     "data": {
      "text/plain": [
       "<seaborn.axisgrid.FacetGrid at 0x1f253aa8780>"
      ]
     },
     "execution_count": 29,
     "metadata": {},
     "output_type": "execute_result"
    },
    {
     "data": {
      "image/png": "[encoded data removed]",
      "text/plain": [
       "<Figure size 338.625x288 with 1 Axes>"
      ]
     },
     "metadata": {
      "needs_background": "light"
     },
     "output_type": "display_data"
    }
   ],
   "source": [
    "sns.FacetGrid(i, hue=\"status\", size=4).map(plt.scatter, \"area_id\", \n",
    "                                           \"vict_descent\").add_legend()"
   ]
  },
  {
   "cell_type": "code",
   "execution_count": 27,
   "metadata": {},
   "outputs": [
    {
     "name": "stderr",
     "output_type": "stream",
     "text": [
      "E:\\Anaconda\\lib\\site-packages\\seaborn\\axisgrid.py:230: UserWarning: The `size` paramter has been renamed to `height`; please update your code.\n",
      "  warnings.warn(msg, UserWarning)\n"
     ]
    },
    {
     "data": {
      "text/plain": [
       "<seaborn.axisgrid.FacetGrid at 0x1f2538124e0>"
      ]
     },
     "execution_count": 27,
     "metadata": {},
     "output_type": "execute_result"
    },
    {
     "data": {
      "image/png": "[encoded data removed]",
      "text/plain": [
       "<Figure size 410.625x360 with 1 Axes>"
      ]
     },
     "metadata": {
      "needs_background": "light"
     },
     "output_type": "display_data"
    }
   ],
   "source": [
    "sns.FacetGrid(i, hue=\"status\", size=5).map(plt.scatter, \"vict_age\", \n",
    "                                           \"vict_descent\").add_legend()"
   ]
  },
  {
   "cell_type": "code",
   "execution_count": 30,
   "metadata": {},
   "outputs": [
    {
     "name": "stderr",
     "output_type": "stream",
     "text": [
      "E:\\Anaconda\\lib\\site-packages\\seaborn\\axisgrid.py:230: UserWarning: The `size` paramter has been renamed to `height`; please update your code.\n",
      "  warnings.warn(msg, UserWarning)\n"
     ]
    },
    {
     "data": {
      "text/plain": [
       "<seaborn.axisgrid.FacetGrid at 0x1f253b18208>"
      ]
     },
     "execution_count": 30,
     "metadata": {},
     "output_type": "execute_result"
    },
    {
     "data": {
      "image/png": "[encoded data removed]",
      "text/plain": [
       "<Figure size 410.625x360 with 1 Axes>"
      ]
     },
     "metadata": {
      "needs_background": "light"
     },
     "output_type": "display_data"
    }
   ],
   "source": [
    "sns.FacetGrid(i, hue=\"status\", size=5).map(plt.scatter, \"vict_age\", \n",
    "                                           \"vict_sex\").add_legend()"
   ]
  },
  {
   "cell_type": "code",
   "execution_count": null,
   "metadata": {},
   "outputs": [],
   "source": []
  }
 ],
 "metadata": {
  "kernelspec": {
   "display_name": "Python 3",
   "language": "python",
   "name": "python3"
  },
  "language_info": {
   "codemirror_mode": {
    "name": "ipython",
    "version": 3
   },
   "file_extension": ".py",
   "mimetype": "text/x-python",
   "name": "python",
   "nbconvert_exporter": "python",
   "pygments_lexer": "ipython3",
   "version": "3.7.3"
  }
 },
 "nbformat": 4,
 "nbformat_minor": 2
}
