{
 "cells": [
  {
   "cell_type": "code",
   "execution_count": 6,
   "metadata": {},
   "outputs": [
    {
     "name": "stdout",
     "output_type": "stream",
     "text": [
      "Hello\n"
     ]
    }
   ],
   "source": [
    "class Test: \n",
    "      \n",
    "    # A sample method  \n",
    "    def fun(self): \n",
    "        print(\"Hello\") \n",
    "    def notfun(self,i): \n",
    "        print(\"notHello\")\n",
    "  \n",
    "# Driver code \n",
    "obj = Test() \n",
    "obj.fun() "
   ]
  },
  {
   "cell_type": "code",
   "execution_count": 7,
   "metadata": {},
   "outputs": [
    {
     "name": "stdout",
     "output_type": "stream",
     "text": [
      "notHello\n"
     ]
    }
   ],
   "source": [
    "ob2=Test()\n",
    "ob2.notfun(2)"
   ]
  },
  {
   "cell_type": "code",
   "execution_count": 16,
   "metadata": {},
   "outputs": [
    {
     "name": "stdout",
     "output_type": "stream",
     "text": [
      "0\n",
      "Hello\n",
      "1\n"
     ]
    }
   ],
   "source": [
    "class Test: \n",
    "    l=0\n",
    "    # A sample method  \n",
    "    def __init__(self):\n",
    "        print(self.l)#l is hidden variable\n",
    "    def fun(self): \n",
    "        print(\"Hello\") \n",
    "    def notfun(self,i): \n",
    "        print(\"notHello\")\n",
    "  \n",
    "# Driver code \n",
    "obj = Test() \n",
    "obj.fun() \n",
    "print(obj.l+1)"
   ]
  },
  {
   "cell_type": "code",
   "execution_count": 19,
   "metadata": {},
   "outputs": [
    {
     "name": "stdout",
     "output_type": "stream",
     "text": [
      "0\n",
      "Hello\n"
     ]
    }
   ],
   "source": [
    "class Test: \n",
    "    __l=0\n",
    "    # A sample method  \n",
    "    def __init__(self):\n",
    "        print(self.__l)#l is hidden variable\n",
    "    def fun(self): \n",
    "        print(\"Hello\") \n",
    "    def notfun(self,i): \n",
    "        print(\"notHello\")\n",
    "  \n",
    "# Driver code \n",
    "obj = Test() \n",
    "obj.fun() \n",
    "#print(obj.__l+1)"
   ]
  },
  {
   "cell_type": "code",
   "execution_count": 21,
   "metadata": {},
   "outputs": [
    {
     "name": "stdout",
     "output_type": "stream",
     "text": [
      "0\n",
      "Hello\n"
     ]
    },
    {
     "ename": "AttributeError",
     "evalue": "'Test' object has no attribute '__l'",
     "output_type": "error",
     "traceback": [
      "\u001b[1;31m---------------------------------------------------------------------------\u001b[0m",
      "\u001b[1;31mAttributeError\u001b[0m                            Traceback (most recent call last)",
      "\u001b[1;32m<ipython-input-21-dc4c741e3dc3>\u001b[0m in \u001b[0;36m<module>\u001b[1;34m\u001b[0m\n\u001b[0;32m     12\u001b[0m \u001b[0mobj\u001b[0m \u001b[1;33m=\u001b[0m \u001b[0mTest\u001b[0m\u001b[1;33m(\u001b[0m\u001b[1;33m)\u001b[0m\u001b[1;33m\u001b[0m\u001b[1;33m\u001b[0m\u001b[0m\n\u001b[0;32m     13\u001b[0m \u001b[0mobj\u001b[0m\u001b[1;33m.\u001b[0m\u001b[0mfun\u001b[0m\u001b[1;33m(\u001b[0m\u001b[1;33m)\u001b[0m\u001b[1;33m\u001b[0m\u001b[1;33m\u001b[0m\u001b[0m\n\u001b[1;32m---> 14\u001b[1;33m \u001b[0mprint\u001b[0m\u001b[1;33m(\u001b[0m\u001b[0mobj\u001b[0m\u001b[1;33m.\u001b[0m\u001b[0m__l\u001b[0m\u001b[1;33m+\u001b[0m\u001b[1;36m1\u001b[0m\u001b[1;33m)\u001b[0m\u001b[1;33m\u001b[0m\u001b[1;33m\u001b[0m\u001b[0m\n\u001b[0m",
      "\u001b[1;31mAttributeError\u001b[0m: 'Test' object has no attribute '__l'"
     ]
    }
   ],
   "source": [
    "class Test: \n",
    "    __l=0 #hidden variables have __ before them\n",
    "    # A sample method  \n",
    "    def __init__(self):\n",
    "        print(self.__l)#l is hidden variable\n",
    "    def fun(self): \n",
    "        print(\"Hello\") \n",
    "    def notfun(self,i): \n",
    "        print(\"notHello\")\n",
    "# Driver code \n",
    "obj = Test() \n",
    "obj.fun() \n",
    "print(obj.__l+1)"
   ]
  },
  {
   "cell_type": "code",
   "execution_count": 30,
   "metadata": {},
   "outputs": [
    {
     "name": "stdout",
     "output_type": "stream",
     "text": [
      "1234 5678 Yohoo\n",
      "Test a:1234 b:5678\n"
     ]
    }
   ],
   "source": [
    "class Test: \n",
    "    def __init__(self, a, b): \n",
    "        self.a = a \n",
    "        self.b = b \n",
    "        print(self.a,self.b,\"Yohoo\")\n",
    "  \n",
    "    def __repr__(self): \n",
    "        return \"Test a:%s b:%s\" % (self.a, self.b) \n",
    "  \n",
    "# Driver Code         \n",
    "t = Test(1234, 5678) \n",
    "print(t)  "
   ]
  },
  {
   "cell_type": "code",
   "execution_count": 31,
   "metadata": {},
   "outputs": [
    {
     "name": "stdout",
     "output_type": "stream",
     "text": [
      "1234 5678 Yohoo\n",
      "From str method of Test: a is 1234 b is 5678\n"
     ]
    }
   ],
   "source": [
    "class Test: \n",
    "    def __init__(self, a, b): \n",
    "        self.a = a \n",
    "        self.b = b \n",
    "        print(self.a,self.b,\"Yohoo\")\n",
    "  \n",
    "    def __repr__(self): \n",
    "        return \"Test a:%s b:%s\" % (self.a, self.b) \n",
    "    def __str__(self): \n",
    "        return \"From str method of Test: a is %s b is %s\" % (self.a, self.b) \n",
    "  \n",
    "# Driver Code         \n",
    "t = Test(1234, 5678) \n",
    "print(t)  "
   ]
  },
  {
   "cell_type": "code",
   "execution_count": 32,
   "metadata": {},
   "outputs": [],
   "source": [
    "#__repr__ can be used if __str__ isnt used already"
   ]
  },
  {
   "cell_type": "code",
   "execution_count": null,
   "metadata": {},
   "outputs": [],
   "source": []
  }
 ],
 "metadata": {
  "kernelspec": {
   "display_name": "Python 3",
   "language": "python",
   "name": "python3"
  },
  "language_info": {
   "codemirror_mode": {
    "name": "ipython",
    "version": 3
   },
   "file_extension": ".py",
   "mimetype": "text/x-python",
   "name": "python",
   "nbconvert_exporter": "python",
   "pygments_lexer": "ipython3",
   "version": "3.7.3"
  }
 },
 "nbformat": 4,
 "nbformat_minor": 2
}
