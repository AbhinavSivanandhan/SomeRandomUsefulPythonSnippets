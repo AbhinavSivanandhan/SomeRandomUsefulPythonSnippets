{
 "cells": [
  {
   "cell_type": "code",
   "execution_count": 1,
   "metadata": {},
   "outputs": [],
   "source": [
    "import numpy as np\n",
    "import pandas as pd\n",
    "import matplotlib.pyplot as plt\n",
    "%matplotlib inline"
   ]
  },
  {
   "cell_type": "code",
   "execution_count": 2,
   "metadata": {},
   "outputs": [],
   "source": [
    "raw_data=pd.read_csv('Chennai_house_univariate_train.csv')"
   ]
  },
  {
   "cell_type": "code",
   "execution_count": 3,
   "metadata": {},
   "outputs": [
    {
     "data": {
      "text/html": [
       "<div>\n",
       "<style scoped>\n",
       "    .dataframe tbody tr th:only-of-type {\n",
       "        vertical-align: middle;\n",
       "    }\n",
       "\n",
       "    .dataframe tbody tr th {\n",
       "        vertical-align: top;\n",
       "    }\n",
       "\n",
       "    .dataframe thead th {\n",
       "        text-align: right;\n",
       "    }\n",
       "</style>\n",
       "<table border=\"1\" class=\"dataframe\">\n",
       "  <thead>\n",
       "    <tr style=\"text-align: right;\">\n",
       "      <th></th>\n",
       "      <th>Size</th>\n",
       "      <th>Price</th>\n",
       "    </tr>\n",
       "  </thead>\n",
       "  <tbody>\n",
       "    <tr>\n",
       "      <th>0</th>\n",
       "      <td>502.69</td>\n",
       "      <td>6.3</td>\n",
       "    </tr>\n",
       "    <tr>\n",
       "      <th>1</th>\n",
       "      <td>503.65</td>\n",
       "      <td>6.3</td>\n",
       "    </tr>\n",
       "    <tr>\n",
       "      <th>2</th>\n",
       "      <td>505.46</td>\n",
       "      <td>6.5</td>\n",
       "    </tr>\n",
       "    <tr>\n",
       "      <th>3</th>\n",
       "      <td>505.94</td>\n",
       "      <td>6.5</td>\n",
       "    </tr>\n",
       "    <tr>\n",
       "      <th>4</th>\n",
       "      <td>507.02</td>\n",
       "      <td>6.6</td>\n",
       "    </tr>\n",
       "  </tbody>\n",
       "</table>\n",
       "</div>"
      ],
      "text/plain": [
       "     Size  Price\n",
       "0  502.69    6.3\n",
       "1  503.65    6.3\n",
       "2  505.46    6.5\n",
       "3  505.94    6.5\n",
       "4  507.02    6.6"
      ]
     },
     "execution_count": 3,
     "metadata": {},
     "output_type": "execute_result"
    }
   ],
   "source": [
    "raw_data.head(n=5)"
   ]
  },
  {
   "cell_type": "code",
   "execution_count": 4,
   "metadata": {},
   "outputs": [
    {
     "data": {
      "text/html": [
       "<div>\n",
       "<style scoped>\n",
       "    .dataframe tbody tr th:only-of-type {\n",
       "        vertical-align: middle;\n",
       "    }\n",
       "\n",
       "    .dataframe tbody tr th {\n",
       "        vertical-align: top;\n",
       "    }\n",
       "\n",
       "    .dataframe thead th {\n",
       "        text-align: right;\n",
       "    }\n",
       "</style>\n",
       "<table border=\"1\" class=\"dataframe\">\n",
       "  <thead>\n",
       "    <tr style=\"text-align: right;\">\n",
       "      <th></th>\n",
       "      <th>Size</th>\n",
       "      <th>Price</th>\n",
       "    </tr>\n",
       "  </thead>\n",
       "  <tbody>\n",
       "    <tr>\n",
       "      <th>92</th>\n",
       "      <td>1895.9</td>\n",
       "      <td>70.2</td>\n",
       "    </tr>\n",
       "    <tr>\n",
       "      <th>93</th>\n",
       "      <td>2027.0</td>\n",
       "      <td>76.7</td>\n",
       "    </tr>\n",
       "    <tr>\n",
       "      <th>94</th>\n",
       "      <td>2034.1</td>\n",
       "      <td>77.1</td>\n",
       "    </tr>\n",
       "    <tr>\n",
       "      <th>95</th>\n",
       "      <td>2127.9</td>\n",
       "      <td>81.6</td>\n",
       "    </tr>\n",
       "    <tr>\n",
       "      <th>96</th>\n",
       "      <td>2220.3</td>\n",
       "      <td>86.4</td>\n",
       "    </tr>\n",
       "  </tbody>\n",
       "</table>\n",
       "</div>"
      ],
      "text/plain": [
       "      Size  Price\n",
       "92  1895.9   70.2\n",
       "93  2027.0   76.7\n",
       "94  2034.1   77.1\n",
       "95  2127.9   81.6\n",
       "96  2220.3   86.4"
      ]
     },
     "execution_count": 4,
     "metadata": {},
     "output_type": "execute_result"
    }
   ],
   "source": [
    "raw_data.tail()"
   ]
  },
  {
   "cell_type": "code",
   "execution_count": 5,
   "metadata": {},
   "outputs": [
    {
     "data": {
      "text/html": [
       "<div>\n",
       "<style scoped>\n",
       "    .dataframe tbody tr th:only-of-type {\n",
       "        vertical-align: middle;\n",
       "    }\n",
       "\n",
       "    .dataframe tbody tr th {\n",
       "        vertical-align: top;\n",
       "    }\n",
       "\n",
       "    .dataframe thead th {\n",
       "        text-align: right;\n",
       "    }\n",
       "</style>\n",
       "<table border=\"1\" class=\"dataframe\">\n",
       "  <thead>\n",
       "    <tr style=\"text-align: right;\">\n",
       "      <th></th>\n",
       "      <th>Size</th>\n",
       "      <th>Price</th>\n",
       "    </tr>\n",
       "  </thead>\n",
       "  <tbody>\n",
       "    <tr>\n",
       "      <th>count</th>\n",
       "      <td>97.000000</td>\n",
       "      <td>97.000000</td>\n",
       "    </tr>\n",
       "    <tr>\n",
       "      <th>mean</th>\n",
       "      <td>815.980000</td>\n",
       "      <td>19.908247</td>\n",
       "    </tr>\n",
       "    <tr>\n",
       "      <th>std</th>\n",
       "      <td>386.988353</td>\n",
       "      <td>17.767208</td>\n",
       "    </tr>\n",
       "    <tr>\n",
       "      <th>min</th>\n",
       "      <td>502.690000</td>\n",
       "      <td>6.300000</td>\n",
       "    </tr>\n",
       "    <tr>\n",
       "      <th>25%</th>\n",
       "      <td>570.770000</td>\n",
       "      <td>9.300000</td>\n",
       "    </tr>\n",
       "    <tr>\n",
       "      <th>50%</th>\n",
       "      <td>658.940000</td>\n",
       "      <td>12.700000</td>\n",
       "    </tr>\n",
       "    <tr>\n",
       "      <th>75%</th>\n",
       "      <td>857.810000</td>\n",
       "      <td>20.900000</td>\n",
       "    </tr>\n",
       "    <tr>\n",
       "      <th>max</th>\n",
       "      <td>2220.300000</td>\n",
       "      <td>86.400000</td>\n",
       "    </tr>\n",
       "  </tbody>\n",
       "</table>\n",
       "</div>"
      ],
      "text/plain": [
       "              Size      Price\n",
       "count    97.000000  97.000000\n",
       "mean    815.980000  19.908247\n",
       "std     386.988353  17.767208\n",
       "min     502.690000   6.300000\n",
       "25%     570.770000   9.300000\n",
       "50%     658.940000  12.700000\n",
       "75%     857.810000  20.900000\n",
       "max    2220.300000  86.400000"
      ]
     },
     "execution_count": 5,
     "metadata": {},
     "output_type": "execute_result"
    }
   ],
   "source": [
    "raw_data.describe()"
   ]
  },
  {
   "cell_type": "code",
   "execution_count": 6,
   "metadata": {},
   "outputs": [
    {
     "data": {
      "text/plain": [
       "<matplotlib.axes._subplots.AxesSubplot at 0x22ad3bc0128>"
      ]
     },
     "execution_count": 6,
     "metadata": {},
     "output_type": "execute_result"
    },
    {
     "data": {
      "image/png": "[encoded data removed]",
      "text/plain": [
       "<Figure size 720x360 with 1 Axes>"
      ]
     },
     "metadata": {
      "needs_background": "light"
     },
     "output_type": "display_data"
    }
   ],
   "source": [
    "raw_data.plot(kind='scatter',x='Size',y='Price',figsize=(10,5))"
   ]
  },
  {
   "cell_type": "code",
   "execution_count": 7,
   "metadata": {},
   "outputs": [
    {
     "data": {
      "text/html": [
       "<div>\n",
       "<style scoped>\n",
       "    .dataframe tbody tr th:only-of-type {\n",
       "        vertical-align: middle;\n",
       "    }\n",
       "\n",
       "    .dataframe tbody tr th {\n",
       "        vertical-align: top;\n",
       "    }\n",
       "\n",
       "    .dataframe thead th {\n",
       "        text-align: right;\n",
       "    }\n",
       "</style>\n",
       "<table border=\"1\" class=\"dataframe\">\n",
       "  <thead>\n",
       "    <tr style=\"text-align: right;\">\n",
       "      <th></th>\n",
       "      <th>Size</th>\n",
       "      <th>Price</th>\n",
       "    </tr>\n",
       "  </thead>\n",
       "  <tbody>\n",
       "    <tr>\n",
       "      <th>0</th>\n",
       "      <td>-0.182399</td>\n",
       "      <td>-0.169891</td>\n",
       "    </tr>\n",
       "    <tr>\n",
       "      <th>1</th>\n",
       "      <td>-0.181840</td>\n",
       "      <td>-0.169891</td>\n",
       "    </tr>\n",
       "    <tr>\n",
       "      <th>2</th>\n",
       "      <td>-0.180786</td>\n",
       "      <td>-0.167394</td>\n",
       "    </tr>\n",
       "    <tr>\n",
       "      <th>3</th>\n",
       "      <td>-0.180507</td>\n",
       "      <td>-0.167394</td>\n",
       "    </tr>\n",
       "    <tr>\n",
       "      <th>4</th>\n",
       "      <td>-0.179878</td>\n",
       "      <td>-0.166145</td>\n",
       "    </tr>\n",
       "  </tbody>\n",
       "</table>\n",
       "</div>"
      ],
      "text/plain": [
       "       Size     Price\n",
       "0 -0.182399 -0.169891\n",
       "1 -0.181840 -0.169891\n",
       "2 -0.180786 -0.167394\n",
       "3 -0.180507 -0.167394\n",
       "4 -0.179878 -0.166145"
      ]
     },
     "execution_count": 7,
     "metadata": {},
     "output_type": "execute_result"
    }
   ],
   "source": [
    "data=(raw_data-raw_data.mean())/(raw_data.max()-raw_data.min())\n",
    "data.head()"
   ]
  },
  {
   "cell_type": "code",
   "execution_count": 8,
   "metadata": {},
   "outputs": [
    {
     "data": {
      "text/plain": [
       "<matplotlib.axes._subplots.AxesSubplot at 0x22ad5cd5940>"
      ]
     },
     "execution_count": 8,
     "metadata": {},
     "output_type": "execute_result"
    },
    {
     "data": {
      "image/png": "[encoded data removed]",
      "text/plain": [
       "<Figure size 720x360 with 1 Axes>"
      ]
     },
     "metadata": {
      "needs_background": "light"
     },
     "output_type": "display_data"
    }
   ],
   "source": [
    "data.plot(kind='scatter',x='Size',y='Price',figsize=(10,5))"
   ]
  },
  {
   "cell_type": "code",
   "execution_count": 9,
   "metadata": {},
   "outputs": [
    {
     "data": {
      "text/plain": [
       "(97, 2)"
      ]
     },
     "execution_count": 9,
     "metadata": {},
     "output_type": "execute_result"
    }
   ],
   "source": [
    "data.shape"
   ]
  },
  {
   "cell_type": "code",
   "execution_count": 10,
   "metadata": {},
   "outputs": [
    {
     "data": {
      "text/html": [
       "<div>\n",
       "<style scoped>\n",
       "    .dataframe tbody tr th:only-of-type {\n",
       "        vertical-align: middle;\n",
       "    }\n",
       "\n",
       "    .dataframe tbody tr th {\n",
       "        vertical-align: top;\n",
       "    }\n",
       "\n",
       "    .dataframe thead th {\n",
       "        text-align: right;\n",
       "    }\n",
       "</style>\n",
       "<table border=\"1\" class=\"dataframe\">\n",
       "  <thead>\n",
       "    <tr style=\"text-align: right;\">\n",
       "      <th></th>\n",
       "      <th>Ones</th>\n",
       "      <th>Size</th>\n",
       "      <th>Price</th>\n",
       "    </tr>\n",
       "  </thead>\n",
       "  <tbody>\n",
       "    <tr>\n",
       "      <th>0</th>\n",
       "      <td>1</td>\n",
       "      <td>-0.182399</td>\n",
       "      <td>-0.169891</td>\n",
       "    </tr>\n",
       "    <tr>\n",
       "      <th>1</th>\n",
       "      <td>1</td>\n",
       "      <td>-0.181840</td>\n",
       "      <td>-0.169891</td>\n",
       "    </tr>\n",
       "    <tr>\n",
       "      <th>2</th>\n",
       "      <td>1</td>\n",
       "      <td>-0.180786</td>\n",
       "      <td>-0.167394</td>\n",
       "    </tr>\n",
       "    <tr>\n",
       "      <th>3</th>\n",
       "      <td>1</td>\n",
       "      <td>-0.180507</td>\n",
       "      <td>-0.167394</td>\n",
       "    </tr>\n",
       "    <tr>\n",
       "      <th>4</th>\n",
       "      <td>1</td>\n",
       "      <td>-0.179878</td>\n",
       "      <td>-0.166145</td>\n",
       "    </tr>\n",
       "  </tbody>\n",
       "</table>\n",
       "</div>"
      ],
      "text/plain": [
       "   Ones      Size     Price\n",
       "0     1 -0.182399 -0.169891\n",
       "1     1 -0.181840 -0.169891\n",
       "2     1 -0.180786 -0.167394\n",
       "3     1 -0.180507 -0.167394\n",
       "4     1 -0.179878 -0.166145"
      ]
     },
     "execution_count": 10,
     "metadata": {},
     "output_type": "execute_result"
    }
   ],
   "source": [
    "data.insert(0,'Ones',1)\n",
    "data.head()"
   ]
  },
  {
   "cell_type": "code",
   "execution_count": 11,
   "metadata": {},
   "outputs": [
    {
     "name": "stdout",
     "output_type": "stream",
     "text": [
      "3\n"
     ]
    }
   ],
   "source": [
    "cols=data.shape[1]\n",
    "print(cols) #no. of columns"
   ]
  },
  {
   "cell_type": "code",
   "execution_count": 12,
   "metadata": {},
   "outputs": [],
   "source": [
    "x=data.iloc[:,0:cols-1]\n",
    "y=data.iloc[:,cols-1:cols]"
   ]
  },
  {
   "cell_type": "code",
   "execution_count": 13,
   "metadata": {},
   "outputs": [],
   "source": [
    "x=np.matrix(x)\n",
    "y=np.matrix(y)"
   ]
  },
  {
   "cell_type": "code",
   "execution_count": 14,
   "metadata": {},
   "outputs": [],
   "source": [
    "theta=np.matrix(np.array([0,0]))"
   ]
  },
  {
   "cell_type": "code",
   "execution_count": 15,
   "metadata": {},
   "outputs": [
    {
     "data": {
      "text/plain": [
       "((97, 2), (1, 2), (97, 1))"
      ]
     },
     "execution_count": 15,
     "metadata": {},
     "output_type": "execute_result"
    }
   ],
   "source": [
    "x.shape,theta.shape,y.shape"
   ]
  },
  {
   "cell_type": "code",
   "execution_count": 16,
   "metadata": {},
   "outputs": [],
   "source": [
    "def computeError(x,y,theta):\n",
    "    inner=np.power(((x*theta.T)-y),2)\n",
    "    return np.sum(inner)/(2*len(x))"
   ]
  },
  {
   "cell_type": "code",
   "execution_count": 17,
   "metadata": {},
   "outputs": [
    {
     "data": {
      "text/plain": [
       "0.024346853685025278"
      ]
     },
     "execution_count": 17,
     "metadata": {},
     "output_type": "execute_result"
    }
   ],
   "source": [
    "computeError(x,y,theta)"
   ]
  },
  {
   "cell_type": "code",
   "execution_count": 18,
   "metadata": {},
   "outputs": [],
   "source": [
    "Learn_rate=1"
   ]
  },
  {
   "cell_type": "code",
   "execution_count": 19,
   "metadata": {},
   "outputs": [],
   "source": [
    "iters=150"
   ]
  },
  {
   "cell_type": "code",
   "execution_count": 20,
   "metadata": {},
   "outputs": [],
   "source": [
    "def gradientDescent(x,y,theta,Learn_rate,iters):\n",
    "    temp=np.matrix(np.zeros(theta.shape))\n",
    "    parameters=int(theta.ravel().shape[1])\n",
    "    cost=np.zeros(iters)\n",
    "    for i in range(iters):\n",
    "        error=(x*theta.T)-y\n",
    "        for j in range(parameters):\n",
    "            term=np.multiply(error,x[:,])\n",
    "            temp[0,j]=theta[0,j]-((Learn_rate/len(x))*np.sum(term))\n",
    "        theta=temp\n",
    "        cost[i]=computeError(x,y,theta)\n",
    "    return theta,cost"
   ]
  },
  {
   "cell_type": "code",
   "execution_count": 21,
   "metadata": {},
   "outputs": [
    {
     "name": "stdout",
     "output_type": "stream",
     "text": [
      "[[0.0470416 0.0470416]] [0.02318774 0.02318482 0.02318481 0.02318481 0.02318481 0.02318481\n",
      " 0.02318481 0.02318481 0.02318481 0.02318481 0.02318481 0.02318481\n",
      " 0.02318481 0.02318481 0.02318481 0.02318481 0.02318481 0.02318481\n",
      " 0.02318481 0.02318481 0.02318481 0.02318481 0.02318481 0.02318481\n",
      " 0.02318481 0.02318481 0.02318481 0.02318481 0.02318481 0.02318481\n",
      " 0.02318481 0.02318481 0.02318481 0.02318481 0.02318481 0.02318481\n",
      " 0.02318481 0.02318481 0.02318481 0.02318481 0.02318481 0.02318481\n",
      " 0.02318481 0.02318481 0.02318481 0.02318481 0.02318481 0.02318481\n",
      " 0.02318481 0.02318481 0.02318481 0.02318481 0.02318481 0.02318481\n",
      " 0.02318481 0.02318481 0.02318481 0.02318481 0.02318481 0.02318481\n",
      " 0.02318481 0.02318481 0.02318481 0.02318481 0.02318481 0.02318481\n",
      " 0.02318481 0.02318481 0.02318481 0.02318481 0.02318481 0.02318481\n",
      " 0.02318481 0.02318481 0.02318481 0.02318481 0.02318481 0.02318481\n",
      " 0.02318481 0.02318481 0.02318481 0.02318481 0.02318481 0.02318481\n",
      " 0.02318481 0.02318481 0.02318481 0.02318481 0.02318481 0.02318481\n",
      " 0.02318481 0.02318481 0.02318481 0.02318481 0.02318481 0.02318481\n",
      " 0.02318481 0.02318481 0.02318481 0.02318481 0.02318481 0.02318481\n",
      " 0.02318481 0.02318481 0.02318481 0.02318481 0.02318481 0.02318481\n",
      " 0.02318481 0.02318481 0.02318481 0.02318481 0.02318481 0.02318481\n",
      " 0.02318481 0.02318481 0.02318481 0.02318481 0.02318481 0.02318481\n",
      " 0.02318481 0.02318481 0.02318481 0.02318481 0.02318481 0.02318481\n",
      " 0.02318481 0.02318481 0.02318481 0.02318481 0.02318481 0.02318481\n",
      " 0.02318481 0.02318481 0.02318481 0.02318481 0.02318481 0.02318481\n",
      " 0.02318481 0.02318481 0.02318481 0.02318481 0.02318481 0.02318481\n",
      " 0.02318481 0.02318481 0.02318481 0.02318481 0.02318481 0.02318481]\n"
     ]
    }
   ],
   "source": [
    "new_theta,cost=gradientDescent(x,y,theta,Learn_rate,iters)\n",
    "print(new_theta,cost)"
   ]
  },
  {
   "cell_type": "code",
   "execution_count": 22,
   "metadata": {},
   "outputs": [
    {
     "data": {
      "text/plain": [
       "0.0231848098114194"
      ]
     },
     "execution_count": 22,
     "metadata": {},
     "output_type": "execute_result"
    }
   ],
   "source": [
    "computeError(x,y,new_theta)"
   ]
  },
  {
   "cell_type": "code",
   "execution_count": 23,
   "metadata": {},
   "outputs": [],
   "source": [
    "x=data.Size"
   ]
  },
  {
   "cell_type": "code",
   "execution_count": 24,
   "metadata": {},
   "outputs": [
    {
     "data": {
      "text/plain": [
       "0    -0.182399\n",
       "1    -0.181840\n",
       "2    -0.180786\n",
       "3    -0.180507\n",
       "4    -0.179878\n",
       "5    -0.177695\n",
       "6    -0.176390\n",
       "7    -0.173526\n",
       "8    -0.172996\n",
       "9    -0.169270\n",
       "10   -0.166184\n",
       "11   -0.166051\n",
       "12   -0.161876\n",
       "13   -0.160275\n",
       "14   -0.158528\n",
       "15   -0.155431\n",
       "16   -0.154890\n",
       "17   -0.153667\n",
       "18   -0.153242\n",
       "19   -0.152433\n",
       "20   -0.151076\n",
       "21   -0.148666\n",
       "22   -0.146721\n",
       "23   -0.146663\n",
       "24   -0.142762\n",
       "25   -0.142588\n",
       "26   -0.141511\n",
       "27   -0.141231\n",
       "28   -0.138920\n",
       "29   -0.137307\n",
       "        ...   \n",
       "67    0.007877\n",
       "68    0.012989\n",
       "69    0.014474\n",
       "70    0.020808\n",
       "71    0.020889\n",
       "72    0.024354\n",
       "73    0.038752\n",
       "74    0.059408\n",
       "75    0.063367\n",
       "76    0.066977\n",
       "77    0.075326\n",
       "78    0.093671\n",
       "79    0.115055\n",
       "80    0.120877\n",
       "81    0.123090\n",
       "82    0.162854\n",
       "83    0.206112\n",
       "84    0.206578\n",
       "85    0.271785\n",
       "86    0.272250\n",
       "87    0.292045\n",
       "88    0.304737\n",
       "89    0.349567\n",
       "90    0.392883\n",
       "91    0.627919\n",
       "92    0.628734\n",
       "93    0.705061\n",
       "94    0.709195\n",
       "95    0.763806\n",
       "96    0.817601\n",
       "Name: Size, Length: 97, dtype: float64"
      ]
     },
     "execution_count": 24,
     "metadata": {},
     "output_type": "execute_result"
    }
   ],
   "source": [
    "x"
   ]
  },
  {
   "cell_type": "code",
   "execution_count": 25,
   "metadata": {},
   "outputs": [],
   "source": [
    "Model_price=new_theta[0,0]+(new_theta[0,1]*x)"
   ]
  },
  {
   "cell_type": "code",
   "execution_count": 26,
   "metadata": {},
   "outputs": [
    {
     "data": {
      "text/plain": [
       "Text(0.5, 1.0, 'Predicted Price vs Size')"
      ]
     },
     "execution_count": 26,
     "metadata": {},
     "output_type": "execute_result"
    },
    {
     "data": {
      "image/png": "[encoded data removed]",
      "text/plain": [
       "<Figure size 864x576 with 1 Axes>"
      ]
     },
     "metadata": {
      "needs_background": "light"
     },
     "output_type": "display_data"
    }
   ],
   "source": [
    "fig,ax=plt.subplots(figsize=(12,8))\n",
    "ax.plot(x,Model_price,'r',label='Prediction')\n",
    "ax.scatter(data.Size,data.Price,label='Training Data')\n",
    "ax.legend(loc=2)\n",
    "ax.set_xlabel('Size')\n",
    "ax.set_ylabel('Price')\n",
    "ax.set_title('Predicted Price vs Size')"
   ]
  },
  {
   "cell_type": "code",
   "execution_count": 27,
   "metadata": {},
   "outputs": [
    {
     "data": {
      "text/plain": [
       "Text(0.5, 1.0, 'Error vs Iterations')"
      ]
     },
     "execution_count": 27,
     "metadata": {},
     "output_type": "execute_result"
    },
    {
     "data": {
      "image/png": "[encoded data removed]",
      "text/plain": [
       "<Figure size 864x576 with 1 Axes>"
      ]
     },
     "metadata": {
      "needs_background": "light"
     },
     "output_type": "display_data"
    }
   ],
   "source": [
    "fig,ax=plt.subplots(figsize=(12,8))\n",
    "ax.plot(np.arange(iters),cost,'r')\n",
    "\n",
    "ax.set_xlabel('Iterations')\n",
    "ax.set_ylabel('Cost')\n",
    "ax.set_title('Error vs Iterations')"
   ]
  },
  {
   "cell_type": "code",
   "execution_count": 28,
   "metadata": {},
   "outputs": [
    {
     "name": "stdout",
     "output_type": "stream",
     "text": [
      "accuracy %=95.36303803771612\n"
     ]
    }
   ],
   "source": [
    "import math\n",
    "erro_r=[np.power((b-a),2) for (a,b) in zip(Model_price,y)] #mean absolute percentage error\n",
    "error0=np.sum(erro_r)\n",
    "error=(error0/len(y))*100\n",
    "accuracy=100-error\n",
    "print(\"accuracy %={}\".format(accuracy))"
   ]
  },
  {
   "cell_type": "code",
   "execution_count": 29,
   "metadata": {},
   "outputs": [],
   "source": [
    "def predict(new_theta,accuracy):\n",
    "    #get input from the user\n",
    "    size=float(input(\"enter the size of the House in sqt.\"))\n",
    "    #mean Normalisation\n",
    "    size=(size-raw_data.Size.mean())/(raw_data.Size.max()-raw_data.Size.min())\n",
    "    #model\n",
    "    price=(new_theta[0,0]+(new_theta[0,1]*size))\n",
    "    #Reverse Mean Normalisation\n",
    "    Predicted_Price=(price*(raw_data.Price.max()-raw_data.Price.min()))+(raw_data.Price.mean())\n",
    "    Price_at_Max_Accuracy=(Predicted_Price*(1/accuracy)*100)\n",
    "    Price_range=Price_at_Max_Accuracy-Predicted_Price\n",
    "    return Predicted_Price,Price_range"
   ]
  },
  {
   "cell_type": "code",
   "execution_count": 33,
   "metadata": {},
   "outputs": [
    {
     "name": "stdout",
     "output_type": "stream",
     "text": [
      "enter the size of the House in sqt.3000\n",
      "Your house cost is28.467505156913067Lakhs(+ or -)1.3842128070785513Lakhs\n"
     ]
    }
   ],
   "source": [
    "#Final prediction based on Univariate Regression\n",
    "Predicted_Price,Price_range=predict(new_theta,accuracy)\n",
    "print('Your house cost is'+str(Predicted_Price)+'Lakhs'+'(+ or -)'+str(Price_range)+'Lakhs')"
   ]
  },
  {
   "cell_type": "code",
   "execution_count": null,
   "metadata": {},
   "outputs": [],
   "source": [
    "#Multivariate Regression"
   ]
  },
  {
   "cell_type": "code",
   "execution_count": 34,
   "metadata": {},
   "outputs": [],
   "source": [
    "import numpy as np\n",
    "import pandas as pd\n",
    "import matplotlib.pyplot as plt\n",
    "%matplotlib inline"
   ]
  },
  {
   "cell_type": "code",
   "execution_count": 35,
   "metadata": {},
   "outputs": [
    {
     "data": {
      "text/html": [
       "<div>\n",
       "<style scoped>\n",
       "    .dataframe tbody tr th:only-of-type {\n",
       "        vertical-align: middle;\n",
       "    }\n",
       "\n",
       "    .dataframe tbody tr th {\n",
       "        vertical-align: top;\n",
       "    }\n",
       "\n",
       "    .dataframe thead th {\n",
       "        text-align: right;\n",
       "    }\n",
       "</style>\n",
       "<table border=\"1\" class=\"dataframe\">\n",
       "  <thead>\n",
       "    <tr style=\"text-align: right;\">\n",
       "      <th></th>\n",
       "      <th>AreaCode</th>\n",
       "      <th>INT_SQFT</th>\n",
       "      <th>DIST_MAINROAD</th>\n",
       "      <th>N_BEDROOM</th>\n",
       "      <th>N_BATHROOM</th>\n",
       "      <th>OTHER_ROOMS</th>\n",
       "      <th>PARK_FACILITY</th>\n",
       "      <th>BUILDINGTYPE</th>\n",
       "      <th>UTILITY_AVAIL</th>\n",
       "      <th>STREET</th>\n",
       "      <th>MZZONE</th>\n",
       "      <th>QS_ROOMS</th>\n",
       "      <th>QS_BATHROOM</th>\n",
       "      <th>QS_BEDROOM</th>\n",
       "      <th>REG_FEE</th>\n",
       "      <th>COMMIS</th>\n",
       "      <th>SALES_PRICE</th>\n",
       "    </tr>\n",
       "  </thead>\n",
       "  <tbody>\n",
       "    <tr>\n",
       "      <th>0</th>\n",
       "      <td>4</td>\n",
       "      <td>1004</td>\n",
       "      <td>131</td>\n",
       "      <td>1</td>\n",
       "      <td>1</td>\n",
       "      <td>1</td>\n",
       "      <td>1</td>\n",
       "      <td>1</td>\n",
       "      <td>1</td>\n",
       "      <td>2</td>\n",
       "      <td>1</td>\n",
       "      <td>4.0</td>\n",
       "      <td>3.9</td>\n",
       "      <td>4.9</td>\n",
       "      <td>380000</td>\n",
       "      <td>144400</td>\n",
       "      <td>7600000</td>\n",
       "    </tr>\n",
       "    <tr>\n",
       "      <th>1</th>\n",
       "      <td>2</td>\n",
       "      <td>1986</td>\n",
       "      <td>26</td>\n",
       "      <td>2</td>\n",
       "      <td>1</td>\n",
       "      <td>2</td>\n",
       "      <td>0</td>\n",
       "      <td>1</td>\n",
       "      <td>1</td>\n",
       "      <td>1</td>\n",
       "      <td>4</td>\n",
       "      <td>4.9</td>\n",
       "      <td>4.2</td>\n",
       "      <td>2.5</td>\n",
       "      <td>760122</td>\n",
       "      <td>304049</td>\n",
       "      <td>21717770</td>\n",
       "    </tr>\n",
       "    <tr>\n",
       "      <th>2</th>\n",
       "      <td>1</td>\n",
       "      <td>909</td>\n",
       "      <td>70</td>\n",
       "      <td>1</td>\n",
       "      <td>1</td>\n",
       "      <td>1</td>\n",
       "      <td>1</td>\n",
       "      <td>1</td>\n",
       "      <td>2</td>\n",
       "      <td>1</td>\n",
       "      <td>5</td>\n",
       "      <td>4.1</td>\n",
       "      <td>3.8</td>\n",
       "      <td>2.2</td>\n",
       "      <td>421094</td>\n",
       "      <td>92114</td>\n",
       "      <td>13159200</td>\n",
       "    </tr>\n",
       "    <tr>\n",
       "      <th>3</th>\n",
       "      <td>7</td>\n",
       "      <td>1855</td>\n",
       "      <td>14</td>\n",
       "      <td>3</td>\n",
       "      <td>2</td>\n",
       "      <td>0</td>\n",
       "      <td>0</td>\n",
       "      <td>3</td>\n",
       "      <td>3</td>\n",
       "      <td>2</td>\n",
       "      <td>3</td>\n",
       "      <td>4.7</td>\n",
       "      <td>3.9</td>\n",
       "      <td>3.6</td>\n",
       "      <td>356321</td>\n",
       "      <td>77042</td>\n",
       "      <td>9630290</td>\n",
       "    </tr>\n",
       "    <tr>\n",
       "      <th>4</th>\n",
       "      <td>4</td>\n",
       "      <td>1226</td>\n",
       "      <td>84</td>\n",
       "      <td>1</td>\n",
       "      <td>1</td>\n",
       "      <td>1</td>\n",
       "      <td>1</td>\n",
       "      <td>3</td>\n",
       "      <td>1</td>\n",
       "      <td>1</td>\n",
       "      <td>2</td>\n",
       "      <td>3.0</td>\n",
       "      <td>2.5</td>\n",
       "      <td>4.1</td>\n",
       "      <td>237000</td>\n",
       "      <td>74063</td>\n",
       "      <td>7406250</td>\n",
       "    </tr>\n",
       "  </tbody>\n",
       "</table>\n",
       "</div>"
      ],
      "text/plain": [
       "   AreaCode  INT_SQFT  DIST_MAINROAD  N_BEDROOM  N_BATHROOM  OTHER_ROOMS  \\\n",
       "0         4      1004            131          1           1            1   \n",
       "1         2      1986             26          2           1            2   \n",
       "2         1       909             70          1           1            1   \n",
       "3         7      1855             14          3           2            0   \n",
       "4         4      1226             84          1           1            1   \n",
       "\n",
       "   PARK_FACILITY  BUILDINGTYPE  UTILITY_AVAIL  STREET  MZZONE  QS_ROOMS  \\\n",
       "0              1             1              1       2       1       4.0   \n",
       "1              0             1              1       1       4       4.9   \n",
       "2              1             1              2       1       5       4.1   \n",
       "3              0             3              3       2       3       4.7   \n",
       "4              1             3              1       1       2       3.0   \n",
       "\n",
       "   QS_BATHROOM  QS_BEDROOM  REG_FEE  COMMIS  SALES_PRICE  \n",
       "0          3.9         4.9   380000  144400      7600000  \n",
       "1          4.2         2.5   760122  304049     21717770  \n",
       "2          3.8         2.2   421094   92114     13159200  \n",
       "3          3.9         3.6   356321   77042      9630290  \n",
       "4          2.5         4.1   237000   74063      7406250  "
      ]
     },
     "execution_count": 35,
     "metadata": {},
     "output_type": "execute_result"
    }
   ],
   "source": [
    "df = pd.read_csv(\"chennai_house_multivariate_train.csv\")\n",
    "df.head()"
   ]
  },
  {
   "cell_type": "code",
   "execution_count": 36,
   "metadata": {},
   "outputs": [
    {
     "data": {
      "text/html": [
       "<div>\n",
       "<style scoped>\n",
       "    .dataframe tbody tr th:only-of-type {\n",
       "        vertical-align: middle;\n",
       "    }\n",
       "\n",
       "    .dataframe tbody tr th {\n",
       "        vertical-align: top;\n",
       "    }\n",
       "\n",
       "    .dataframe thead th {\n",
       "        text-align: right;\n",
       "    }\n",
       "</style>\n",
       "<table border=\"1\" class=\"dataframe\">\n",
       "  <thead>\n",
       "    <tr style=\"text-align: right;\">\n",
       "      <th></th>\n",
       "      <th>AreaCode</th>\n",
       "      <th>INT_SQFT</th>\n",
       "      <th>DIST_MAINROAD</th>\n",
       "      <th>N_BEDROOM</th>\n",
       "      <th>N_BATHROOM</th>\n",
       "      <th>OTHER_ROOMS</th>\n",
       "      <th>PARK_FACILITY</th>\n",
       "      <th>BUILDINGTYPE</th>\n",
       "      <th>UTILITY_AVAIL</th>\n",
       "      <th>STREET</th>\n",
       "      <th>MZZONE</th>\n",
       "      <th>QS_ROOMS</th>\n",
       "      <th>QS_BATHROOM</th>\n",
       "      <th>QS_BEDROOM</th>\n",
       "      <th>REG_FEE</th>\n",
       "      <th>COMMIS</th>\n",
       "      <th>SALES_PRICE</th>\n",
       "    </tr>\n",
       "  </thead>\n",
       "  <tbody>\n",
       "    <tr>\n",
       "      <th>0</th>\n",
       "      <td>0.018003</td>\n",
       "      <td>-0.188889</td>\n",
       "      <td>0.157498</td>\n",
       "      <td>-0.211313</td>\n",
       "      <td>-0.214536</td>\n",
       "      <td>0.081264</td>\n",
       "      <td>0.492415</td>\n",
       "      <td>-0.499333</td>\n",
       "      <td>-0.624771</td>\n",
       "      <td>0.458243</td>\n",
       "      <td>-0.661577</td>\n",
       "      <td>0.157182</td>\n",
       "      <td>0.132033</td>\n",
       "      <td>0.473190</td>\n",
       "      <td>0.002950</td>\n",
       "      <td>0.007290</td>\n",
       "      <td>-0.153105</td>\n",
       "    </tr>\n",
       "    <tr>\n",
       "      <th>1</th>\n",
       "      <td>-0.315330</td>\n",
       "      <td>0.302356</td>\n",
       "      <td>-0.367502</td>\n",
       "      <td>0.122020</td>\n",
       "      <td>-0.214536</td>\n",
       "      <td>0.581264</td>\n",
       "      <td>-0.507585</td>\n",
       "      <td>-0.499333</td>\n",
       "      <td>-0.624771</td>\n",
       "      <td>-0.041757</td>\n",
       "      <td>-0.061577</td>\n",
       "      <td>0.457182</td>\n",
       "      <td>0.232033</td>\n",
       "      <td>-0.326810</td>\n",
       "      <td>0.419410</td>\n",
       "      <td>0.332871</td>\n",
       "      <td>0.503216</td>\n",
       "    </tr>\n",
       "    <tr>\n",
       "      <th>2</th>\n",
       "      <td>-0.481997</td>\n",
       "      <td>-0.236413</td>\n",
       "      <td>-0.147502</td>\n",
       "      <td>-0.211313</td>\n",
       "      <td>-0.214536</td>\n",
       "      <td>0.081264</td>\n",
       "      <td>0.492415</td>\n",
       "      <td>-0.499333</td>\n",
       "      <td>-0.124771</td>\n",
       "      <td>-0.041757</td>\n",
       "      <td>0.138423</td>\n",
       "      <td>0.190515</td>\n",
       "      <td>0.098700</td>\n",
       "      <td>-0.426810</td>\n",
       "      <td>0.047972</td>\n",
       "      <td>-0.099340</td>\n",
       "      <td>0.105336</td>\n",
       "    </tr>\n",
       "    <tr>\n",
       "      <th>3</th>\n",
       "      <td>0.518003</td>\n",
       "      <td>0.236824</td>\n",
       "      <td>-0.427502</td>\n",
       "      <td>0.455354</td>\n",
       "      <td>0.785464</td>\n",
       "      <td>-0.418736</td>\n",
       "      <td>-0.507585</td>\n",
       "      <td>0.500667</td>\n",
       "      <td>0.375229</td>\n",
       "      <td>0.458243</td>\n",
       "      <td>-0.261577</td>\n",
       "      <td>0.390515</td>\n",
       "      <td>0.132033</td>\n",
       "      <td>0.039857</td>\n",
       "      <td>-0.022993</td>\n",
       "      <td>-0.130078</td>\n",
       "      <td>-0.058719</td>\n",
       "    </tr>\n",
       "    <tr>\n",
       "      <th>4</th>\n",
       "      <td>0.018003</td>\n",
       "      <td>-0.077834</td>\n",
       "      <td>-0.077502</td>\n",
       "      <td>-0.211313</td>\n",
       "      <td>-0.214536</td>\n",
       "      <td>0.081264</td>\n",
       "      <td>0.492415</td>\n",
       "      <td>0.500667</td>\n",
       "      <td>-0.624771</td>\n",
       "      <td>-0.041757</td>\n",
       "      <td>-0.461577</td>\n",
       "      <td>-0.176152</td>\n",
       "      <td>-0.334634</td>\n",
       "      <td>0.206523</td>\n",
       "      <td>-0.153721</td>\n",
       "      <td>-0.136153</td>\n",
       "      <td>-0.162112</td>\n",
       "    </tr>\n",
       "  </tbody>\n",
       "</table>\n",
       "</div>"
      ],
      "text/plain": [
       "   AreaCode  INT_SQFT  DIST_MAINROAD  N_BEDROOM  N_BATHROOM  OTHER_ROOMS  \\\n",
       "0  0.018003 -0.188889       0.157498  -0.211313   -0.214536     0.081264   \n",
       "1 -0.315330  0.302356      -0.367502   0.122020   -0.214536     0.581264   \n",
       "2 -0.481997 -0.236413      -0.147502  -0.211313   -0.214536     0.081264   \n",
       "3  0.518003  0.236824      -0.427502   0.455354    0.785464    -0.418736   \n",
       "4  0.018003 -0.077834      -0.077502  -0.211313   -0.214536     0.081264   \n",
       "\n",
       "   PARK_FACILITY  BUILDINGTYPE  UTILITY_AVAIL    STREET    MZZONE  QS_ROOMS  \\\n",
       "0       0.492415     -0.499333      -0.624771  0.458243 -0.661577  0.157182   \n",
       "1      -0.507585     -0.499333      -0.624771 -0.041757 -0.061577  0.457182   \n",
       "2       0.492415     -0.499333      -0.124771 -0.041757  0.138423  0.190515   \n",
       "3      -0.507585      0.500667       0.375229  0.458243 -0.261577  0.390515   \n",
       "4       0.492415      0.500667      -0.624771 -0.041757 -0.461577 -0.176152   \n",
       "\n",
       "   QS_BATHROOM  QS_BEDROOM   REG_FEE    COMMIS  SALES_PRICE  \n",
       "0     0.132033    0.473190  0.002950  0.007290    -0.153105  \n",
       "1     0.232033   -0.326810  0.419410  0.332871     0.503216  \n",
       "2     0.098700   -0.426810  0.047972 -0.099340     0.105336  \n",
       "3     0.132033    0.039857 -0.022993 -0.130078    -0.058719  \n",
       "4    -0.334634    0.206523 -0.153721 -0.136153    -0.162112  "
      ]
     },
     "execution_count": 36,
     "metadata": {},
     "output_type": "execute_result"
    }
   ],
   "source": [
    "df = (df - df.mean())/(df.max() - df.min())\n",
    "df.head()"
   ]
  },
  {
   "cell_type": "code",
   "execution_count": 37,
   "metadata": {},
   "outputs": [
    {
     "data": {
      "text/html": [
       "<div>\n",
       "<style scoped>\n",
       "    .dataframe tbody tr th:only-of-type {\n",
       "        vertical-align: middle;\n",
       "    }\n",
       "\n",
       "    .dataframe tbody tr th {\n",
       "        vertical-align: top;\n",
       "    }\n",
       "\n",
       "    .dataframe thead th {\n",
       "        text-align: right;\n",
       "    }\n",
       "</style>\n",
       "<table border=\"1\" class=\"dataframe\">\n",
       "  <thead>\n",
       "    <tr style=\"text-align: right;\">\n",
       "      <th></th>\n",
       "      <th>AreaCode</th>\n",
       "      <th>INT_SQFT</th>\n",
       "      <th>DIST_MAINROAD</th>\n",
       "      <th>N_BEDROOM</th>\n",
       "      <th>N_BATHROOM</th>\n",
       "      <th>OTHER_ROOMS</th>\n",
       "      <th>PARK_FACILITY</th>\n",
       "      <th>BUILDINGTYPE</th>\n",
       "      <th>UTILITY_AVAIL</th>\n",
       "      <th>STREET</th>\n",
       "      <th>MZZONE</th>\n",
       "      <th>QS_ROOMS</th>\n",
       "      <th>QS_BATHROOM</th>\n",
       "      <th>QS_BEDROOM</th>\n",
       "      <th>REG_FEE</th>\n",
       "      <th>COMMIS</th>\n",
       "      <th>SALES_PRICE</th>\n",
       "    </tr>\n",
       "  </thead>\n",
       "  <tbody>\n",
       "    <tr>\n",
       "      <th>count</th>\n",
       "      <td>5.999000e+03</td>\n",
       "      <td>5.999000e+03</td>\n",
       "      <td>5.999000e+03</td>\n",
       "      <td>5.999000e+03</td>\n",
       "      <td>5.999000e+03</td>\n",
       "      <td>5.999000e+03</td>\n",
       "      <td>5.999000e+03</td>\n",
       "      <td>5.999000e+03</td>\n",
       "      <td>5.999000e+03</td>\n",
       "      <td>5.999000e+03</td>\n",
       "      <td>5.999000e+03</td>\n",
       "      <td>5.999000e+03</td>\n",
       "      <td>5.999000e+03</td>\n",
       "      <td>5.999000e+03</td>\n",
       "      <td>5.999000e+03</td>\n",
       "      <td>5.999000e+03</td>\n",
       "      <td>5.999000e+03</td>\n",
       "    </tr>\n",
       "    <tr>\n",
       "      <th>mean</th>\n",
       "      <td>2.093119e-17</td>\n",
       "      <td>-3.532948e-17</td>\n",
       "      <td>-1.665612e-19</td>\n",
       "      <td>1.454912e-16</td>\n",
       "      <td>1.352477e-16</td>\n",
       "      <td>-4.870990e-17</td>\n",
       "      <td>-4.619668e-16</td>\n",
       "      <td>1.933591e-16</td>\n",
       "      <td>-1.427615e-16</td>\n",
       "      <td>1.097268e-16</td>\n",
       "      <td>7.954223e-17</td>\n",
       "      <td>1.158146e-15</td>\n",
       "      <td>3.101175e-15</td>\n",
       "      <td>-2.912656e-15</td>\n",
       "      <td>3.284957e-18</td>\n",
       "      <td>-1.091901e-17</td>\n",
       "      <td>9.836365e-18</td>\n",
       "    </tr>\n",
       "    <tr>\n",
       "      <th>std</th>\n",
       "      <td>3.035182e-01</td>\n",
       "      <td>2.282279e-01</td>\n",
       "      <td>2.875667e-01</td>\n",
       "      <td>2.668545e-01</td>\n",
       "      <td>4.105341e-01</td>\n",
       "      <td>3.531722e-01</td>\n",
       "      <td>4.999841e-01</td>\n",
       "      <td>4.059612e-01</td>\n",
       "      <td>4.257780e-01</td>\n",
       "      <td>3.991885e-01</td>\n",
       "      <td>3.008085e-01</td>\n",
       "      <td>2.967964e-01</td>\n",
       "      <td>2.986970e-01</td>\n",
       "      <td>2.951563e-01</td>\n",
       "      <td>1.556604e-01</td>\n",
       "      <td>1.597292e-01</td>\n",
       "      <td>1.742934e-01</td>\n",
       "    </tr>\n",
       "    <tr>\n",
       "      <th>min</th>\n",
       "      <td>-4.819970e-01</td>\n",
       "      <td>-4.410154e-01</td>\n",
       "      <td>-4.975021e-01</td>\n",
       "      <td>-2.113130e-01</td>\n",
       "      <td>-2.145358e-01</td>\n",
       "      <td>-4.187365e-01</td>\n",
       "      <td>-5.075846e-01</td>\n",
       "      <td>-4.993332e-01</td>\n",
       "      <td>-6.247708e-01</td>\n",
       "      <td>-5.417570e-01</td>\n",
       "      <td>-6.615769e-01</td>\n",
       "      <td>-5.094849e-01</td>\n",
       "      <td>-5.013002e-01</td>\n",
       "      <td>-4.934767e-01</td>\n",
       "      <td>-3.353957e-01</td>\n",
       "      <td>-2.768850e-01</td>\n",
       "      <td>-4.061506e-01</td>\n",
       "    </tr>\n",
       "    <tr>\n",
       "      <th>25%</th>\n",
       "      <td>-1.486637e-01</td>\n",
       "      <td>-1.943921e-01</td>\n",
       "      <td>-2.475021e-01</td>\n",
       "      <td>-2.113130e-01</td>\n",
       "      <td>-2.145358e-01</td>\n",
       "      <td>-4.187365e-01</td>\n",
       "      <td>-5.075846e-01</td>\n",
       "      <td>-4.993332e-01</td>\n",
       "      <td>-6.247708e-01</td>\n",
       "      <td>-5.417570e-01</td>\n",
       "      <td>-6.157693e-02</td>\n",
       "      <td>-2.428182e-01</td>\n",
       "      <td>-2.679669e-01</td>\n",
       "      <td>-2.601434e-01</td>\n",
       "      <td>-1.136119e-01</td>\n",
       "      <td>-1.156073e-01</td>\n",
       "      <td>-1.211486e-01</td>\n",
       "    </tr>\n",
       "    <tr>\n",
       "      <th>50%</th>\n",
       "      <td>1.800300e-02</td>\n",
       "      <td>-3.796781e-03</td>\n",
       "      <td>-2.502084e-03</td>\n",
       "      <td>-2.113130e-01</td>\n",
       "      <td>-2.145358e-01</td>\n",
       "      <td>8.126354e-02</td>\n",
       "      <td>4.924154e-01</td>\n",
       "      <td>6.667778e-04</td>\n",
       "      <td>3.752292e-01</td>\n",
       "      <td>-4.175696e-02</td>\n",
       "      <td>1.384231e-01</td>\n",
       "      <td>-9.484914e-03</td>\n",
       "      <td>-1.300217e-03</td>\n",
       "      <td>6.523309e-03</td>\n",
       "      <td>-2.837781e-02</td>\n",
       "      <td>-2.666370e-02</td>\n",
       "      <td>-2.448916e-02</td>\n",
       "    </tr>\n",
       "    <tr>\n",
       "      <th>75%</th>\n",
       "      <td>1.846697e-01</td>\n",
       "      <td>1.812958e-01</td>\n",
       "      <td>2.424979e-01</td>\n",
       "      <td>1.220203e-01</td>\n",
       "      <td>-2.145358e-01</td>\n",
       "      <td>8.126354e-02</td>\n",
       "      <td>4.924154e-01</td>\n",
       "      <td>5.006668e-01</td>\n",
       "      <td>3.752292e-01</td>\n",
       "      <td>4.582430e-01</td>\n",
       "      <td>3.384231e-01</td>\n",
       "      <td>2.571818e-01</td>\n",
       "      <td>2.653664e-01</td>\n",
       "      <td>2.398566e-01</td>\n",
       "      <td>8.189724e-02</td>\n",
       "      <td>9.009882e-02</td>\n",
       "      <td>9.635156e-02</td>\n",
       "    </tr>\n",
       "    <tr>\n",
       "      <th>max</th>\n",
       "      <td>5.180030e-01</td>\n",
       "      <td>5.589846e-01</td>\n",
       "      <td>5.024979e-01</td>\n",
       "      <td>7.886870e-01</td>\n",
       "      <td>7.854642e-01</td>\n",
       "      <td>5.812635e-01</td>\n",
       "      <td>4.924154e-01</td>\n",
       "      <td>5.006668e-01</td>\n",
       "      <td>3.752292e-01</td>\n",
       "      <td>4.582430e-01</td>\n",
       "      <td>3.384231e-01</td>\n",
       "      <td>4.905151e-01</td>\n",
       "      <td>4.986998e-01</td>\n",
       "      <td>5.065233e-01</td>\n",
       "      <td>6.646043e-01</td>\n",
       "      <td>7.231150e-01</td>\n",
       "      <td>5.938494e-01</td>\n",
       "    </tr>\n",
       "  </tbody>\n",
       "</table>\n",
       "</div>"
      ],
      "text/plain": [
       "           AreaCode      INT_SQFT  DIST_MAINROAD     N_BEDROOM    N_BATHROOM  \\\n",
       "count  5.999000e+03  5.999000e+03   5.999000e+03  5.999000e+03  5.999000e+03   \n",
       "mean   2.093119e-17 -3.532948e-17  -1.665612e-19  1.454912e-16  1.352477e-16   \n",
       "std    3.035182e-01  2.282279e-01   2.875667e-01  2.668545e-01  4.105341e-01   \n",
       "min   -4.819970e-01 -4.410154e-01  -4.975021e-01 -2.113130e-01 -2.145358e-01   \n",
       "25%   -1.486637e-01 -1.943921e-01  -2.475021e-01 -2.113130e-01 -2.145358e-01   \n",
       "50%    1.800300e-02 -3.796781e-03  -2.502084e-03 -2.113130e-01 -2.145358e-01   \n",
       "75%    1.846697e-01  1.812958e-01   2.424979e-01  1.220203e-01 -2.145358e-01   \n",
       "max    5.180030e-01  5.589846e-01   5.024979e-01  7.886870e-01  7.854642e-01   \n",
       "\n",
       "        OTHER_ROOMS  PARK_FACILITY  BUILDINGTYPE  UTILITY_AVAIL        STREET  \\\n",
       "count  5.999000e+03   5.999000e+03  5.999000e+03   5.999000e+03  5.999000e+03   \n",
       "mean  -4.870990e-17  -4.619668e-16  1.933591e-16  -1.427615e-16  1.097268e-16   \n",
       "std    3.531722e-01   4.999841e-01  4.059612e-01   4.257780e-01  3.991885e-01   \n",
       "min   -4.187365e-01  -5.075846e-01 -4.993332e-01  -6.247708e-01 -5.417570e-01   \n",
       "25%   -4.187365e-01  -5.075846e-01 -4.993332e-01  -6.247708e-01 -5.417570e-01   \n",
       "50%    8.126354e-02   4.924154e-01  6.667778e-04   3.752292e-01 -4.175696e-02   \n",
       "75%    8.126354e-02   4.924154e-01  5.006668e-01   3.752292e-01  4.582430e-01   \n",
       "max    5.812635e-01   4.924154e-01  5.006668e-01   3.752292e-01  4.582430e-01   \n",
       "\n",
       "             MZZONE      QS_ROOMS   QS_BATHROOM    QS_BEDROOM       REG_FEE  \\\n",
       "count  5.999000e+03  5.999000e+03  5.999000e+03  5.999000e+03  5.999000e+03   \n",
       "mean   7.954223e-17  1.158146e-15  3.101175e-15 -2.912656e-15  3.284957e-18   \n",
       "std    3.008085e-01  2.967964e-01  2.986970e-01  2.951563e-01  1.556604e-01   \n",
       "min   -6.615769e-01 -5.094849e-01 -5.013002e-01 -4.934767e-01 -3.353957e-01   \n",
       "25%   -6.157693e-02 -2.428182e-01 -2.679669e-01 -2.601434e-01 -1.136119e-01   \n",
       "50%    1.384231e-01 -9.484914e-03 -1.300217e-03  6.523309e-03 -2.837781e-02   \n",
       "75%    3.384231e-01  2.571818e-01  2.653664e-01  2.398566e-01  8.189724e-02   \n",
       "max    3.384231e-01  4.905151e-01  4.986998e-01  5.065233e-01  6.646043e-01   \n",
       "\n",
       "             COMMIS   SALES_PRICE  \n",
       "count  5.999000e+03  5.999000e+03  \n",
       "mean  -1.091901e-17  9.836365e-18  \n",
       "std    1.597292e-01  1.742934e-01  \n",
       "min   -2.768850e-01 -4.061506e-01  \n",
       "25%   -1.156073e-01 -1.211486e-01  \n",
       "50%   -2.666370e-02 -2.448916e-02  \n",
       "75%    9.009882e-02  9.635156e-02  \n",
       "max    7.231150e-01  5.938494e-01  "
      ]
     },
     "execution_count": 37,
     "metadata": {},
     "output_type": "execute_result"
    }
   ],
   "source": [
    "df.describe()"
   ]
  },
  {
   "cell_type": "code",
   "execution_count": 38,
   "metadata": {},
   "outputs": [
    {
     "data": {
      "text/plain": [
       "array([[<matplotlib.axes._subplots.AxesSubplot object at 0x0000022AD5F015F8>,\n",
       "        <matplotlib.axes._subplots.AxesSubplot object at 0x0000022AD74A4C50>,\n",
       "        <matplotlib.axes._subplots.AxesSubplot object at 0x0000022AD74D3D30>,\n",
       "        <matplotlib.axes._subplots.AxesSubplot object at 0x0000022AD7505E80>],\n",
       "       [<matplotlib.axes._subplots.AxesSubplot object at 0x0000022AD7537F98>,\n",
       "        <matplotlib.axes._subplots.AxesSubplot object at 0x0000022AD75704E0>,\n",
       "        <matplotlib.axes._subplots.AxesSubplot object at 0x0000022AD759FA20>,\n",
       "        <matplotlib.axes._subplots.AxesSubplot object at 0x0000022AD75CCFD0>],\n",
       "       [<matplotlib.axes._subplots.AxesSubplot object at 0x0000022AD75DB080>,\n",
       "        <matplotlib.axes._subplots.AxesSubplot object at 0x0000022AD7638B70>,\n",
       "        <matplotlib.axes._subplots.AxesSubplot object at 0x0000022AD7676160>,\n",
       "        <matplotlib.axes._subplots.AxesSubplot object at 0x0000022AD76A8710>],\n",
       "       [<matplotlib.axes._subplots.AxesSubplot object at 0x0000022AD76D8CC0>,\n",
       "        <matplotlib.axes._subplots.AxesSubplot object at 0x0000022AD77172B0>,\n",
       "        <matplotlib.axes._subplots.AxesSubplot object at 0x0000022AD7747860>,\n",
       "        <matplotlib.axes._subplots.AxesSubplot object at 0x0000022AD777BE10>],\n",
       "       [<matplotlib.axes._subplots.AxesSubplot object at 0x0000022AD77B8400>,\n",
       "        <matplotlib.axes._subplots.AxesSubplot object at 0x0000022AD77E89B0>,\n",
       "        <matplotlib.axes._subplots.AxesSubplot object at 0x0000022AD781BF60>,\n",
       "        <matplotlib.axes._subplots.AxesSubplot object at 0x0000022AD7857550>]],\n",
       "      dtype=object)"
      ]
     },
     "execution_count": 38,
     "metadata": {},
     "output_type": "execute_result"
    },
    {
     "data": {
      "image/png": "[encoded data removed]",
      "text/plain": [
       "<Figure size 1440x1080 with 20 Axes>"
      ]
     },
     "metadata": {
      "needs_background": "light"
     },
     "output_type": "display_data"
    }
   ],
   "source": [
    "df.hist(bins=30, figsize = (20,15))"
   ]
  },
  {
   "cell_type": "code",
   "execution_count": 39,
   "metadata": {},
   "outputs": [
    {
     "data": {
      "text/plain": [
       "(5999, 17)"
      ]
     },
     "execution_count": 39,
     "metadata": {},
     "output_type": "execute_result"
    }
   ],
   "source": [
    "df.shape"
   ]
  },
  {
   "cell_type": "code",
   "execution_count": 40,
   "metadata": {},
   "outputs": [
    {
     "data": {
      "text/html": [
       "<div>\n",
       "<style scoped>\n",
       "    .dataframe tbody tr th:only-of-type {\n",
       "        vertical-align: middle;\n",
       "    }\n",
       "\n",
       "    .dataframe tbody tr th {\n",
       "        vertical-align: top;\n",
       "    }\n",
       "\n",
       "    .dataframe thead th {\n",
       "        text-align: right;\n",
       "    }\n",
       "</style>\n",
       "<table border=\"1\" class=\"dataframe\">\n",
       "  <thead>\n",
       "    <tr style=\"text-align: right;\">\n",
       "      <th></th>\n",
       "      <th>Ones</th>\n",
       "      <th>AreaCode</th>\n",
       "      <th>INT_SQFT</th>\n",
       "      <th>DIST_MAINROAD</th>\n",
       "      <th>N_BEDROOM</th>\n",
       "      <th>N_BATHROOM</th>\n",
       "      <th>OTHER_ROOMS</th>\n",
       "      <th>PARK_FACILITY</th>\n",
       "      <th>BUILDINGTYPE</th>\n",
       "      <th>UTILITY_AVAIL</th>\n",
       "      <th>STREET</th>\n",
       "      <th>MZZONE</th>\n",
       "      <th>QS_ROOMS</th>\n",
       "      <th>QS_BATHROOM</th>\n",
       "      <th>QS_BEDROOM</th>\n",
       "      <th>REG_FEE</th>\n",
       "      <th>COMMIS</th>\n",
       "      <th>SALES_PRICE</th>\n",
       "    </tr>\n",
       "  </thead>\n",
       "  <tbody>\n",
       "    <tr>\n",
       "      <th>0</th>\n",
       "      <td>1</td>\n",
       "      <td>0.018003</td>\n",
       "      <td>-0.188889</td>\n",
       "      <td>0.157498</td>\n",
       "      <td>-0.211313</td>\n",
       "      <td>-0.214536</td>\n",
       "      <td>0.081264</td>\n",
       "      <td>0.492415</td>\n",
       "      <td>-0.499333</td>\n",
       "      <td>-0.624771</td>\n",
       "      <td>0.458243</td>\n",
       "      <td>-0.661577</td>\n",
       "      <td>0.157182</td>\n",
       "      <td>0.132033</td>\n",
       "      <td>0.473190</td>\n",
       "      <td>0.002950</td>\n",
       "      <td>0.007290</td>\n",
       "      <td>-0.153105</td>\n",
       "    </tr>\n",
       "    <tr>\n",
       "      <th>1</th>\n",
       "      <td>1</td>\n",
       "      <td>-0.315330</td>\n",
       "      <td>0.302356</td>\n",
       "      <td>-0.367502</td>\n",
       "      <td>0.122020</td>\n",
       "      <td>-0.214536</td>\n",
       "      <td>0.581264</td>\n",
       "      <td>-0.507585</td>\n",
       "      <td>-0.499333</td>\n",
       "      <td>-0.624771</td>\n",
       "      <td>-0.041757</td>\n",
       "      <td>-0.061577</td>\n",
       "      <td>0.457182</td>\n",
       "      <td>0.232033</td>\n",
       "      <td>-0.326810</td>\n",
       "      <td>0.419410</td>\n",
       "      <td>0.332871</td>\n",
       "      <td>0.503216</td>\n",
       "    </tr>\n",
       "    <tr>\n",
       "      <th>2</th>\n",
       "      <td>1</td>\n",
       "      <td>-0.481997</td>\n",
       "      <td>-0.236413</td>\n",
       "      <td>-0.147502</td>\n",
       "      <td>-0.211313</td>\n",
       "      <td>-0.214536</td>\n",
       "      <td>0.081264</td>\n",
       "      <td>0.492415</td>\n",
       "      <td>-0.499333</td>\n",
       "      <td>-0.124771</td>\n",
       "      <td>-0.041757</td>\n",
       "      <td>0.138423</td>\n",
       "      <td>0.190515</td>\n",
       "      <td>0.098700</td>\n",
       "      <td>-0.426810</td>\n",
       "      <td>0.047972</td>\n",
       "      <td>-0.099340</td>\n",
       "      <td>0.105336</td>\n",
       "    </tr>\n",
       "    <tr>\n",
       "      <th>3</th>\n",
       "      <td>1</td>\n",
       "      <td>0.518003</td>\n",
       "      <td>0.236824</td>\n",
       "      <td>-0.427502</td>\n",
       "      <td>0.455354</td>\n",
       "      <td>0.785464</td>\n",
       "      <td>-0.418736</td>\n",
       "      <td>-0.507585</td>\n",
       "      <td>0.500667</td>\n",
       "      <td>0.375229</td>\n",
       "      <td>0.458243</td>\n",
       "      <td>-0.261577</td>\n",
       "      <td>0.390515</td>\n",
       "      <td>0.132033</td>\n",
       "      <td>0.039857</td>\n",
       "      <td>-0.022993</td>\n",
       "      <td>-0.130078</td>\n",
       "      <td>-0.058719</td>\n",
       "    </tr>\n",
       "    <tr>\n",
       "      <th>4</th>\n",
       "      <td>1</td>\n",
       "      <td>0.018003</td>\n",
       "      <td>-0.077834</td>\n",
       "      <td>-0.077502</td>\n",
       "      <td>-0.211313</td>\n",
       "      <td>-0.214536</td>\n",
       "      <td>0.081264</td>\n",
       "      <td>0.492415</td>\n",
       "      <td>0.500667</td>\n",
       "      <td>-0.624771</td>\n",
       "      <td>-0.041757</td>\n",
       "      <td>-0.461577</td>\n",
       "      <td>-0.176152</td>\n",
       "      <td>-0.334634</td>\n",
       "      <td>0.206523</td>\n",
       "      <td>-0.153721</td>\n",
       "      <td>-0.136153</td>\n",
       "      <td>-0.162112</td>\n",
       "    </tr>\n",
       "  </tbody>\n",
       "</table>\n",
       "</div>"
      ],
      "text/plain": [
       "   Ones  AreaCode  INT_SQFT  DIST_MAINROAD  N_BEDROOM  N_BATHROOM  \\\n",
       "0     1  0.018003 -0.188889       0.157498  -0.211313   -0.214536   \n",
       "1     1 -0.315330  0.302356      -0.367502   0.122020   -0.214536   \n",
       "2     1 -0.481997 -0.236413      -0.147502  -0.211313   -0.214536   \n",
       "3     1  0.518003  0.236824      -0.427502   0.455354    0.785464   \n",
       "4     1  0.018003 -0.077834      -0.077502  -0.211313   -0.214536   \n",
       "\n",
       "   OTHER_ROOMS  PARK_FACILITY  BUILDINGTYPE  UTILITY_AVAIL    STREET  \\\n",
       "0     0.081264       0.492415     -0.499333      -0.624771  0.458243   \n",
       "1     0.581264      -0.507585     -0.499333      -0.624771 -0.041757   \n",
       "2     0.081264       0.492415     -0.499333      -0.124771 -0.041757   \n",
       "3    -0.418736      -0.507585      0.500667       0.375229  0.458243   \n",
       "4     0.081264       0.492415      0.500667      -0.624771 -0.041757   \n",
       "\n",
       "     MZZONE  QS_ROOMS  QS_BATHROOM  QS_BEDROOM   REG_FEE    COMMIS  \\\n",
       "0 -0.661577  0.157182     0.132033    0.473190  0.002950  0.007290   \n",
       "1 -0.061577  0.457182     0.232033   -0.326810  0.419410  0.332871   \n",
       "2  0.138423  0.190515     0.098700   -0.426810  0.047972 -0.099340   \n",
       "3 -0.261577  0.390515     0.132033    0.039857 -0.022993 -0.130078   \n",
       "4 -0.461577 -0.176152    -0.334634    0.206523 -0.153721 -0.136153   \n",
       "\n",
       "   SALES_PRICE  \n",
       "0    -0.153105  \n",
       "1     0.503216  \n",
       "2     0.105336  \n",
       "3    -0.058719  \n",
       "4    -0.162112  "
      ]
     },
     "execution_count": 40,
     "metadata": {},
     "output_type": "execute_result"
    }
   ],
   "source": [
    "df.insert(0,\"Ones\",1)\n",
    "df.head()"
   ]
  },
  {
   "cell_type": "code",
   "execution_count": 41,
   "metadata": {},
   "outputs": [],
   "source": [
    "cols = df.shape[1]\n",
    "x = df.iloc[:,0:cols-1]\n",
    "y = df.iloc[:,cols-1:cols]"
   ]
  },
  {
   "cell_type": "code",
   "execution_count": 42,
   "metadata": {},
   "outputs": [],
   "source": [
    "cols = df.shape[1]\n",
    "x = df.iloc[:,0:cols-1]\n",
    "y = df.iloc[:,cols-1:cols]"
   ]
  },
  {
   "cell_type": "code",
   "execution_count": 43,
   "metadata": {},
   "outputs": [],
   "source": [
    "x = np.matrix(x)\n",
    "y = np.matrix(y)\n",
    "theta = np.matrix(np.array([0]*(cols-1)))"
   ]
  },
  {
   "cell_type": "code",
   "execution_count": 44,
   "metadata": {},
   "outputs": [
    {
     "data": {
      "text/plain": [
       "((5999, 17), (1, 17), (5999, 1))"
      ]
     },
     "execution_count": 44,
     "metadata": {},
     "output_type": "execute_result"
    }
   ],
   "source": [
    "x.shape, theta.shape, y.shape"
   ]
  },
  {
   "cell_type": "code",
   "execution_count": 45,
   "metadata": {},
   "outputs": [],
   "source": [
    "def computeError(x,y,theta):\n",
    "    inner=np.power(((x*theta.T)-y),2)\n",
    "    return np.sum(inner)/(2*len(x))"
   ]
  },
  {
   "cell_type": "code",
   "execution_count": 46,
   "metadata": {},
   "outputs": [
    {
     "data": {
      "text/plain": [
       "0.015186556392354323"
      ]
     },
     "execution_count": 46,
     "metadata": {},
     "output_type": "execute_result"
    }
   ],
   "source": [
    "computeError(x,y,theta)"
   ]
  },
  {
   "cell_type": "code",
   "execution_count": 47,
   "metadata": {},
   "outputs": [],
   "source": [
    "Learn_rate=1"
   ]
  },
  {
   "cell_type": "code",
   "execution_count": 48,
   "metadata": {},
   "outputs": [],
   "source": [
    "iters=150"
   ]
  },
  {
   "cell_type": "code",
   "execution_count": 49,
   "metadata": {},
   "outputs": [],
   "source": [
    "def gradientDescent(x,y,theta,Learn_rate,iters):\n",
    "    temp = np.matrix(np.zeros(theta.shape))\n",
    "    parameters = int(theta.ravel().shape[1])\n",
    "    cost = np.zeros(iters)\n",
    "    for i in range(iters):\n",
    "        error = (x*theta.T)-y\n",
    "        for j in range(parameters):\n",
    "            term = np.multiply(error,x[:,j])\n",
    "            temp[0,j] = theta[0,j]-((Learn_rate/len(x))*np.sum(term))\n",
    "        theta = temp\n",
    "        cost[i] = computeError(x,y,theta)\n",
    "    return theta, cost"
   ]
  },
  {
   "cell_type": "code",
   "execution_count": 50,
   "metadata": {},
   "outputs": [
    {
     "name": "stdout",
     "output_type": "stream",
     "text": [
      "[[ 1.89509648e-17 -6.39818746e-02  1.38075852e-01  3.09724881e-03\n",
      "   7.01090414e-02  2.17123709e-02  1.56359887e-01  2.87829557e-02\n",
      "  -1.12844191e-01 -6.94872196e-03  9.33655962e-03  1.04579552e-01\n",
      "   5.41168649e-03  1.21871297e-03  3.72848228e-03  4.05504694e-01\n",
      "   1.05573436e-01]] [0.01141782 0.00884014 0.00705888 0.00581573 0.00493954 0.00431571\n",
      " 0.00386679 0.00354003 0.00329924 0.00311941 0.00298317 0.00287836\n",
      " 0.00279642 0.0027313  0.00267866 0.00263539 0.00259925 0.00256859\n",
      " 0.00254219 0.00251916 0.00249882 0.00248065 0.00246425 0.00244933\n",
      " 0.00243564 0.00242299 0.00241122 0.00240023 0.00238989 0.00238014\n",
      " 0.00237089 0.0023621  0.00235371 0.00234568 0.00233797 0.00233056\n",
      " 0.00232342 0.00231652 0.00230984 0.00230337 0.00229709 0.00229099\n",
      " 0.00228505 0.00227927 0.00227363 0.00226812 0.00226274 0.00225749\n",
      " 0.00225234 0.00224731 0.00224238 0.00223755 0.00223282 0.00222817\n",
      " 0.00222362 0.00221914 0.00221475 0.00221044 0.0022062  0.00220204\n",
      " 0.00219795 0.00219392 0.00218997 0.00218608 0.00218225 0.00217848\n",
      " 0.00217478 0.00217113 0.00216755 0.00216402 0.00216054 0.00215712\n",
      " 0.00215375 0.00215043 0.00214716 0.00214394 0.00214077 0.00213765\n",
      " 0.00213458 0.00213155 0.00212856 0.00212562 0.00212273 0.00211987\n",
      " 0.00211706 0.00211428 0.00211155 0.00210886 0.00210621 0.00210359\n",
      " 0.00210101 0.00209847 0.00209597 0.0020935  0.00209106 0.00208866\n",
      " 0.00208629 0.00208396 0.00208166 0.00207939 0.00207716 0.00207495\n",
      " 0.00207278 0.00207063 0.00206852 0.00206643 0.00206437 0.00206235\n",
      " 0.00206035 0.00205837 0.00205643 0.00205451 0.00205261 0.00205074\n",
      " 0.0020489  0.00204709 0.00204529 0.00204352 0.00204178 0.00204006\n",
      " 0.00203836 0.00203668 0.00203503 0.0020334  0.00203179 0.0020302\n",
      " 0.00202864 0.00202709 0.00202557 0.00202406 0.00202258 0.00202111\n",
      " 0.00201967 0.00201824 0.00201683 0.00201544 0.00201407 0.00201272\n",
      " 0.00201138 0.00201007 0.00200877 0.00200748 0.00200621 0.00200496\n",
      " 0.00200373 0.00200251 0.00200131 0.00200012 0.00199895 0.00199779]\n"
     ]
    }
   ],
   "source": [
    "new_theta, cost = gradientDescent(x,y,theta,Learn_rate,iters)\n",
    "print(new_theta,cost)"
   ]
  },
  {
   "cell_type": "code",
   "execution_count": 51,
   "metadata": {},
   "outputs": [
    {
     "data": {
      "text/plain": [
       "0.001997794984267301"
      ]
     },
     "execution_count": 51,
     "metadata": {},
     "output_type": "execute_result"
    }
   ],
   "source": [
    "computeError(x,y,new_theta)"
   ]
  },
  {
   "cell_type": "code",
   "execution_count": 52,
   "metadata": {},
   "outputs": [],
   "source": [
    "Model_price = x.dot(new_theta.T)"
   ]
  },
  {
   "cell_type": "code",
   "execution_count": 53,
   "metadata": {},
   "outputs": [
    {
     "data": {
      "text/plain": [
       "matrix([[ 1.        ,  0.018003  , -0.18888933, ...,  0.47318998,\n",
       "          0.00294967,  0.0072896 ],\n",
       "        [ 1.        , -0.31533033,  0.3023563 , ..., -0.32681002,\n",
       "          0.41940991,  0.33287133],\n",
       "        [ 1.        , -0.481997  , -0.23641309, ..., -0.42681002,\n",
       "          0.0479721 , -0.09934035],\n",
       "        ...,\n",
       "        [ 1.        ,  0.018003  , -0.25542259, ..., -0.06014336,\n",
       "         -0.07200445, -0.10185896],\n",
       "        [ 1.        , -0.14866367, -0.26892935, ...,  0.50652331,\n",
       "         -0.14423821, -0.13063841],\n",
       "        [ 1.        , -0.31533033,  0.17979502, ...,  0.17318998,\n",
       "          0.42010232,  0.34177314]])"
      ]
     },
     "execution_count": 53,
     "metadata": {},
     "output_type": "execute_result"
    }
   ],
   "source": [
    "x"
   ]
  },
  {
   "cell_type": "code",
   "execution_count": 54,
   "metadata": {},
   "outputs": [
    {
     "name": "stdout",
     "output_type": "stream",
     "text": [
      "error % = 0.39955899685346025\n"
     ]
    }
   ],
   "source": [
    "import math\n",
    "erro_r = [np.power((b-a),2) for (a,b) in zip(Model_price, y)]\n",
    "error0 = np.sum(erro_r)\n",
    "error = (error0/len(y))*100\n",
    "print(\"error % = {}\".format(error))"
   ]
  },
  {
   "cell_type": "code",
   "execution_count": 55,
   "metadata": {},
   "outputs": [
    {
     "name": "stdout",
     "output_type": "stream",
     "text": [
      "accuracy % = 99.60044100314654\n"
     ]
    }
   ],
   "source": [
    "accuracy = 100 - error\n",
    "print(\"accuracy % = {}\".format(accuracy))"
   ]
  },
  {
   "cell_type": "code",
   "execution_count": 56,
   "metadata": {},
   "outputs": [
    {
     "data": {
      "text/plain": [
       "18"
      ]
     },
     "execution_count": 56,
     "metadata": {},
     "output_type": "execute_result"
    }
   ],
   "source": [
    "cols"
   ]
  },
  {
   "cell_type": "code",
   "execution_count": 57,
   "metadata": {},
   "outputs": [
    {
     "data": {
      "text/html": [
       "<div>\n",
       "<style scoped>\n",
       "    .dataframe tbody tr th:only-of-type {\n",
       "        vertical-align: middle;\n",
       "    }\n",
       "\n",
       "    .dataframe tbody tr th {\n",
       "        vertical-align: top;\n",
       "    }\n",
       "\n",
       "    .dataframe thead th {\n",
       "        text-align: right;\n",
       "    }\n",
       "</style>\n",
       "<table border=\"1\" class=\"dataframe\">\n",
       "  <thead>\n",
       "    <tr style=\"text-align: right;\">\n",
       "      <th></th>\n",
       "      <th>Ones</th>\n",
       "      <th>AreaCode</th>\n",
       "      <th>INT_SQFT</th>\n",
       "      <th>DIST_MAINROAD</th>\n",
       "      <th>N_BEDROOM</th>\n",
       "      <th>N_BATHROOM</th>\n",
       "      <th>OTHER_ROOMS</th>\n",
       "      <th>PARK_FACILITY</th>\n",
       "      <th>BUILDINGTYPE</th>\n",
       "      <th>UTILITY_AVAIL</th>\n",
       "      <th>STREET</th>\n",
       "      <th>MZZONE</th>\n",
       "      <th>QS_ROOMS</th>\n",
       "      <th>QS_BATHROOM</th>\n",
       "      <th>QS_BEDROOM</th>\n",
       "      <th>REG_FEE</th>\n",
       "      <th>COMMIS</th>\n",
       "      <th>SALES_PRICE</th>\n",
       "    </tr>\n",
       "  </thead>\n",
       "  <tbody>\n",
       "    <tr>\n",
       "      <th>0</th>\n",
       "      <td>1</td>\n",
       "      <td>0.018003</td>\n",
       "      <td>-0.188889</td>\n",
       "      <td>0.157498</td>\n",
       "      <td>-0.211313</td>\n",
       "      <td>-0.214536</td>\n",
       "      <td>0.081264</td>\n",
       "      <td>0.492415</td>\n",
       "      <td>-0.499333</td>\n",
       "      <td>-0.624771</td>\n",
       "      <td>0.458243</td>\n",
       "      <td>-0.661577</td>\n",
       "      <td>0.157182</td>\n",
       "      <td>0.132033</td>\n",
       "      <td>0.473190</td>\n",
       "      <td>0.002950</td>\n",
       "      <td>0.007290</td>\n",
       "      <td>-0.153105</td>\n",
       "    </tr>\n",
       "    <tr>\n",
       "      <th>1</th>\n",
       "      <td>1</td>\n",
       "      <td>-0.315330</td>\n",
       "      <td>0.302356</td>\n",
       "      <td>-0.367502</td>\n",
       "      <td>0.122020</td>\n",
       "      <td>-0.214536</td>\n",
       "      <td>0.581264</td>\n",
       "      <td>-0.507585</td>\n",
       "      <td>-0.499333</td>\n",
       "      <td>-0.624771</td>\n",
       "      <td>-0.041757</td>\n",
       "      <td>-0.061577</td>\n",
       "      <td>0.457182</td>\n",
       "      <td>0.232033</td>\n",
       "      <td>-0.326810</td>\n",
       "      <td>0.419410</td>\n",
       "      <td>0.332871</td>\n",
       "      <td>0.503216</td>\n",
       "    </tr>\n",
       "    <tr>\n",
       "      <th>2</th>\n",
       "      <td>1</td>\n",
       "      <td>-0.481997</td>\n",
       "      <td>-0.236413</td>\n",
       "      <td>-0.147502</td>\n",
       "      <td>-0.211313</td>\n",
       "      <td>-0.214536</td>\n",
       "      <td>0.081264</td>\n",
       "      <td>0.492415</td>\n",
       "      <td>-0.499333</td>\n",
       "      <td>-0.124771</td>\n",
       "      <td>-0.041757</td>\n",
       "      <td>0.138423</td>\n",
       "      <td>0.190515</td>\n",
       "      <td>0.098700</td>\n",
       "      <td>-0.426810</td>\n",
       "      <td>0.047972</td>\n",
       "      <td>-0.099340</td>\n",
       "      <td>0.105336</td>\n",
       "    </tr>\n",
       "    <tr>\n",
       "      <th>3</th>\n",
       "      <td>1</td>\n",
       "      <td>0.518003</td>\n",
       "      <td>0.236824</td>\n",
       "      <td>-0.427502</td>\n",
       "      <td>0.455354</td>\n",
       "      <td>0.785464</td>\n",
       "      <td>-0.418736</td>\n",
       "      <td>-0.507585</td>\n",
       "      <td>0.500667</td>\n",
       "      <td>0.375229</td>\n",
       "      <td>0.458243</td>\n",
       "      <td>-0.261577</td>\n",
       "      <td>0.390515</td>\n",
       "      <td>0.132033</td>\n",
       "      <td>0.039857</td>\n",
       "      <td>-0.022993</td>\n",
       "      <td>-0.130078</td>\n",
       "      <td>-0.058719</td>\n",
       "    </tr>\n",
       "    <tr>\n",
       "      <th>4</th>\n",
       "      <td>1</td>\n",
       "      <td>0.018003</td>\n",
       "      <td>-0.077834</td>\n",
       "      <td>-0.077502</td>\n",
       "      <td>-0.211313</td>\n",
       "      <td>-0.214536</td>\n",
       "      <td>0.081264</td>\n",
       "      <td>0.492415</td>\n",
       "      <td>0.500667</td>\n",
       "      <td>-0.624771</td>\n",
       "      <td>-0.041757</td>\n",
       "      <td>-0.461577</td>\n",
       "      <td>-0.176152</td>\n",
       "      <td>-0.334634</td>\n",
       "      <td>0.206523</td>\n",
       "      <td>-0.153721</td>\n",
       "      <td>-0.136153</td>\n",
       "      <td>-0.162112</td>\n",
       "    </tr>\n",
       "  </tbody>\n",
       "</table>\n",
       "</div>"
      ],
      "text/plain": [
       "   Ones  AreaCode  INT_SQFT  DIST_MAINROAD  N_BEDROOM  N_BATHROOM  \\\n",
       "0     1  0.018003 -0.188889       0.157498  -0.211313   -0.214536   \n",
       "1     1 -0.315330  0.302356      -0.367502   0.122020   -0.214536   \n",
       "2     1 -0.481997 -0.236413      -0.147502  -0.211313   -0.214536   \n",
       "3     1  0.518003  0.236824      -0.427502   0.455354    0.785464   \n",
       "4     1  0.018003 -0.077834      -0.077502  -0.211313   -0.214536   \n",
       "\n",
       "   OTHER_ROOMS  PARK_FACILITY  BUILDINGTYPE  UTILITY_AVAIL    STREET  \\\n",
       "0     0.081264       0.492415     -0.499333      -0.624771  0.458243   \n",
       "1     0.581264      -0.507585     -0.499333      -0.624771 -0.041757   \n",
       "2     0.081264       0.492415     -0.499333      -0.124771 -0.041757   \n",
       "3    -0.418736      -0.507585      0.500667       0.375229  0.458243   \n",
       "4     0.081264       0.492415      0.500667      -0.624771 -0.041757   \n",
       "\n",
       "     MZZONE  QS_ROOMS  QS_BATHROOM  QS_BEDROOM   REG_FEE    COMMIS  \\\n",
       "0 -0.661577  0.157182     0.132033    0.473190  0.002950  0.007290   \n",
       "1 -0.061577  0.457182     0.232033   -0.326810  0.419410  0.332871   \n",
       "2  0.138423  0.190515     0.098700   -0.426810  0.047972 -0.099340   \n",
       "3 -0.261577  0.390515     0.132033    0.039857 -0.022993 -0.130078   \n",
       "4 -0.461577 -0.176152    -0.334634    0.206523 -0.153721 -0.136153   \n",
       "\n",
       "   SALES_PRICE  \n",
       "0    -0.153105  \n",
       "1     0.503216  \n",
       "2     0.105336  \n",
       "3    -0.058719  \n",
       "4    -0.162112  "
      ]
     },
     "execution_count": 57,
     "metadata": {},
     "output_type": "execute_result"
    }
   ],
   "source": [
    "df.head()"
   ]
  },
  {
   "cell_type": "code",
   "execution_count": 58,
   "metadata": {},
   "outputs": [],
   "source": [
    "def predict(new_theta,accuracy, cols):\n",
    "    x_unknown = [1]\n",
    "    for i in range (1,cols-1) :\n",
    "        attr = float(input (\"Enter the attribute {} \".format(i)))\n",
    "        attr = (attr-df.iloc[0:,i].mean())/(df.iloc[0:,i].max()-df.iloc[0:,i].min())\n",
    "        x_unknown.append(attr)\n",
    "    x_unknown = np.matrix(x_unknown)\n",
    "    price = x_unknown.dot(new_theta.T)[0,0]\n",
    "    Predicted_Price = (price*(df.SALES_PRICE.max()-df.SALES_PRICE.min()))+(df.SALES_PRICE.mean())\n",
    "    Price_at_Max_Accuracy = (Predicted_Price*(1/accuracy)*100)\n",
    "    Price_range = Price_at_Max_Accuracy - Predicted_Price\n",
    "    return Predicted_Price, Price_range"
   ]
  },
  {
   "cell_type": "code",
   "execution_count": 59,
   "metadata": {},
   "outputs": [
    {
     "name": "stdout",
     "output_type": "stream",
     "text": [
      "Enter the attribute 1 23\n",
      "Enter the attribute 2 32\n",
      "Enter the attribute 3 21\n",
      "Enter the attribute 4 54\n",
      "Enter the attribute 5 64\n",
      "Enter the attribute 6 34\n",
      "Enter the attribute 7 64\n",
      "Enter the attribute 8 32\n",
      "Enter the attribute 9 12\n",
      "Enter the attribute 10 56\n",
      "Enter the attribute 11 33\n",
      "Enter the attribute 12 2\n",
      "Enter the attribute 13 12\n",
      "Enter the attribute 14 13\n",
      "Enter the attribute 15 22\n",
      "Enter the attribute 16 11\n",
      "Your house cost is 25.781614699150097Lakhs (+or-) 0.10342600898854215Lakhs\n"
     ]
    }
   ],
   "source": [
    "Predicted_Price, Price_range = predict(new_theta,accuracy, cols)\n",
    "print(\"Your house cost is \" + str(Predicted_Price) + \"Lakhs \" + \"(+or-) \" +str(Price_range) + 'Lakhs')"
   ]
  },
  {
   "cell_type": "code",
   "execution_count": null,
   "metadata": {},
   "outputs": [],
   "source": []
  }
 ],
 "metadata": {
  "kernelspec": {
   "display_name": "Python 3",
   "language": "python",
   "name": "python3"
  },
  "language_info": {
   "codemirror_mode": {
    "name": "ipython",
    "version": 3
   },
   "file_extension": ".py",
   "mimetype": "text/x-python",
   "name": "python",
   "nbconvert_exporter": "python",
   "pygments_lexer": "ipython3",
   "version": "3.7.3"
  }
 },
 "nbformat": 4,
 "nbformat_minor": 2
}
