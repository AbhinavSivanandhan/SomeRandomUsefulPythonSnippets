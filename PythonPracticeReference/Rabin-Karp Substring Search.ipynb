{
 "cells": [
  {
   "cell_type": "code",
   "execution_count": 2,
   "metadata": {},
   "outputs": [
    {
     "name": "stdout",
     "output_type": "stream",
     "text": [
      "Pattern found at index 0\n",
      "Pattern found at index 10\n"
     ]
    }
   ],
   "source": [
    "d = 256\n",
    "  \n",
    "# pat  -> pattern \n",
    "# txt  -> text \n",
    "# q    -> A prime number \n",
    "  \n",
    "def search(pat, txt, q): \n",
    "    M = len(pat) \n",
    "    N = len(txt) \n",
    "    i = 0\n",
    "    j = 0\n",
    "    p = 0    # hash value for pattern \n",
    "    t = 0    # hash value for txt \n",
    "    h = 1\n",
    "  \n",
    "    # The value of h would be \"pow(d, M-1)%q\" \n",
    "    for i in range(M-1): \n",
    "        h = (h*d)%q \n",
    "  \n",
    "    # Calculate the hash value of pattern and first window \n",
    "    # of text \n",
    "    for i in range(M): \n",
    "        p = (d*p + ord(pat[i]))%q \n",
    "        t = (d*t + ord(txt[i]))%q \n",
    "  \n",
    "    # Slide the pattern over text one by one \n",
    "    for i in range(N-M+1): \n",
    "        # Check the hash values of current window of text and \n",
    "        # pattern if the hash values match then only check \n",
    "        # for characters on by one \n",
    "        if p==t: \n",
    "            # Check for characters one by one \n",
    "            for j in range(M): \n",
    "                if txt[i+j] != pat[j]: \n",
    "                    break\n",
    "  \n",
    "            j+=1\n",
    "            # if p == t and pat[0...M-1] = txt[i, i+1, ...i+M-1] \n",
    "            if j==M: \n",
    "                print(\"Pattern found at index \" + str(i) )\n",
    "  \n",
    "        # Calculate hash value for next window of text: Remove \n",
    "        # leading digit, add trailing digit \n",
    "        if i < N-M: \n",
    "            t = (d*(t-ord(txt[i])*h) + ord(txt[i+M]))%q \n",
    "  \n",
    "            # We might get negative values of t, converting it to \n",
    "            # positive \n",
    "            if t < 0: \n",
    "                t = t+q \n",
    "  \n",
    "# Driver program to test the above function \n",
    "txt = \"GEEKS FOR GEEKS\"\n",
    "pat = \"GEEK\"\n",
    "q = 101 # A prime number \n",
    "search(pat,txt,q) "
   ]
  },
  {
   "cell_type": "code",
   "execution_count": 5,
   "metadata": {},
   "outputs": [
    {
     "name": "stdout",
     "output_type": "stream",
     "text": [
      "54\n",
      "88\n",
      "5\n",
      "\n",
      "5\n",
      "\n",
      "71\n",
      "71\n",
      "\n",
      "65\n",
      "65\n",
      "\n",
      "44\n",
      "44\n",
      "\n",
      "27\n",
      "27\n",
      "\n",
      "27\n",
      "27\n",
      "\n",
      "Pattern found at index 0\n",
      "Pattern found at index 10\n"
     ]
    }
   ],
   "source": [
    "d = 256\n",
    "  \n",
    "# pat  -> pattern \n",
    "# txt  -> text \n",
    "# q    -> A prime number \n",
    "  \n",
    "def search(pat, txt, q): \n",
    "    M = len(pat) \n",
    "    N = len(txt) \n",
    "    i = 0\n",
    "    j = 0\n",
    "    p = 0    # hash value for pattern \n",
    "    t = 0    # hash value for txt \n",
    "    h = 1\n",
    "  \n",
    "    # The value of h would be \"pow(d, M-1)%q\" \n",
    "    h=pow(d, M-1)%q\n",
    "    print(h)\n",
    "  \n",
    "    # Calculate the hash value of pattern and first window \n",
    "    # of text \n",
    "    for i in range(M): \n",
    "        p = (d*p + ord(pat[i]))%q \n",
    "        t = (d*t + ord(txt[i]))%q \n",
    "        print(p)\n",
    "        print(t)\n",
    "        print()\n",
    "    print(p)\n",
    "    print(t)\n",
    "    print()\n",
    "    # Slide the pattern over text one by one \n",
    "    for i in range(N-M+1): \n",
    "        # Check the hash values of current window of text and \n",
    "        # pattern if the hash values match then only check \n",
    "        # for characters on by one \n",
    "        if p==t: \n",
    "            # Check for characters one by one \n",
    "            for j in range(M): \n",
    "                if txt[i+j] != pat[j]: \n",
    "                    break\n",
    "  \n",
    "            j+=1\n",
    "            # if p == t and pat[0...M-1] = txt[i, i+1, ...i+M-1] \n",
    "            if j==M: \n",
    "                print(\"Pattern found at index \" + str(i) )\n",
    "  \n",
    "        # Calculate hash value for next window of text: Remove \n",
    "        # leading digit, add trailing digit \n",
    "        if i < N-M: \n",
    "            t = (d*(t-ord(txt[i])*h) + ord(txt[i+M]))%q \n",
    "  \n",
    "            # We might get negative values of t, converting it to \n",
    "            # positive \n",
    "            if t < 0: \n",
    "                t = t+q \n",
    "  \n",
    "# Driver program to test the above function \n",
    "txt = \"GEEKS FOR GEEKS\"\n",
    "pat = \"GEEK\"\n",
    "q = 101 # A prime number \n",
    "search(pat,txt,q) "
   ]
  },
  {
   "cell_type": "code",
   "execution_count": 2,
   "metadata": {},
   "outputs": [
    {
     "name": "stdout",
     "output_type": "stream",
     "text": [
      "5\n"
     ]
    }
   ],
   "source": [
    "h=1\n",
    "q=101\n",
    "M=4\n",
    "d=256\n",
    "for i in range(M-1): \n",
    "        h = (h*d)%q\n",
    "print(h)"
   ]
  },
  {
   "cell_type": "code",
   "execution_count": 8,
   "metadata": {},
   "outputs": [
    {
     "name": "stdout",
     "output_type": "stream",
     "text": [
      "5\n"
     ]
    }
   ],
   "source": [
    "h=pow(d, M-1)%q\n",
    "print(h)"
   ]
  },
  {
   "cell_type": "code",
   "execution_count": 6,
   "metadata": {},
   "outputs": [
    {
     "name": "stdout",
     "output_type": "stream",
     "text": [
      "71\n",
      "71\n",
      "65\n",
      "65\n",
      "44\n",
      "44\n",
      "27\n",
      "27\n"
     ]
    }
   ],
   "source": [
    "p = 0    # hash value for pattern \n",
    "t = 0\n",
    "txt = \"GEEKS FOR GEEKS\"\n",
    "pat = \"GEEK\"\n",
    "for i in range(M): \n",
    "        p = (d*p + ord(pat[i]))%q \n",
    "        t = (d*t + ord(txt[i]))%q \n",
    "        print(p)\n",
    "        print(t)"
   ]
  },
  {
   "cell_type": "code",
   "execution_count": 10,
   "metadata": {},
   "outputs": [
    {
     "name": "stdout",
     "output_type": "stream",
     "text": [
      "Pattern found at index 0\n",
      "Pattern found at index 10\n"
     ]
    }
   ],
   "source": [
    "N=len(txt)\n",
    "for i in range(N-M+1): \n",
    "        # Check the hash values of current window of text and \n",
    "        # pattern if the hash values match then only check \n",
    "        # for characters on by one \n",
    "        if p==t: \n",
    "            # Check for characters one by one \n",
    "            for j in range(M): \n",
    "                if txt[i+j] != pat[j]: \n",
    "                    break\n",
    "  \n",
    "            j+=1\n",
    "            # if p == t and pat[0...M-1] = txt[i, i+1, ...i+M-1] \n",
    "            if j==M: \n",
    "                print(\"Pattern found at index \" + str(i) )\n",
    "  \n",
    "        # Calculate hash value for next window of text: Remove \n",
    "        # leading digit, add trailing digit \n",
    "        if i < N-M: \n",
    "#             t = (d*t + ord(txt[i]))%q my reference, ignore\n",
    "            t = (d*(t-ord(txt[i])*h) + ord(txt[i+M]))%q #recalculating here from existing t\n",
    "  \n",
    "            # We might get negative values of t, converting it to \n",
    "            # positive \n",
    "            if t < 0: \n",
    "                t = t+q #if t is negative above, negative mod q is negative, remember we need positive"
   ]
  },
  {
   "cell_type": "code",
   "execution_count": 11,
   "metadata": {},
   "outputs": [
    {
     "data": {
      "text/plain": [
       "104"
      ]
     },
     "execution_count": 11,
     "metadata": {},
     "output_type": "execute_result"
    }
   ],
   "source": [
    "ord(\"h\")"
   ]
  },
  {
   "cell_type": "code",
   "execution_count": 13,
   "metadata": {},
   "outputs": [
    {
     "data": {
      "text/plain": [
       "'h'"
      ]
     },
     "execution_count": 13,
     "metadata": {},
     "output_type": "execute_result"
    }
   ],
   "source": [
    "chr(104)"
   ]
  },
  {
   "cell_type": "code",
   "execution_count": null,
   "metadata": {},
   "outputs": [],
   "source": []
  }
 ],
 "metadata": {
  "kernelspec": {
   "display_name": "Python 3",
   "language": "python",
   "name": "python3"
  },
  "language_info": {
   "codemirror_mode": {
    "name": "ipython",
    "version": 3
   },
   "file_extension": ".py",
   "mimetype": "text/x-python",
   "name": "python",
   "nbconvert_exporter": "python",
   "pygments_lexer": "ipython3",
   "version": "3.7.3"
  }
 },
 "nbformat": 4,
 "nbformat_minor": 2
}
