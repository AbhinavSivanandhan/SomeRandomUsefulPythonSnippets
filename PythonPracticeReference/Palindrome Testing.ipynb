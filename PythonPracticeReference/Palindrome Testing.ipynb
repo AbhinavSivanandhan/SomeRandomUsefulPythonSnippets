{
 "cells": [
  {
   "cell_type": "code",
   "execution_count": 1,
   "metadata": {},
   "outputs": [],
   "source": [
    "def toChars(s):\n",
    "    s=s.lower()\n",
    "    letters=''\n",
    "    for c in s:\n",
    "        if c in 'abcdefghijklmnopqrstuvwxyz':#replace with regex or isalpha\n",
    "            letters+=c\n",
    "    return letters"
   ]
  },
  {
   "cell_type": "code",
   "execution_count": 15,
   "metadata": {},
   "outputs": [],
   "source": [
    "def isPal(s):\n",
    "    if len(s)<=1:\n",
    "        \n",
    "        return True\n",
    "    else:\n",
    "        #print(\"dfvdf\")\n",
    "        return s[0]==s[-1] and isPal(s[1:-1]) #and operator here helps return a False if necessary,ie if not palindrome\n",
    "    #s[1:-1] is from i to n-1  or  1 to (-1)-1 which is the second and second last character of string\n",
    "    "
   ]
  },
  {
   "cell_type": "code",
   "execution_count": 16,
   "metadata": {},
   "outputs": [],
   "source": [
    "a='maayalam'"
   ]
  },
  {
   "cell_type": "code",
   "execution_count": 17,
   "metadata": {},
   "outputs": [
    {
     "name": "stdout",
     "output_type": "stream",
     "text": [
      "False\n"
     ]
    }
   ],
   "source": [
    "print(isPal(toChars(a)))"
   ]
  },
  {
   "cell_type": "code",
   "execution_count": 24,
   "metadata": {},
   "outputs": [
    {
     "name": "stdout",
     "output_type": "stream",
     "text": [
      "True\n"
     ]
    }
   ],
   "source": [
    "print(isPal('hehheh'))"
   ]
  },
  {
   "cell_type": "code",
   "execution_count": null,
   "metadata": {},
   "outputs": [],
   "source": [
    "#toChars is not necessary, unless string has uppercase or numbers"
   ]
  }
 ],
 "metadata": {
  "kernelspec": {
   "display_name": "Python 3",
   "language": "python",
   "name": "python3"
  },
  "language_info": {
   "codemirror_mode": {
    "name": "ipython",
    "version": 3
   },
   "file_extension": ".py",
   "mimetype": "text/x-python",
   "name": "python",
   "nbconvert_exporter": "python",
   "pygments_lexer": "ipython3",
   "version": "3.7.3"
  }
 },
 "nbformat": 4,
 "nbformat_minor": 2
}
