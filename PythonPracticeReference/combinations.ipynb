{
 "cells": [
  {
   "cell_type": "code",
   "execution_count": 1,
   "metadata": {},
   "outputs": [],
   "source": [
    "a=[1,5,4,3]\n",
    "al=[]"
   ]
  },
  {
   "cell_type": "code",
   "execution_count": 2,
   "metadata": {},
   "outputs": [],
   "source": [
    "ltemp=[]    "
   ]
  },
  {
   "cell_type": "code",
   "execution_count": 3,
   "metadata": {},
   "outputs": [],
   "source": [
    "def comb(l,count,index):\n",
    "    if count==0:\n",
    "        al.append(l)\n",
    "        return\n",
    "    elif index>=len(a):\n",
    "        return\n",
    "    ltemp=l[:]\n",
    "    ltemp.append(a[index])\n",
    "    comb(ltemp,count-1,index+1)\n",
    "    comb(l,count,index+1)"
   ]
  },
  {
   "cell_type": "code",
   "execution_count": 4,
   "metadata": {},
   "outputs": [],
   "source": [
    "l=[]\n",
    "index=0\n",
    "for i in range(1,len(a)+1):\n",
    "    comb(l,i,index)    "
   ]
  },
  {
   "cell_type": "code",
   "execution_count": 5,
   "metadata": {},
   "outputs": [
    {
     "data": {
      "text/plain": [
       "[[1],\n",
       " [5],\n",
       " [4],\n",
       " [3],\n",
       " [1, 5],\n",
       " [1, 4],\n",
       " [1, 3],\n",
       " [5, 4],\n",
       " [5, 3],\n",
       " [4, 3],\n",
       " [1, 5, 4],\n",
       " [1, 5, 3],\n",
       " [1, 4, 3],\n",
       " [5, 4, 3],\n",
       " [1, 5, 4, 3]]"
      ]
     },
     "execution_count": 5,
     "metadata": {},
     "output_type": "execute_result"
    }
   ],
   "source": [
    "al"
   ]
  },
  {
   "cell_type": "code",
   "execution_count": null,
   "metadata": {},
   "outputs": [],
   "source": []
  }
 ],
 "metadata": {
  "kernelspec": {
   "display_name": "Python 3",
   "language": "python",
   "name": "python3"
  },
  "language_info": {
   "codemirror_mode": {
    "name": "ipython",
    "version": 3
   },
   "file_extension": ".py",
   "mimetype": "text/x-python",
   "name": "python",
   "nbconvert_exporter": "python",
   "pygments_lexer": "ipython3",
   "version": "3.7.3"
  }
 },
 "nbformat": 4,
 "nbformat_minor": 2
}
