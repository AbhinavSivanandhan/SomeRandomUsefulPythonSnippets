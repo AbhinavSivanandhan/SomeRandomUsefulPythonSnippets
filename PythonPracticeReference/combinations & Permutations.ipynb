{
 "cells": [
  {
   "cell_type": "code",
   "execution_count": 4,
   "metadata": {},
   "outputs": [
    {
     "name": "stdout",
     "output_type": "stream",
     "text": [
      "[[1, 2], [1, 3], [2, 3]]\n"
     ]
    }
   ],
   "source": [
    "def n_length_combo(lst, n): \n",
    "      \n",
    "    if n == 0: \n",
    "        return [[]] \n",
    "      \n",
    "    l =[] \n",
    "    for i in range(0, len(lst)): \n",
    "          \n",
    "        m = lst[i] \n",
    "        remLst = lst[i + 1:] \n",
    "          \n",
    "        for p in n_length_combo(remLst, n-1): \n",
    "            l.append([m]+p) \n",
    "              \n",
    "    return l \n",
    "  \n",
    "arr =\"abc\"\n",
    "print(n_length_combo([1,2,3], 2))"
   ]
  },
  {
   "cell_type": "code",
   "execution_count": 6,
   "metadata": {},
   "outputs": [
    {
     "name": "stdout",
     "output_type": "stream",
     "text": [
      "[1, 2, 3]\n",
      "[1, 3, 2]\n",
      "[2, 1, 3]\n",
      "[2, 3, 1]\n",
      "[3, 1, 2]\n",
      "[3, 2, 1]\n"
     ]
    }
   ],
   "source": [
    "def permutation(lst): \n",
    "  \n",
    "    # If lst is empty then there are no permutations \n",
    "    if len(lst) == 0: \n",
    "        return [] \n",
    "  \n",
    "    # If there is only one element in lst then, only \n",
    "    # one permuatation is possible \n",
    "    if len(lst) == 1: \n",
    "        return [lst] \n",
    "  \n",
    "    # Find the permutations for lst if there are \n",
    "    # more than 1 characters \n",
    "  \n",
    "    l = [] # empty list that will store current permutation \n",
    "  \n",
    "    # Iterate the input(lst) and calculate the permutation \n",
    "    for i in range(len(lst)): \n",
    "       m = lst[i] \n",
    "  \n",
    "       # Extract lst[i] or m from the list.  remLst is \n",
    "       # remaining list \n",
    "       remLst = lst[:i] + lst[i+1:] \n",
    "  \n",
    "       # Generating all permutations where m is first \n",
    "       # element \n",
    "       for p in permutation(remLst): \n",
    "           l.append([m] + p) \n",
    "    return l \n",
    "  \n",
    "  \n",
    "# Driver program to test above function \n",
    "data = [1,2,3] \n",
    "for p in permutation(data): \n",
    "    print(p)"
   ]
  },
  {
   "cell_type": "code",
   "execution_count": null,
   "metadata": {},
   "outputs": [],
   "source": [
    "#think of combinations as the first n numbers of a permutation"
   ]
  }
 ],
 "metadata": {
  "kernelspec": {
   "display_name": "Python 3",
   "language": "python",
   "name": "python3"
  },
  "language_info": {
   "codemirror_mode": {
    "name": "ipython",
    "version": 3
   },
   "file_extension": ".py",
   "mimetype": "text/x-python",
   "name": "python",
   "nbconvert_exporter": "python",
   "pygments_lexer": "ipython3",
   "version": "3.7.3"
  }
 },
 "nbformat": 4,
 "nbformat_minor": 2
}
