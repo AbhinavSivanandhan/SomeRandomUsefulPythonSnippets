{
 "cells": [
  {
   "cell_type": "code",
   "execution_count": 3,
   "metadata": {},
   "outputs": [
    {
     "data": {
      "text/plain": [
       "[[1, 0.23], [2, 0.39], [4, 0.31], [5, 0.27]]"
      ]
     },
     "execution_count": 3,
     "metadata": {},
     "output_type": "execute_result"
    }
   ],
   "source": [
    "li=[[1, 0.23],[2, 0.39],[4, 0.31],[5, 0.27]]\n",
    "sorted(li,key=lambda l:l[0])# reverse=True)"
   ]
  },
  {
   "cell_type": "code",
   "execution_count": 2,
   "metadata": {},
   "outputs": [
    {
     "name": "stdout",
     "output_type": "stream",
     "text": [
      "2\n",
      "4\n",
      "5\n",
      "1 4 5 3 2\n",
      "1 4\n",
      "4\n",
      "4\n",
      "2 2 4 3\n",
      "1 2\n"
     ]
    }
   ],
   "source": [
    "def flavors(m,a):\n",
    "    prices = {}\n",
    "    for idx, p in enumerate(a):\n",
    "        if m-p in prices:\n",
    "            return prices[m-p], idx\n",
    "        prices[p] = idx\n",
    "    return None\n",
    "\n",
    "t = int(input().strip())\n",
    "for a0 in range(t):\n",
    "    m = int(input().strip())\n",
    "    n = int(input().strip())\n",
    "    a = list(map(int, input().strip().split(' ')))\n",
    "    f1, f2 = flavors(m,a)\n",
    "    print(f1+1, f2+1)"
   ]
  },
  {
   "cell_type": "code",
   "execution_count": 5,
   "metadata": {},
   "outputs": [],
   "source": [
    "def icecreamParlor(m, arr):\n",
    "    costs = Counter(arr)\n",
    "    half = m/2\n",
    "    combos = set()\n",
    "    for cost in costs:\n",
    "        if (cost!=half and m-cost in costs) or (cost==half and costs[cost]>1):\n",
    "            combos.add(cost)\n",
    "    for index,cost in enumerate(arr,1):\n",
    "        if cost in combos:\n",
    "            yield index\n"
   ]
  },
  {
   "cell_type": "code",
   "execution_count": 7,
   "metadata": {},
   "outputs": [
    {
     "data": {
      "text/plain": [
       "<generator object icecreamParlor at 0x000001C05C2F8C00>"
      ]
     },
     "execution_count": 7,
     "metadata": {},
     "output_type": "execute_result"
    }
   ],
   "source": [
    "icecreamParlor(4,[1,4 ,5, 3, 2])"
   ]
  },
  {
   "cell_type": "code",
   "execution_count": null,
   "metadata": {},
   "outputs": [],
   "source": [
    "def flavors(m,a):\n",
    "    prices = {}\n",
    "    for idx, p in enumerate(a):\n",
    "        if m-p in prices:\n",
    "            return prices[m-p], idx\n",
    "        prices[p] = idx\n",
    "    return None\n",
    "\n",
    "t = int(input().strip())\n",
    "for a0 in range(t):\n",
    "    m = int(input().strip())\n",
    "    n = int(input().strip())\n",
    "    a = list(map(int, input().strip().split(' ')))\n",
    "    f1, f2 = flavors(m,a)\n",
    "    print(f1+1, f2+1)"
   ]
  },
  {
   "cell_type": "code",
   "execution_count": 12,
   "metadata": {},
   "outputs": [
    {
     "name": "stdout",
     "output_type": "stream",
     "text": [
      "2 2 4 3\n",
      "0 2\n",
      "1 2\n",
      "2 4\n",
      "3 3\n"
     ]
    }
   ],
   "source": [
    "a = list(map(int, input().strip().split(' ')))\n",
    "prices={}\n",
    "for idx, p in enumerate(a):\n",
    "    prices[p] = idx\n",
    "    print(idx,p)\n"
   ]
  },
  {
   "cell_type": "code",
   "execution_count": 17,
   "metadata": {},
   "outputs": [
    {
     "name": "stdout",
     "output_type": "stream",
     "text": [
      "0 2\n",
      "1 4\n",
      "2 5\n"
     ]
    }
   ],
   "source": [
    "for idx,j in enumerate([2,4,5]):\n",
    "    print(str(idx)+\" \"+str(j))"
   ]
  },
  {
   "cell_type": "code",
   "execution_count": 18,
   "metadata": {},
   "outputs": [
    {
     "data": {
      "text/plain": [
       "{2: 1, 4: 2, 3: 3}"
      ]
     },
     "execution_count": 18,
     "metadata": {},
     "output_type": "execute_result"
    }
   ],
   "source": [
    "prices"
   ]
  },
  {
   "cell_type": "code",
   "execution_count": null,
   "metadata": {},
   "outputs": [],
   "source": []
  }
 ],
 "metadata": {
  "kernelspec": {
   "display_name": "Python 3",
   "language": "python",
   "name": "python3"
  },
  "language_info": {
   "codemirror_mode": {
    "name": "ipython",
    "version": 3
   },
   "file_extension": ".py",
   "mimetype": "text/x-python",
   "name": "python",
   "nbconvert_exporter": "python",
   "pygments_lexer": "ipython3",
   "version": "3.7.3"
  }
 },
 "nbformat": 4,
 "nbformat_minor": 2
}
