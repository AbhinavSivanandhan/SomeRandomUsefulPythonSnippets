{
 "cells": [
  {
   "cell_type": "code",
   "execution_count": 3,
   "metadata": {},
   "outputs": [],
   "source": [
    "#Python\n",
    "def twoNumberSum(array, targetSum):\n",
    "    for i in range(0,len(array)):\n",
    "        for j in range(i+1,len(array)):\n",
    "            if array[i]+array[j]==targetSum:\n",
    "                return [array[i],array[j]]\n",
    "    return []"
   ]
  },
  {
   "cell_type": "code",
   "execution_count": null,
   "metadata": {},
   "outputs": [],
   "source": [
    "#Java\n",
    "import java.util.*;\n",
    "\n",
    "class Program {\n",
    "  public static int[] twoNumberSum(int[] array, int targetSum) {\n",
    "    for(int i=0;i<array.length;i++){\n",
    "\t\t\tint firstNum=array[i];\n",
    "\t\t\tfor(int j=i+1;j<array.length;j++){\n",
    "\t\t\t\tif(array[i]+array[j]==targetSum){\n",
    "\t\t\t\t\treturn new int[] {array[i],array[j]};\n",
    "\t\t\t\t}\n",
    "\t\t\t}\n",
    "\t\t}\n",
    "   return new int[0]; \n",
    "  }\n",
    "}\n"
   ]
  }
 ],
 "metadata": {
  "kernelspec": {
   "display_name": "Python 3",
   "language": "python",
   "name": "python3"
  },
  "language_info": {
   "codemirror_mode": {
    "name": "ipython",
    "version": 3
   },
   "file_extension": ".py",
   "mimetype": "text/x-python",
   "name": "python",
   "nbconvert_exporter": "python",
   "pygments_lexer": "ipython3",
   "version": "3.7.3"
  }
 },
 "nbformat": 4,
 "nbformat_minor": 2
}
