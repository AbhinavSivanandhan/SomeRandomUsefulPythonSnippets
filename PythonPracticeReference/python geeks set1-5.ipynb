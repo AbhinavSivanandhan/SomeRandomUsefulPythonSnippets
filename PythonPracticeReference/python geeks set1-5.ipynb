{
 "cells": [
  {
   "cell_type": "code",
   "execution_count": 6,
   "metadata": {},
   "outputs": [
    {
     "name": "stdout",
     "output_type": "stream",
     "text": [
      "1\n",
      "2\n",
      "3\n",
      "4\n",
      "4\n",
      "6\n"
     ]
    }
   ],
   "source": [
    "values = [1, 2, 3, 4,4,6,7] \n",
    "values2 = [1, 2, 3, 4,4,6,8] \n",
    "numbers = set(values2) \n",
    "  \n",
    "def checknums(num): \n",
    "    if num in numbers: \n",
    "        return True\n",
    "    else: \n",
    "        return False\n",
    "for i in filter(checknums, values): \n",
    "    print(i)"
   ]
  },
  {
   "cell_type": "code",
   "execution_count": 10,
   "metadata": {},
   "outputs": [
    {
     "name": "stdout",
     "output_type": "stream",
     "text": [
      "52\n"
     ]
    }
   ],
   "source": [
    "class Geeks: \n",
    "    classvar=0\n",
    "    def __init__(self, id): \n",
    "        self.id = id\n",
    "  \n",
    "manager = Geeks(100) \n",
    "  \n",
    "manager.__dict__['life'] = 49\n",
    "manager.__dict__['classvar'] = 49\n",
    "  \n",
    "print(manager.life + len(manager.__dict__) )"
   ]
  },
  {
   "cell_type": "code",
   "execution_count": null,
   "metadata": {},
   "outputs": [],
   "source": []
  },
  {
   "cell_type": "code",
   "execution_count": 11,
   "metadata": {},
   "outputs": [],
   "source": [
    "l=[2,3]"
   ]
  },
  {
   "cell_type": "code",
   "execution_count": 13,
   "metadata": {},
   "outputs": [
    {
     "data": {
      "text/plain": [
       "[2, 3]"
      ]
     },
     "execution_count": 13,
     "metadata": {},
     "output_type": "execute_result"
    }
   ],
   "source": [
    "l"
   ]
  },
  {
   "cell_type": "code",
   "execution_count": 14,
   "metadata": {},
   "outputs": [],
   "source": [
    "\n",
    "def addToList(listcontainer): \n",
    "    listcontainer += [10] \n",
    "  \n",
    "mylistContainer = [10, 20, 30, 40] \n",
    "\n",
    "addToList(mylistContainer) "
   ]
  },
  {
   "cell_type": "code",
   "execution_count": 15,
   "metadata": {},
   "outputs": [
    {
     "data": {
      "text/plain": [
       "5"
      ]
     },
     "execution_count": 15,
     "metadata": {},
     "output_type": "execute_result"
    }
   ],
   "source": [
    "len(mylistContainer)"
   ]
  },
  {
   "cell_type": "code",
   "execution_count": 16,
   "metadata": {},
   "outputs": [
    {
     "data": {
      "text/plain": [
       "list"
      ]
     },
     "execution_count": 16,
     "metadata": {},
     "output_type": "execute_result"
    }
   ],
   "source": [
    "type(mylistContainer)"
   ]
  },
  {
   "cell_type": "code",
   "execution_count": 18,
   "metadata": {},
   "outputs": [],
   "source": [
    "mylistContainer = [10, 20, 30, 40] \n",
    "mylistContainer+= [10]"
   ]
  },
  {
   "cell_type": "code",
   "execution_count": 19,
   "metadata": {},
   "outputs": [
    {
     "data": {
      "text/plain": [
       "[10, 20, 30, 40, 10]"
      ]
     },
     "execution_count": 19,
     "metadata": {},
     "output_type": "execute_result"
    }
   ],
   "source": [
    "mylistContainer"
   ]
  },
  {
   "cell_type": "code",
   "execution_count": 21,
   "metadata": {},
   "outputs": [],
   "source": [
    "l=[2]\n",
    "l+=[2]"
   ]
  },
  {
   "cell_type": "code",
   "execution_count": 26,
   "metadata": {},
   "outputs": [
    {
     "name": "stdout",
     "output_type": "stream",
     "text": [
      "Geeksforgeeks is cool website for boosting up technical skills\n",
      "hiii2\n"
     ]
    }
   ],
   "source": [
    "def gfgFunction(): \n",
    "    \"Geeksforgeeks is cool website for boosting up technical skills\"\n",
    "    return 1\n",
    "\"hello\"  \n",
    "'''hiii'''\n",
    "'''hiii2'''\n",
    "print(gfgFunction.__doc__)\n",
    "print(__doc__)"
   ]
  },
  {
   "cell_type": "code",
   "execution_count": null,
   "metadata": {},
   "outputs": [],
   "source": []
  }
 ],
 "metadata": {
  "kernelspec": {
   "display_name": "Python 3",
   "language": "python",
   "name": "python3"
  },
  "language_info": {
   "codemirror_mode": {
    "name": "ipython",
    "version": 3
   },
   "file_extension": ".py",
   "mimetype": "text/x-python",
   "name": "python",
   "nbconvert_exporter": "python",
   "pygments_lexer": "ipython3",
   "version": "3.7.3"
  }
 },
 "nbformat": 4,
 "nbformat_minor": 2
}
