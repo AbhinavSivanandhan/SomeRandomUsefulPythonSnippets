{
 "cells": [
  {
   "cell_type": "code",
   "execution_count": null,
   "metadata": {},
   "outputs": [
    {
     "name": "stdout",
     "output_type": "stream",
     "text": [
      "10\n",
      "beabeefeab\n",
      "{'a', 'e', 'f', 'b'}\n",
      "['a', 'e', 'f', 'b']\n",
      "5\n"
     ]
    }
   ],
   "source": [
    "def validate(cpy):\n",
    "    for i in range(len(cpy)-1):\n",
    "        if cpy[i] == cpy[i+1]:\n",
    "            return False\n",
    "    return True\n",
    "\n",
    "for _ in range(int(input().strip())):\n",
    "    s = input().strip()\n",
    "    st = list(set(s))\n",
    "    #\n",
    "    print(set(s))\n",
    "    print(list(set(s)))\n",
    "    #\n",
    "    max_len = 0\n",
    "    for x in range(len(st)):\n",
    "        for y in range(x+1, len(st)):\n",
    "            cpy = [c for c in s if c==st[x] or c==st[y]]\n",
    "            if validate(cpy):\n",
    "                max_len = max(max_len, len(cpy))\n",
    "    print(max_len)"
   ]
  },
  {
   "cell_type": "code",
   "execution_count": null,
   "metadata": {},
   "outputs": [],
   "source": []
  }
 ],
 "metadata": {
  "kernelspec": {
   "display_name": "Python 3",
   "language": "python",
   "name": "python3"
  },
  "language_info": {
   "codemirror_mode": {
    "name": "ipython",
    "version": 3
   },
   "file_extension": ".py",
   "mimetype": "text/x-python",
   "name": "python",
   "nbconvert_exporter": "python",
   "pygments_lexer": "ipython3",
   "version": "3.7.3"
  }
 },
 "nbformat": 4,
 "nbformat_minor": 2
}
