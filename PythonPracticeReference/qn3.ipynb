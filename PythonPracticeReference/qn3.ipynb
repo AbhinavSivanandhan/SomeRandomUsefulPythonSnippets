{
 "cells": [
  {
   "cell_type": "code",
   "execution_count": 3,
   "metadata": {},
   "outputs": [
    {
     "name": "stdout",
     "output_type": "stream",
     "text": [
      "2 4\n",
      "3\n"
     ]
    }
   ],
   "source": [
    "l = [int(i) for i in input().split()]\n",
    "a,b=l[0],l[1]\n",
    "c=int(input())\n",
    "l=[]\n",
    "index=0\n",
    "for i in range(a,b+1):\n",
    "    l.append(i)\n",
    "def perm(l,k,index):\n",
    "    pass"
   ]
  },
  {
   "cell_type": "code",
   "execution_count": 4,
   "metadata": {},
   "outputs": [
    {
     "data": {
      "text/plain": [
       "[2, 3, 4]"
      ]
     },
     "execution_count": 4,
     "metadata": {},
     "output_type": "execute_result"
    }
   ],
   "source": [
    "l"
   ]
  },
  {
   "cell_type": "code",
   "execution_count": 12,
   "metadata": {},
   "outputs": [
    {
     "name": "stdout",
     "output_type": "stream",
     "text": [
      "2 4\n",
      "2\n",
      "6\n"
     ]
    }
   ],
   "source": [
    "l = [int(i) for i in input().split()]\n",
    "a,b=l[0],l[1]\n",
    "k=int(input())\n",
    "l=[]\n",
    "index=0\n",
    "for i in range(a,b+1):\n",
    "    l.append(i)\n",
    "soln=[]\n",
    "def perm(l,k,index):\n",
    "    if k==0:\n",
    "        return 1\n",
    "    elif index>=len(l):\n",
    "        return 0\n",
    "    ways=perm(l,k-1,index)+perm(l,k,index+1)\n",
    "    return ways\n",
    "print(perm(l,k,index))"
   ]
  },
  {
   "cell_type": "code",
   "execution_count": 14,
   "metadata": {},
   "outputs": [
    {
     "name": "stdout",
     "output_type": "stream",
     "text": [
      "2 4\n",
      "2\n",
      "4\n"
     ]
    }
   ],
   "source": [
    "l = [int(i) for i in input().split()]\n",
    "a,b=l[0],l[1]\n",
    "k=int(input())\n",
    "l=[]\n",
    "index=0\n",
    "for i in range(a,b+1):\n",
    "    l.append(i)\n",
    "soln=[]\n",
    "odd=0#default\n",
    "def perm(l,k,index,odd):\n",
    "    if k==0:\n",
    "        if odd==0:\n",
    "            return 1\n",
    "        else:\n",
    "            return 0\n",
    "    elif index>=len(l):\n",
    "        return 0\n",
    "    ways=perm(l,k-1,index,(odd+l[index])%2)+perm(l,k,index+1,odd)#if odd it stays odd or changes\n",
    "    return ways\n",
    "print(perm(l,k,index,odd))#add modulo"
   ]
  },
  {
   "cell_type": "code",
   "execution_count": 15,
   "metadata": {},
   "outputs": [],
   "source": [
    "#hence soln"
   ]
  },
  {
   "cell_type": "code",
   "execution_count": 34,
   "metadata": {},
   "outputs": [
    {
     "name": "stdout",
     "output_type": "stream",
     "text": [
      "2 4\n",
      "2\n",
      "6\n"
     ]
    }
   ],
   "source": [
    "l = [int(i) for i in input().split()]\n",
    "a,b=l[0],l[1]\n",
    "k=int(input())\n",
    "l=[]\n",
    "index=0\n",
    "for i in range(a,b+1):\n",
    "    l.append(i)\n",
    "soln=0\n",
    "temp=[]\n",
    "complete=[]\n",
    "odd=0#default\n",
    "def perm(l,k,index,soln,temp,complete):\n",
    "    if soln==0:\n",
    "        pass\n",
    "    else:\n",
    "        temp.append(soln)\n",
    "    if k==0:\n",
    "        if odd==0:\n",
    "            complete.append(temp)\n",
    "            return 1\n",
    "        else:\n",
    "            return 0\n",
    "        temp=[]\n",
    "    elif index>=len(l):\n",
    "        temp=[]\n",
    "        return 0\n",
    "    ways=perm(l,k-1,index,l[index],temp,complete)+perm(l,k,index+1,0,temp,complete)#if odd it stays odd or changes\n",
    "    return ways\n",
    "print(perm(l,k,index,soln,temp,complete)%1000000007)"
   ]
  },
  {
   "cell_type": "code",
   "execution_count": 32,
   "metadata": {},
   "outputs": [
    {
     "data": {
      "text/plain": [
       "[[2, 2, 3, 4, 3, 3, 4, 4, 4],\n",
       " [2, 2, 3, 4, 3, 3, 4, 4, 4],\n",
       " [2, 2, 3, 4, 3, 3, 4, 4, 4],\n",
       " [2, 2, 3, 4, 3, 3, 4, 4, 4],\n",
       " [2, 2, 3, 4, 3, 3, 4, 4, 4],\n",
       " [2, 2, 3, 4, 3, 3, 4, 4, 4]]"
      ]
     },
     "execution_count": 32,
     "metadata": {},
     "output_type": "execute_result"
    }
   ],
   "source": [
    "complete"
   ]
  },
  {
   "cell_type": "code",
   "execution_count": 24,
   "metadata": {},
   "outputs": [
    {
     "name": "stdout",
     "output_type": "stream",
     "text": [
      "2 4\n",
      "3\n",
      "[2, 3, 4]\n"
     ]
    }
   ],
   "source": [
    "l = [int(i) for i in input().split()]\n",
    "a,b=l[0],l[1]\n",
    "k=int(input())\n",
    "l=[]\n",
    "index=0\n",
    "for i in range(a,b+1):\n",
    "    l.append(i)\n",
    "print(l)"
   ]
  },
  {
   "cell_type": "code",
   "execution_count": null,
   "metadata": {},
   "outputs": [],
   "source": []
  }
 ],
 "metadata": {
  "kernelspec": {
   "display_name": "Python 3",
   "language": "python",
   "name": "python3"
  },
  "language_info": {
   "codemirror_mode": {
    "name": "ipython",
    "version": 3
   },
   "file_extension": ".py",
   "mimetype": "text/x-python",
   "name": "python",
   "nbconvert_exporter": "python",
   "pygments_lexer": "ipython3",
   "version": "3.7.3"
  }
 },
 "nbformat": 4,
 "nbformat_minor": 2
}
