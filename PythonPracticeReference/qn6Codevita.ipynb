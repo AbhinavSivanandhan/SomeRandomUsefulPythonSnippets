{
 "cells": [
  {
   "cell_type": "code",
   "execution_count": null,
   "metadata": {},
   "outputs": [],
   "source": [
    "l=[4,5,6,1,2,7,8,9]\n",
    "w=0\n",
    "\n",
    "def maxSum(sum,w,index,l):\n",
    "    if index>=len(l):\n",
    "        return 0\n",
    "    elif w==0:\n",
    "        return maxSum(1,index+1,l)\n",
    "    elif w>=4:\n",
    "        return maxSum(w+1,index+1,l)\n",
    "    sum=max(maxSum(w+1,index+1,l),maxSum(0,index+1,l))\n",
    "    return sum"
   ]
  }
 ],
 "metadata": {
  "kernelspec": {
   "display_name": "Python 3",
   "language": "python",
   "name": "python3"
  },
  "language_info": {
   "codemirror_mode": {
    "name": "ipython",
    "version": 3
   },
   "file_extension": ".py",
   "mimetype": "text/x-python",
   "name": "python",
   "nbconvert_exporter": "python",
   "pygments_lexer": "ipython3",
   "version": "3.7.3"
  }
 },
 "nbformat": 4,
 "nbformat_minor": 2
}
