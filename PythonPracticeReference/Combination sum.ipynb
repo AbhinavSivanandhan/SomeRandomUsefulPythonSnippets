{
 "cells": [
  {
   "cell_type": "code",
   "execution_count": null,
   "metadata": {},
   "outputs": [],
   "source": [
    "https://www.geeksforgeeks.org/find-all-combinations-that-adds-upto-given-number-2/"
   ]
  },
  {
   "cell_type": "code",
   "execution_count": 1,
   "metadata": {},
   "outputs": [],
   "source": [
    "N=5"
   ]
  },
  {
   "cell_type": "code",
   "execution_count": 2,
   "metadata": {},
   "outputs": [],
   "source": [
    "i=1"
   ]
  },
  {
   "cell_type": "code",
   "execution_count": 3,
   "metadata": {},
   "outputs": [],
   "source": [
    "al=[]\n",
    "ltemp=[]\n",
    "def allcomb(N,i,l):\n",
    "    if N==0:\n",
    "        al.append(l)\n",
    "        return\n",
    "    elif i>N:\n",
    "        return\n",
    "    ltemp=l[:]\n",
    "    ltemp.append(i)\n",
    "    allcomb(N-i,i+1,ltemp)\n",
    "    allcomb(N-i,i,ltemp)\n",
    "    allcomb(N,i+1,l)"
   ]
  },
  {
   "cell_type": "code",
   "execution_count": 4,
   "metadata": {},
   "outputs": [],
   "source": [
    "allcomb(N,1,[])"
   ]
  },
  {
   "cell_type": "code",
   "execution_count": 6,
   "metadata": {},
   "outputs": [
    {
     "data": {
      "text/plain": [
       "[[1, 2, 2],\n",
       " [1, 2, 2],\n",
       " [1, 4],\n",
       " [1, 4],\n",
       " [1, 1, 3],\n",
       " [1, 1, 3],\n",
       " [1, 1, 1, 2],\n",
       " [1, 1, 1, 2],\n",
       " [1, 1, 1, 1, 1],\n",
       " [1, 1, 1, 1, 1],\n",
       " [1, 1, 1, 2],\n",
       " [1, 1, 1, 2],\n",
       " [1, 1, 3],\n",
       " [1, 1, 3],\n",
       " [1, 2, 2],\n",
       " [1, 2, 2],\n",
       " [1, 4],\n",
       " [1, 4],\n",
       " [2, 3],\n",
       " [2, 3],\n",
       " [2, 3],\n",
       " [2, 3],\n",
       " [5],\n",
       " [5]]"
      ]
     },
     "execution_count": 6,
     "metadata": {},
     "output_type": "execute_result"
    }
   ],
   "source": [
    "al"
   ]
  },
  {
   "cell_type": "code",
   "execution_count": 11,
   "metadata": {},
   "outputs": [],
   "source": [
    "d={}\n",
    "for i in al:\n",
    "    if str(i) not in d:\n",
    "        d[str(i)]=str(i)\n",
    "    else:\n",
    "        continue\n",
    "        "
   ]
  },
  {
   "cell_type": "code",
   "execution_count": 12,
   "metadata": {},
   "outputs": [
    {
     "data": {
      "text/plain": [
       "{'[1, 2, 2]': '[1, 2, 2]',\n",
       " '[1, 4]': '[1, 4]',\n",
       " '[1, 1, 3]': '[1, 1, 3]',\n",
       " '[1, 1, 1, 2]': '[1, 1, 1, 2]',\n",
       " '[1, 1, 1, 1, 1]': '[1, 1, 1, 1, 1]',\n",
       " '[2, 3]': '[2, 3]',\n",
       " '[5]': '[5]'}"
      ]
     },
     "execution_count": 12,
     "metadata": {},
     "output_type": "execute_result"
    }
   ],
   "source": [
    "d"
   ]
  },
  {
   "cell_type": "code",
   "execution_count": 13,
   "metadata": {},
   "outputs": [
    {
     "name": "stdout",
     "output_type": "stream",
     "text": [
      "[1, 2, 2]\n",
      "[1, 4]\n",
      "[1, 1, 3]\n",
      "[1, 1, 1, 2]\n",
      "[1, 1, 1, 1, 1]\n",
      "[2, 3]\n",
      "[5]\n"
     ]
    }
   ],
   "source": [
    "for i in d:\n",
    "    print(i)"
   ]
  },
  {
   "cell_type": "code",
   "execution_count": null,
   "metadata": {},
   "outputs": [],
   "source": []
  }
 ],
 "metadata": {
  "kernelspec": {
   "display_name": "Python 3",
   "language": "python",
   "name": "python3"
  },
  "language_info": {
   "codemirror_mode": {
    "name": "ipython",
    "version": 3
   },
   "file_extension": ".py",
   "mimetype": "text/x-python",
   "name": "python",
   "nbconvert_exporter": "python",
   "pygments_lexer": "ipython3",
   "version": "3.7.3"
  }
 },
 "nbformat": 4,
 "nbformat_minor": 2
}
