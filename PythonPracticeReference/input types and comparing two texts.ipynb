{
 "cells": [
  {
   "cell_type": "code",
   "execution_count": 1,
   "metadata": {},
   "outputs": [
    {
     "name": "stdout",
     "output_type": "stream",
     "text": [
      "3\n",
      "1 2 3\n",
      "2528502973977326415\n"
     ]
    }
   ],
   "source": [
    "if __name__ == '__main__':\n",
    "    n = int(input())\n",
    "    integer_list = map(int, input().split())\n",
    "    print (hash(tuple(integer_list)))"
   ]
  },
  {
   "cell_type": "code",
   "execution_count": 3,
   "metadata": {},
   "outputs": [
    {
     "name": "stdout",
     "output_type": "stream",
     "text": [
      "2\n",
      "1 2\n"
     ]
    }
   ],
   "source": [
    "n = int(input())\n",
    "integer_list = map(int, input().split())\n"
   ]
  },
  {
   "cell_type": "code",
   "execution_count": 4,
   "metadata": {},
   "outputs": [
    {
     "data": {
      "text/plain": [
       "(1, 2)"
      ]
     },
     "execution_count": 4,
     "metadata": {},
     "output_type": "execute_result"
    }
   ],
   "source": [
    "tuple(integer_list)"
   ]
  },
  {
   "cell_type": "code",
   "execution_count": 5,
   "metadata": {},
   "outputs": [
    {
     "data": {
      "text/plain": [
       "<map at 0x2805da2a668>"
      ]
     },
     "execution_count": 5,
     "metadata": {},
     "output_type": "execute_result"
    }
   ],
   "source": [
    "integer_list"
   ]
  },
  {
   "cell_type": "code",
   "execution_count": 8,
   "metadata": {},
   "outputs": [
    {
     "data": {
      "text/plain": [
       "3527539"
      ]
     },
     "execution_count": 8,
     "metadata": {},
     "output_type": "execute_result"
    }
   ],
   "source": [
    "hash(tuple(integer_list))"
   ]
  },
  {
   "cell_type": "code",
   "execution_count": 4,
   "metadata": {},
   "outputs": [
    {
     "name": "stdout",
     "output_type": "stream",
     "text": [
      "comparing Berlin with Lausanne: False\n",
      "False\n",
      "comparing Paris with Lausanne: False\n",
      "False\n",
      "comparing Lausanne with Lausanne: True\n",
      "True\n"
     ]
    }
   ],
   "source": [
    "listOfPlaces = [\"Berlin\", \"Paris\", \"Lausanne\"]\n",
    "currentCity = \"Lausanne\"\n",
    "\n",
    "for place in listOfPlaces:\n",
    "    print (\"comparing %s with %s: %s\" % (place, currentCity, place == currentCity))\n",
    "    print(place is currentCity)"
   ]
  },
  {
   "cell_type": "code",
   "execution_count": 5,
   "metadata": {},
   "outputs": [
    {
     "name": "stdout",
     "output_type": "stream",
     "text": [
      "comparing Berlin with lausANne: False\n",
      "comparing Paris with lausANne: False\n",
      "comparing Lausanne with lausANne: True\n"
     ]
    }
   ],
   "source": [
    "listOfPlaces = [\"Berlin\", \"Paris\", \"Lausanne\"]\n",
    "currentCity = \"lausANne\"\n",
    "\n",
    "for place in listOfPlaces:\n",
    "    print (\"comparing %s with %s: %s\" % (place, currentCity, place.lower() == currentCity.lower()))\n",
    "    "
   ]
  },
  {
   "cell_type": "code",
   "execution_count": 6,
   "metadata": {},
   "outputs": [
    {
     "name": "stdout",
     "output_type": "stream",
     "text": [
      "Bayswater matches the search pattern\n",
      "Table Bay matches the search pattern\n",
      "Bombay matches the search pattern\n"
     ]
    }
   ],
   "source": [
    "import re\n",
    "\n",
    "# define list of places\n",
    "listOfPlaces = [\"Bayswater\", \"Table Bay\", \"Bejing\", \"Bombay\"]\n",
    "\n",
    "# define search string\n",
    "pattern = re.compile(\"[Bb]ay\")\n",
    "\n",
    "for place in listOfPlaces:\n",
    "    if pattern.search(place):\n",
    "        print (\"%s matches the search pattern\" % place)"
   ]
  },
  {
   "cell_type": "code",
   "execution_count": 8,
   "metadata": {},
   "outputs": [
    {
     "name": "stdout",
     "output_type": "stream",
     "text": [
      "  About the IIS\n",
      "  \n",
      "- IIS 8.5 has several improvements related\n",
      "?  ^^^^^^\n",
      "\n",
      "+ It has several improvements related\n",
      "?  ^\n",
      "\n",
      "- to performance in large-scale scenarios, such\n",
      "?                                        ^^^^^^\n",
      "\n",
      "+ to performance in large-scale scenarios.\n",
      "?                                        ^\n",
      "\n",
      "- as those used by commercial hosting providers and Microsoft's\n",
      "- own cloud offerings.\n"
     ]
    }
   ],
   "source": [
    "\n",
    "\n",
    "# import the additional module\n",
    "import difflib\n",
    " \n",
    "# define original text\n",
    "# taken from: https://en.wikipedia.org/wiki/Internet_Information_Services\n",
    "original = [\"About the IIS\", \"\", \"IIS 8.5 has several improvements related\", \"to performance in large-scale scenarios, such\", \"as those used by commercial hosting providers and Microsoft's\", \"own cloud offerings.\"]\n",
    "\n",
    "# define modified text\n",
    "edited = [\"About the IIS\", \"\", \"It has several improvements related\", \"to performance in large-scale scenarios.\"]\n",
    "\n",
    "# initiate the Differ object\n",
    "d = difflib.Differ()\n",
    " \n",
    "# calculate the difference between the two texts\n",
    "diff = d.compare(original, edited)\n",
    " \n",
    "# output the result\n",
    "print ('\\n'.join(diff))"
   ]
  },
  {
   "cell_type": "code",
   "execution_count": null,
   "metadata": {},
   "outputs": [],
   "source": []
  }
 ],
 "metadata": {
  "kernelspec": {
   "display_name": "Python 3",
   "language": "python",
   "name": "python3"
  },
  "language_info": {
   "codemirror_mode": {
    "name": "ipython",
    "version": 3
   },
   "file_extension": ".py",
   "mimetype": "text/x-python",
   "name": "python",
   "nbconvert_exporter": "python",
   "pygments_lexer": "ipython3",
   "version": "3.7.3"
  }
 },
 "nbformat": 4,
 "nbformat_minor": 2
}
