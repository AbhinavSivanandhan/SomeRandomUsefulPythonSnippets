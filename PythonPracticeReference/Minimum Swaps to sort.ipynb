{
 "cells": [
  {
   "cell_type": "code",
   "execution_count": 11,
   "metadata": {},
   "outputs": [],
   "source": [
    "def minSwaps(arr): \n",
    "    n = len(arr) \n",
    "    print(\"n: \",n)  \n",
    "    # Create two arrays and use  \n",
    "    # as pairs where first array  \n",
    "    # is element and second array \n",
    "    # is position of first element \n",
    "    arrpos = [*enumerate(arr)] \n",
    "    print(\"arrpos: \",arrpos)\n",
    "    # Sort the array by array element  \n",
    "    # values to get right position of  \n",
    "    # every element as the elements  \n",
    "    # of second array. \n",
    "    arrpos.sort(key = lambda it:it[1]) \n",
    "    print(\"arrpos_sorted: \",arrpos)  \n",
    "    # To keep track of visited elements.  \n",
    "    # Initialize all elements as not  \n",
    "    # visited or false. \n",
    "    vis = {k:False for k in range(n)} \n",
    "    print(\"vis: \",vis)  \n",
    "    # Initialize result \n",
    "    ans = 0\n",
    "    for i in range(n): \n",
    "          \n",
    "        # alreadt swapped or  \n",
    "        # alreadt present at  \n",
    "        # correct position \n",
    "        if vis[i] or arrpos[i][0] == i: \n",
    "            continue\n",
    "              \n",
    "        # find number of nodes  \n",
    "        # in this cycle and \n",
    "        # add it to ans \n",
    "        cycle_size = 0\n",
    "        j = i \n",
    "        while not vis[j]: \n",
    "            print(vis[j])  \n",
    "            # mark node as visited \n",
    "            vis[j] = True\n",
    "              \n",
    "            # move to next node \n",
    "            j = arrpos[j][0] \n",
    "            cycle_size += 1\n",
    "              \n",
    "        # update answer by adding \n",
    "        # current cycle \n",
    "        if cycle_size > 0: \n",
    "            ans += (cycle_size - 1) \n",
    "        print(cycle_size,\" \",ans)\n",
    "    # return answer\n",
    "    \n",
    "    return ans "
   ]
  },
  {
   "cell_type": "code",
   "execution_count": 12,
   "metadata": {},
   "outputs": [
    {
     "name": "stdout",
     "output_type": "stream",
     "text": [
      "n:  5\n",
      "arrpos:  [(0, 2), (1, 3), (2, 4), (3, 1), (4, 5)]\n",
      "arrpos_sorted:  [(3, 1), (0, 2), (1, 3), (2, 4), (4, 5)]\n",
      "vis:  {0: False, 1: False, 2: False, 3: False, 4: False}\n",
      "False\n",
      "False\n",
      "False\n",
      "False\n",
      "4   3\n",
      "3\n"
     ]
    }
   ],
   "source": [
    "# Driver Code      \n",
    "arr = [2,3,4,1,5] \n",
    "print(minSwaps(arr)) "
   ]
  },
  {
   "cell_type": "code",
   "execution_count": null,
   "metadata": {},
   "outputs": [],
   "source": []
  }
 ],
 "metadata": {
  "kernelspec": {
   "display_name": "Python 3",
   "language": "python",
   "name": "python3"
  }
 },
 "nbformat": 4,
 "nbformat_minor": 2
}
