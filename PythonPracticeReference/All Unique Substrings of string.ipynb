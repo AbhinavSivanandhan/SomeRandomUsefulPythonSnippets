{
 "cells": [
  {
   "cell_type": "code",
   "execution_count": 1,
   "metadata": {},
   "outputs": [
    {
     "name": "stdout",
     "output_type": "stream",
     "text": [
      "BANANA\n"
     ]
    }
   ],
   "source": [
    "s=input()"
   ]
  },
  {
   "cell_type": "code",
   "execution_count": 11,
   "metadata": {},
   "outputs": [],
   "source": [
    "sub=[]"
   ]
  },
  {
   "cell_type": "code",
   "execution_count": 12,
   "metadata": {},
   "outputs": [],
   "source": [
    "for i in range(1,len(s)+1): #n times, since length of substring is from 1 to n\n",
    "    for j in range(0,len(s)-i+1):\n",
    "        sub.append(s[j:j+i]) #+1 since n-1 is only taken\n",
    "        "
   ]
  },
  {
   "cell_type": "code",
   "execution_count": 13,
   "metadata": {},
   "outputs": [
    {
     "data": {
      "text/plain": [
       "['B',\n",
       " 'A',\n",
       " 'N',\n",
       " 'A',\n",
       " 'N',\n",
       " 'A',\n",
       " 'BA',\n",
       " 'AN',\n",
       " 'NA',\n",
       " 'AN',\n",
       " 'NA',\n",
       " 'BAN',\n",
       " 'ANA',\n",
       " 'NAN',\n",
       " 'ANA',\n",
       " 'BANA',\n",
       " 'ANAN',\n",
       " 'NANA',\n",
       " 'BANAN',\n",
       " 'ANANA',\n",
       " 'BANANA']"
      ]
     },
     "execution_count": 13,
     "metadata": {},
     "output_type": "execute_result"
    }
   ],
   "source": [
    "sub"
   ]
  },
  {
   "cell_type": "code",
   "execution_count": 14,
   "metadata": {},
   "outputs": [],
   "source": [
    "unique_list=[]\n",
    "for i in sub:\n",
    "    if i not in unique_list:\n",
    "        unique_list.append(i)"
   ]
  },
  {
   "cell_type": "code",
   "execution_count": 15,
   "metadata": {},
   "outputs": [
    {
     "data": {
      "text/plain": [
       "['B',\n",
       " 'A',\n",
       " 'N',\n",
       " 'BA',\n",
       " 'AN',\n",
       " 'NA',\n",
       " 'BAN',\n",
       " 'ANA',\n",
       " 'NAN',\n",
       " 'BANA',\n",
       " 'ANAN',\n",
       " 'NANA',\n",
       " 'BANAN',\n",
       " 'ANANA',\n",
       " 'BANANA']"
      ]
     },
     "execution_count": 15,
     "metadata": {},
     "output_type": "execute_result"
    }
   ],
   "source": [
    "unique_list"
   ]
  },
  {
   "cell_type": "code",
   "execution_count": 19,
   "metadata": {},
   "outputs": [
    {
     "data": {
      "text/plain": [
       "21"
      ]
     },
     "execution_count": 19,
     "metadata": {},
     "output_type": "execute_result"
    }
   ],
   "source": [
    "len(sub)"
   ]
  },
  {
   "cell_type": "code",
   "execution_count": 20,
   "metadata": {},
   "outputs": [
    {
     "data": {
      "text/plain": [
       "15"
      ]
     },
     "execution_count": 20,
     "metadata": {},
     "output_type": "execute_result"
    }
   ],
   "source": [
    "len(unique_list)"
   ]
  },
  {
   "cell_type": "code",
   "execution_count": null,
   "metadata": {},
   "outputs": [],
   "source": []
  }
 ],
 "metadata": {
  "kernelspec": {
   "display_name": "Python 3",
   "language": "python",
   "name": "python3"
  },
  "language_info": {
   "codemirror_mode": {
    "name": "ipython",
    "version": 3
   },
   "file_extension": ".py",
   "mimetype": "text/x-python",
   "name": "python",
   "nbconvert_exporter": "python",
   "pygments_lexer": "ipython3",
   "version": "3.7.3"
  }
 },
 "nbformat": 4,
 "nbformat_minor": 2
}
