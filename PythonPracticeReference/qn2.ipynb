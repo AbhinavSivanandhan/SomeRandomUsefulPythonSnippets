{
 "cells": [
  {
   "cell_type": "code",
   "execution_count": 3,
   "metadata": {},
   "outputs": [
    {
     "name": "stdout",
     "output_type": "stream",
     "text": [
      "2 4\n"
     ]
    }
   ],
   "source": [
    "l = [int(i) for i in input().split()]\n",
    "a,b=l[0],l[1]"
   ]
  },
  {
   "cell_type": "code",
   "execution_count": 4,
   "metadata": {},
   "outputs": [
    {
     "data": {
      "text/plain": [
       "2"
      ]
     },
     "execution_count": 4,
     "metadata": {},
     "output_type": "execute_result"
    }
   ],
   "source": [
    "a"
   ]
  },
  {
   "cell_type": "code",
   "execution_count": 5,
   "metadata": {},
   "outputs": [
    {
     "data": {
      "text/plain": [
       "6"
      ]
     },
     "execution_count": 5,
     "metadata": {},
     "output_type": "execute_result"
    }
   ],
   "source": [
    "b+a"
   ]
  },
  {
   "cell_type": "code",
   "execution_count": 7,
   "metadata": {},
   "outputs": [
    {
     "data": {
      "text/plain": [
       "2"
      ]
     },
     "execution_count": 7,
     "metadata": {},
     "output_type": "execute_result"
    }
   ],
   "source": [
    "import math\n",
    "math.gcd(a,b)"
   ]
  },
  {
   "cell_type": "code",
   "execution_count": 12,
   "metadata": {},
   "outputs": [
    {
     "name": "stdout",
     "output_type": "stream",
     "text": [
      "4 18\n",
      "42\n"
     ]
    }
   ],
   "source": [
    "import math\n",
    "l = [int(i) for i in input().split()]\n",
    "a,b=l[0],l[1]\n",
    "g=math.gcd(a,b)\n",
    "if a==b:#equal\n",
    "    print(0)\n",
    "elif g==a or g==b:#greatest factor of another\n",
    "    print(1)\n",
    "elif g==1:#relatively prime\n",
    "    print(2)\n",
    "else:#where numbers have common factor, but not greatest\n",
    "    # Case 26 and 39 if \n",
    "    # Case 4 and 18 else\n",
    "    maxa=1\n",
    "    maxb=1\n",
    "    counta=0\n",
    "    countb=0\n",
    "    for i in range(2,sqrt(a)):\n",
    "        if a%i==0: #can club both divisibility tests together to avoid complexity\n",
    "            maxa=i\n",
    "            counta+=1\n",
    "    for i in range(2,sqrt(b)):\n",
    "        if b%i==0: #can club both divisibility tests together to avoid complexity\n",
    "            maxb=i\n",
    "            countb+=1\n",
    "    if maxa==maxb:\n",
    "        print(2)#a to maxa/maxb to b\n",
    "    else:\n",
    "        if counta>countb:\n",
    "            print(counta+1)\n",
    "        else:\n",
    "            print(countb+1)               "
   ]
  },
  {
   "cell_type": "code",
   "execution_count": null,
   "metadata": {},
   "outputs": [],
   "source": [
    "import math\n",
    "l = [int(i) for i in input().split()]\n",
    "a,b=l[0],l[1]\n",
    "g=math.gcd(a,b)\n",
    "if a==b:#equal\n",
    "    print(0)\n",
    "elif g==a or g==b:#greatest factor of another\n",
    "    print(1)\n",
    "elif g==1:#relatively prime\n",
    "    pass\n",
    "else:\n",
    "    print(42)"
   ]
  },
  {
   "cell_type": "code",
   "execution_count": 29,
   "metadata": {},
   "outputs": [
    {
     "name": "stdout",
     "output_type": "stream",
     "text": [
      "18 19\n",
      "4\n"
     ]
    }
   ],
   "source": [
    "import math\n",
    "l = [int(i) for i in input().split()]\n",
    "a,b=l[0],l[1]\n",
    "g=math.gcd(a,b)\n",
    "if a==b:#equal\n",
    "    print(0)\n",
    "elif g==a or g==b:#greatest factor of another\n",
    "    print(1)\n",
    "# elif g==1:#relatively prime\n",
    "#     print(2)\n",
    "else:#where numbers have common factor, but not greatest\n",
    "    # Case 26 and 39 if \n",
    "    # Case 4 and 18 else\n",
    "    maxa=1\n",
    "    maxb=1\n",
    "    counta=0\n",
    "    countb=0\n",
    "    #for i in range(2,math.floor(math.sqrt(a))):\n",
    "    for i in range(2,a):\n",
    "        if a%i==0: #can club both divisibility tests together to avoid complexity\n",
    "            maxa=i\n",
    "            counta+=1\n",
    "    #for i in range(2,math.floor(math.sqrt(b))):\n",
    "    for i in range(2,b):\n",
    "        if b%i==0: #can club both divisibility tests together to avoid complexity\n",
    "            maxb=i\n",
    "            countb+=1\n",
    "    if maxa==maxb:\n",
    "        print(2)#a to maxa/maxb to b\n",
    "    else:\n",
    "        if counta>countb:\n",
    "            print(counta)\n",
    "        else:\n",
    "            print(countb)               "
   ]
  },
  {
   "cell_type": "code",
   "execution_count": null,
   "metadata": {},
   "outputs": [],
   "source": []
  }
 ],
 "metadata": {
  "kernelspec": {
   "display_name": "Python 3",
   "language": "python",
   "name": "python3"
  },
  "language_info": {
   "codemirror_mode": {
    "name": "ipython",
    "version": 3
   },
   "file_extension": ".py",
   "mimetype": "text/x-python",
   "name": "python",
   "nbconvert_exporter": "python",
   "pygments_lexer": "ipython3",
   "version": "3.7.3"
  }
 },
 "nbformat": 4,
 "nbformat_minor": 2
}
