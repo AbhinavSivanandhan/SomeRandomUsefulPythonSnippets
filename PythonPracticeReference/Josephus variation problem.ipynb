{
 "cells": [
  {
   "cell_type": "code",
   "execution_count": null,
   "metadata": {},
   "outputs": [],
   "source": [
    "Family Game\n",
    "In this lockdown a family of N members decided to play a game the rules of which are :-\n",
    "\n",
    "All N members are made to sit uniformly in a circle (ie. from 1 to N in clockwise direction).\n",
    "The game start with the person sitting at first position.\n",
    "A song is played in the background. The lyrics of the song are denoted by a string which consists of only letters 'x' and 'y'. Assume that each lyric of the song is a single letter. \n",
    "If the lyric 'x' occurs in the song, the member who is currently holding the Parcel passes it on to the next member. This passing takes place in clockwise direction.\n",
    "If the lyric 'y' occurs in the song, the member who is currently holding the Parcel loses his/her chances of winning the game. He/she hands over the parcel to the next member (in clockwise direction) and moves out.\n",
    "The game continues until a single member survives in the end. He/she will be the winner of the game.\n",
    "Note that the song repeats continuously ie. while the game is going on, if at all the song ends, the stereo system will automatically start playing the song from the start without any delay.\n",
    "You have to find out the member who wins the game."
   ]
  },
  {
   "cell_type": "code",
   "execution_count": 1,
   "metadata": {},
   "outputs": [
    {
     "ename": "IndentationError",
     "evalue": "expected an indented block (<ipython-input-1-3c23286da93d>, line 15)",
     "output_type": "error",
     "traceback": [
      "\u001b[1;36m  File \u001b[1;32m\"<ipython-input-1-3c23286da93d>\"\u001b[1;36m, line \u001b[1;32m15\u001b[0m\n\u001b[1;33m    if s[index%n]=='x':\u001b[0m\n\u001b[1;37m     ^\u001b[0m\n\u001b[1;31mIndentationError\u001b[0m\u001b[1;31m:\u001b[0m expected an indented block\n"
     ]
    }
   ],
   "source": [
    "n=int(input())\n",
    "\n",
    "s=input()#.split()\n",
    "index=0\n",
    "curr=0\n",
    "ring={}\n",
    "\n",
    "for i in range(n):\n",
    "    ring[i]=True\n",
    "m=n\n",
    "while(m!=1):\n",
    "    if ring[curr%n]==False:\n",
    "        curr+=1;\n",
    "    else:\n",
    "    if s[index%n]=='x':\n",
    "        pass\n",
    "    else:\n",
    "        ring[curr%n]=False\n",
    "        m-=1\n",
    "    index+=1\n",
    "    curr+=1\n",
    "for i in ring:\n",
    "    if ring[i]==True:\n",
    "        print(i+1)\n",
    "        break"
   ]
  },
  {
   "cell_type": "code",
   "execution_count": null,
   "metadata": {},
   "outputs": [],
   "source": []
  }
 ],
 "metadata": {
  "kernelspec": {
   "display_name": "Python 3",
   "language": "python",
   "name": "python3"
  },
  "language_info": {
   "codemirror_mode": {
    "name": "ipython",
    "version": 3
   },
   "file_extension": ".py",
   "mimetype": "text/x-python",
   "name": "python",
   "nbconvert_exporter": "python",
   "pygments_lexer": "ipython3",
   "version": "3.7.3"
  }
 },
 "nbformat": 4,
 "nbformat_minor": 2
}
