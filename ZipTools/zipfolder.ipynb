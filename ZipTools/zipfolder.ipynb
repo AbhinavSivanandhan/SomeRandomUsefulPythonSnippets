{
 "cells": [
  {
   "cell_type": "code",
   "execution_count": 1,
   "metadata": {},
   "outputs": [
    {
     "name": "stdout",
     "output_type": "stream",
     "text": [
      "Following files will be zipped:\n",
      "./ML_Results\\Extrapolation_vs_NewData_Comparison\\Best_HoldOut_Trial\\Extrapolate.ipynb\n",
      "./ML_Results\\Extrapolation_vs_NewData_Comparison\\Best_HoldOut_Trial\\NewDataTrial.ipynb\n",
      "./ML_Results\\Extrapolation_vs_NewData_Comparison\\Worst_HoldOut_trial\\4thNewDataTrial-CATGB.ipynb\n",
      "./ML_Results\\Extrapolation_vs_NewData_Comparison\\Worst_HoldOut_trial\\4thNewDataTrial-Ensemble_RF_XGB-Copy1.ipynb\n",
      "./ML_Results\\Extrapolation_vs_NewData_Comparison\\Worst_HoldOut_trial\\4thNewDataTrial-Ensemble_RF_XGB-Copy2.ipynb\n",
      "./ML_Results\\Extrapolation_vs_NewData_Comparison\\Worst_HoldOut_trial\\4thNewDataTrial-Ensemble_RF_XGB.ipynb\n",
      "./ML_Results\\Extrapolation_vs_NewData_Comparison\\Worst_HoldOut_trial\\4thNewDataTrial-RF.ipynb\n",
      "./ML_Results\\Extrapolation_vs_NewData_Comparison\\Worst_HoldOut_trial\\4thNewDataTrial-XGB.ipynb\n",
      "./ML_Results\\Extrapolation_vs_NewData_Comparison\\Worst_HoldOut_trial\\4thNewDataTrial.ipynb\n",
      "./ML_Results\\Extrapolation_vs_NewData_Comparison\\Worst_HoldOut_trial\\OnePerModel-Extrapolate.ipynb\n",
      "./ML_Results\\General_Results\\DisMaxPrediction.ipynb\n",
      "./ML_Results\\General_Results\\HyperParameterTuning Successful-Final Results for GB.ipynb\n",
      "./ML_Results\\General_Results\\KFold_Results.ipynb\n",
      "./ML_Results\\General_Results\\StressMaxPrediction.ipynb\n",
      "./ML_Results\\HoldOutTrials_80_20_Split\\1stNewDataTrial.ipynb\n",
      "./ML_Results\\HoldOutTrials_80_20_Split\\2ndNewDataTrial.ipynb\n",
      "./ML_Results\\HoldOutTrials_80_20_Split\\3rdNewDataTrial.ipynb\n",
      "./ML_Results\\HoldOutTrials_80_20_Split\\4thNewDataTrial.ipynb\n",
      "./ML_Results\\HoldOutTrials_80_20_Split\\5thNewDataTrial.ipynb\n",
      "./ML_Results\\HoldOutTrials_80_20_Split\\NewDataTrial-Copy-ButNoticeResultChanges-IncludeMultiprocessing.ipynb\n",
      "./ML_Results\\New_Data_Trial_All_Algorithms\\Ensemble of Ensembles - Voting Regressor.ipynb\n",
      "./ML_Results\\New_Data_Trial_All_Algorithms\\GB_Best_Result_Nov17.ipynb\n",
      "./ML_Results\\New_Data_Trial_All_Algorithms\\NewDataTrial-CatBoost-Hyperparameters.ipynb\n",
      "./ML_Results\\New_Data_Trial_All_Algorithms\\NewDataTrial-CatBoost.ipynb\n",
      "./ML_Results\\New_Data_Trial_All_Algorithms\\NewDataTrial-Ensemble_of_Ensemble-XGB_RR_Weighted.ipynb\n",
      "./ML_Results\\New_Data_Trial_All_Algorithms\\NewDataTrial-Ensemble_of_Ensemble.ipynb\n",
      "./ML_Results\\New_Data_Trial_All_Algorithms\\NewDataTrial-GradientBoosting-Metrics.ipynb\n",
      "./ML_Results\\New_Data_Trial_All_Algorithms\\NewDataTrial-GradientBoosting.ipynb\n",
      "./ML_Results\\New_Data_Trial_All_Algorithms\\NewDataTrial-LGB.ipynb\n",
      "./ML_Results\\New_Data_Trial_All_Algorithms\\NewDataTrial-r2score_as_confidence.ipynb\n",
      "./ML_Results\\New_Data_Trial_All_Algorithms\\NewDataTrial-RandomForestSuccessful-HyperParametersTuned.ipynb\n",
      "./ML_Results\\New_Data_Trial_All_Algorithms\\NewDataTrial-RandomForestSuccessful.ipynb\n",
      "./ML_Results\\New_Data_Trial_All_Algorithms\\NewDataTrial-XGBoost-HyperparametersTuned.ipynb\n",
      "./ML_Results\\New_Data_Trial_All_Algorithms\\NewDataTrial-XGBoost.ipynb\n",
      "./ML_Results\\New_Data_Trial_All_Algorithms\\NewDataTrial.ipynb\n",
      "All files zipped successfully!\n"
     ]
    }
   ],
   "source": [
    "# importing required modules \n",
    "from zipfile import ZipFile \n",
    "import os \n",
    "  \n",
    "def get_all_file_paths(directory): \n",
    "  \n",
    "    # initializing empty file paths list \n",
    "    file_paths = [] \n",
    "  \n",
    "    # crawling through directory and subdirectories \n",
    "    for root, directories, files in os.walk(directory): \n",
    "        for filename in files: \n",
    "            # join the two strings in order to form the full filepath. \n",
    "            filepath = os.path.join(root, filename) \n",
    "            file_paths.append(filepath) \n",
    "  \n",
    "    # returning all file paths \n",
    "    return file_paths         \n",
    "  \n",
    "def main(): \n",
    "    # path to folder which needs to be zipped \n",
    "    directory = './ML_Results'\n",
    "  \n",
    "    # calling function to get all file paths in the directory \n",
    "    file_paths = get_all_file_paths(directory) \n",
    "  \n",
    "    # printing the list of all files to be zipped \n",
    "    print('Following files will be zipped:') \n",
    "    for file_name in file_paths: \n",
    "        print(file_name) \n",
    "  \n",
    "    # writing files to a zipfile \n",
    "    with ZipFile('my_python_files.zip','w') as zip: \n",
    "        # writing each file one by one \n",
    "        for file in file_paths: \n",
    "            zip.write(file) \n",
    "  \n",
    "    print('All files zipped successfully!')         \n",
    "  \n",
    "  \n",
    "if __name__ == \"__main__\": \n",
    "    main() "
   ]
  },
  {
   "cell_type": "code",
   "execution_count": null,
   "metadata": {},
   "outputs": [],
   "source": []
  }
 ],
 "metadata": {
  "kernelspec": {
   "display_name": "Python 3",
   "language": "python",
   "name": "python3"
  },
  "language_info": {
   "codemirror_mode": {
    "name": "ipython",
    "version": 3
   },
   "file_extension": ".py",
   "mimetype": "text/x-python",
   "name": "python",
   "nbconvert_exporter": "python",
   "pygments_lexer": "ipython3",
   "version": "3.8.3"
  }
 },
 "nbformat": 4,
 "nbformat_minor": 4
}
